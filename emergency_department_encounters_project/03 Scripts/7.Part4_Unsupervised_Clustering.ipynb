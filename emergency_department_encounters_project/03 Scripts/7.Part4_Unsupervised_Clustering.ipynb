{
 "cells": [
  {
   "cell_type": "markdown",
   "source": [
    "### This script contains the following sections:\n",
    "\n",
    "#### 1. Importing libraries and data and renaming columns\n",
    "#### 2. Preprocessing\n",
    "#### 3. The elbow technique to identify optimum k size\n",
    "#### 4. k-means clustering \n",
    "#### 5. Kmeans Visualizations and comments"
   ],
   "metadata": {}
  },
  {
   "cell_type": "markdown",
   "source": [
    "## 1. Imports"
   ],
   "metadata": {}
  },
  {
   "cell_type": "code",
   "execution_count": 1,
   "source": [
    "import pandas as pd\r\n",
    "import numpy as np\r\n",
    "import os\r\n",
    "\r\n",
    "import seaborn as sns\r\n",
    "import matplotlib\r\n",
    "import matplotlib.pyplot as plt\r\n",
    "\r\n",
    "from sklearn.preprocessing import StandardScaler\r\n",
    "import sklearn\r\n",
    "from sklearn.cluster import KMeans \r\n",
    "import pylab as pl # PyLab is a convenience module that bulk imports matplotlib.\r\n",
    "\r\n",
    "%matplotlib inline"
   ],
   "outputs": [],
   "metadata": {
    "ExecuteTime": {
     "end_time": "2021-09-13T05:27:46.550401Z",
     "start_time": "2021-09-13T05:27:45.238677Z"
    }
   }
  },
  {
   "cell_type": "code",
   "execution_count": 4,
   "source": [
    "path = r'C:\\Users\\\\Achievement 6\\data_emergency_ex6.1'\r\n",
    "data_path = r'C:\\Users\\ncvc04\\\\Achievement 6\\data_emergency_ex6.1\\02 Data'"
   ],
   "outputs": [],
   "metadata": {
    "ExecuteTime": {
     "end_time": "2021-09-13T05:28:47.040657Z",
     "start_time": "2021-09-13T05:28:47.029658Z"
    }
   }
  },
  {
   "cell_type": "code",
   "execution_count": 5,
   "source": [
    "#import df\r\n",
    "df = pd.read_csv(os.path.join(data_path,'Prepared','3.data_join_facilities.csv'))\r\n",
    "df.head(2)"
   ],
   "outputs": [
    {
     "output_type": "execute_result",
     "data": {
      "text/html": [
       "<div>\n",
       "<style scoped>\n",
       "    .dataframe tbody tr th:only-of-type {\n",
       "        vertical-align: middle;\n",
       "    }\n",
       "\n",
       "    .dataframe tbody tr th {\n",
       "        vertical-align: top;\n",
       "    }\n",
       "\n",
       "    .dataframe thead th {\n",
       "        text-align: right;\n",
       "    }\n",
       "</style>\n",
       "<table border=\"1\" class=\"dataframe\">\n",
       "  <thead>\n",
       "    <tr style=\"text-align: right;\">\n",
       "      <th></th>\n",
       "      <th>year</th>\n",
       "      <th>oshpd_id</th>\n",
       "      <th>county_number</th>\n",
       "      <th>county_name</th>\n",
       "      <th>facility_name</th>\n",
       "      <th>dba_address1</th>\n",
       "      <th>dba_city</th>\n",
       "      <th>dba_zip_code</th>\n",
       "      <th>license_category_desc</th>\n",
       "      <th>teaching_hospital_desc</th>\n",
       "      <th>...</th>\n",
       "      <th>medi_cal</th>\n",
       "      <th>medicare</th>\n",
       "      <th>other_payer</th>\n",
       "      <th>private_coverage</th>\n",
       "      <th>selfpay</th>\n",
       "      <th>all_other</th>\n",
       "      <th>english</th>\n",
       "      <th>spanish</th>\n",
       "      <th>ed_admit</th>\n",
       "      <th>ed_visit</th>\n",
       "    </tr>\n",
       "  </thead>\n",
       "  <tbody>\n",
       "    <tr>\n",
       "      <th>0</th>\n",
       "      <td>2012</td>\n",
       "      <td>106010735</td>\n",
       "      <td>1</td>\n",
       "      <td>Alameda</td>\n",
       "      <td>ALAMEDA HOSPITAL</td>\n",
       "      <td>2070 CLINTON</td>\n",
       "      <td>ALAMEDA</td>\n",
       "      <td>94501</td>\n",
       "      <td>General Acute Care</td>\n",
       "      <td>0.0</td>\n",
       "      <td>...</td>\n",
       "      <td>549.0</td>\n",
       "      <td>2740.0</td>\n",
       "      <td>3469.0</td>\n",
       "      <td>4339.0</td>\n",
       "      <td>0.0</td>\n",
       "      <td>522.0</td>\n",
       "      <td>12918.0</td>\n",
       "      <td>287.0</td>\n",
       "      <td>2595.0</td>\n",
       "      <td>13727.0</td>\n",
       "    </tr>\n",
       "    <tr>\n",
       "      <th>1</th>\n",
       "      <td>2012</td>\n",
       "      <td>106010739</td>\n",
       "      <td>1</td>\n",
       "      <td>Alameda</td>\n",
       "      <td>ALTA BATES SUMMIT MEDICAL CENTER-ALTA BATES CA...</td>\n",
       "      <td>2450 ASHBY STREET</td>\n",
       "      <td>BERKELEY</td>\n",
       "      <td>94705</td>\n",
       "      <td>General Acute Care</td>\n",
       "      <td>0.0</td>\n",
       "      <td>...</td>\n",
       "      <td>8613.0</td>\n",
       "      <td>5707.0</td>\n",
       "      <td>1877.0</td>\n",
       "      <td>12926.0</td>\n",
       "      <td>0.0</td>\n",
       "      <td>534.0</td>\n",
       "      <td>33867.0</td>\n",
       "      <td>941.0</td>\n",
       "      <td>6047.0</td>\n",
       "      <td>35342.0</td>\n",
       "    </tr>\n",
       "  </tbody>\n",
       "</table>\n",
       "<p>2 rows × 52 columns</p>\n",
       "</div>"
      ],
      "text/plain": [
       "   year   oshpd_id  county_number county_name  \\\n",
       "0  2012  106010735              1     Alameda   \n",
       "1  2012  106010739              1     Alameda   \n",
       "\n",
       "                                       facility_name       dba_address1  \\\n",
       "0                                   ALAMEDA HOSPITAL       2070 CLINTON   \n",
       "1  ALTA BATES SUMMIT MEDICAL CENTER-ALTA BATES CA...  2450 ASHBY STREET   \n",
       "\n",
       "   dba_city  dba_zip_code license_category_desc  teaching_hospital_desc  ...  \\\n",
       "0   ALAMEDA         94501    General Acute Care                     0.0  ...   \n",
       "1  BERKELEY         94705    General Acute Care                     0.0  ...   \n",
       "\n",
       "  medi_cal medicare  other_payer  private_coverage  selfpay  all_other  \\\n",
       "0    549.0   2740.0       3469.0            4339.0      0.0      522.0   \n",
       "1   8613.0   5707.0       1877.0           12926.0      0.0      534.0   \n",
       "\n",
       "   english  spanish  ed_admit  ed_visit  \n",
       "0  12918.0    287.0    2595.0   13727.0  \n",
       "1  33867.0    941.0    6047.0   35342.0  \n",
       "\n",
       "[2 rows x 52 columns]"
      ]
     },
     "metadata": {},
     "execution_count": 5
    }
   ],
   "metadata": {
    "ExecuteTime": {
     "end_time": "2021-09-13T05:28:49.687226Z",
     "start_time": "2021-09-13T05:28:49.646209Z"
    }
   }
  },
  {
   "cell_type": "code",
   "execution_count": 6,
   "source": [
    "df.columns"
   ],
   "outputs": [
    {
     "output_type": "execute_result",
     "data": {
      "text/plain": [
       "Index(['year', 'oshpd_id', 'county_number', 'county_name', 'facility_name',\n",
       "       'dba_address1', 'dba_city', 'dba_zip_code', 'license_category_desc',\n",
       "       'teaching_hospital_desc', 'licensed_bed_size', 'er_service_level',\n",
       "       'sex_male', 'sex_female', 'sex_unk', 'age_01_09', 'age_10_19',\n",
       "       'age_20_29', 'age_30_39', 'age_40_49', 'age_50_59', 'age_60_69',\n",
       "       'age_70_79', 'age_80_', 'age_under_1', 'age_unknown',\n",
       "       'asian_pacific_island', 'black', 'hispanic', 'native_american_eski',\n",
       "       'other_race', 'unknown_race', 'white', 'acute_care',\n",
       "       'against_medical_advice', 'died', 'hospice_care', 'home_health_service',\n",
       "       'residential_care', 'routine', 'psychiatric_care', 'sn_ic_care',\n",
       "       'medi_cal', 'medicare', 'other_payer', 'private_coverage', 'selfpay',\n",
       "       'all_other', 'english', 'spanish', 'ed_admit', 'ed_visit'],\n",
       "      dtype='object')"
      ]
     },
     "metadata": {},
     "execution_count": 6
    }
   ],
   "metadata": {
    "ExecuteTime": {
     "end_time": "2021-09-13T05:28:54.379499Z",
     "start_time": "2021-09-13T05:28:54.365499Z"
    },
    "scrolled": true
   }
  },
  {
   "cell_type": "code",
   "execution_count": 7,
   "source": [
    "df.isna().sum()"
   ],
   "outputs": [
    {
     "output_type": "execute_result",
     "data": {
      "text/plain": [
       "year                      0\n",
       "oshpd_id                  0\n",
       "county_number             0\n",
       "county_name               0\n",
       "facility_name             0\n",
       "dba_address1              0\n",
       "dba_city                  0\n",
       "dba_zip_code              0\n",
       "license_category_desc     0\n",
       "teaching_hospital_desc    0\n",
       "licensed_bed_size         0\n",
       "er_service_level          0\n",
       "sex_male                  0\n",
       "sex_female                0\n",
       "sex_unk                   0\n",
       "age_01_09                 0\n",
       "age_10_19                 0\n",
       "age_20_29                 0\n",
       "age_30_39                 0\n",
       "age_40_49                 0\n",
       "age_50_59                 0\n",
       "age_60_69                 0\n",
       "age_70_79                 0\n",
       "age_80_                   0\n",
       "age_under_1               0\n",
       "age_unknown               0\n",
       "asian_pacific_island      0\n",
       "black                     0\n",
       "hispanic                  0\n",
       "native_american_eski      0\n",
       "other_race                0\n",
       "unknown_race              0\n",
       "white                     0\n",
       "acute_care                0\n",
       "against_medical_advice    0\n",
       "died                      0\n",
       "hospice_care              0\n",
       "home_health_service       0\n",
       "residential_care          0\n",
       "routine                   0\n",
       "psychiatric_care          0\n",
       "sn_ic_care                0\n",
       "medi_cal                  0\n",
       "medicare                  0\n",
       "other_payer               0\n",
       "private_coverage          0\n",
       "selfpay                   0\n",
       "all_other                 0\n",
       "english                   0\n",
       "spanish                   0\n",
       "ed_admit                  0\n",
       "ed_visit                  0\n",
       "dtype: int64"
      ]
     },
     "metadata": {},
     "execution_count": 7
    }
   ],
   "metadata": {
    "ExecuteTime": {
     "end_time": "2021-09-13T05:28:57.418022Z",
     "start_time": "2021-09-13T05:28:57.405020Z"
    },
    "scrolled": true
   }
  },
  {
   "cell_type": "markdown",
   "source": [
    "## 2. Preprocessing"
   ],
   "metadata": {}
  },
  {
   "cell_type": "code",
   "execution_count": 8,
   "source": [
    "#Remove NA values in numeric columns since they are from a similar facility and the column count is very low for NA values\r\n",
    "df.dropna(axis = 0, subset = ['ed_admit'], how = 'any', inplace = True)"
   ],
   "outputs": [],
   "metadata": {
    "ExecuteTime": {
     "end_time": "2021-09-13T05:29:05.678517Z",
     "start_time": "2021-09-13T05:29:05.654038Z"
    }
   }
  },
  {
   "cell_type": "code",
   "execution_count": 9,
   "source": [
    "df.isna().sum()"
   ],
   "outputs": [
    {
     "output_type": "execute_result",
     "data": {
      "text/plain": [
       "year                      0\n",
       "oshpd_id                  0\n",
       "county_number             0\n",
       "county_name               0\n",
       "facility_name             0\n",
       "dba_address1              0\n",
       "dba_city                  0\n",
       "dba_zip_code              0\n",
       "license_category_desc     0\n",
       "teaching_hospital_desc    0\n",
       "licensed_bed_size         0\n",
       "er_service_level          0\n",
       "sex_male                  0\n",
       "sex_female                0\n",
       "sex_unk                   0\n",
       "age_01_09                 0\n",
       "age_10_19                 0\n",
       "age_20_29                 0\n",
       "age_30_39                 0\n",
       "age_40_49                 0\n",
       "age_50_59                 0\n",
       "age_60_69                 0\n",
       "age_70_79                 0\n",
       "age_80_                   0\n",
       "age_under_1               0\n",
       "age_unknown               0\n",
       "asian_pacific_island      0\n",
       "black                     0\n",
       "hispanic                  0\n",
       "native_american_eski      0\n",
       "other_race                0\n",
       "unknown_race              0\n",
       "white                     0\n",
       "acute_care                0\n",
       "against_medical_advice    0\n",
       "died                      0\n",
       "hospice_care              0\n",
       "home_health_service       0\n",
       "residential_care          0\n",
       "routine                   0\n",
       "psychiatric_care          0\n",
       "sn_ic_care                0\n",
       "medi_cal                  0\n",
       "medicare                  0\n",
       "other_payer               0\n",
       "private_coverage          0\n",
       "selfpay                   0\n",
       "all_other                 0\n",
       "english                   0\n",
       "spanish                   0\n",
       "ed_admit                  0\n",
       "ed_visit                  0\n",
       "dtype: int64"
      ]
     },
     "metadata": {},
     "execution_count": 9
    }
   ],
   "metadata": {
    "ExecuteTime": {
     "end_time": "2021-09-13T05:29:13.288692Z",
     "start_time": "2021-09-13T05:29:13.269692Z"
    },
    "scrolled": true
   }
  },
  {
   "cell_type": "code",
   "execution_count": 10,
   "source": [
    "sns.histplot(df['ed_visit']);"
   ],
   "outputs": [
    {
     "output_type": "display_data",
     "data": {
      "image/png": "[encoded data removed]",
      "text/plain": [
       "<Figure size 432x288 with 1 Axes>"
      ]
     },
     "metadata": {
      "needs_background": "light"
     }
    }
   ],
   "metadata": {
    "ExecuteTime": {
     "end_time": "2021-09-13T05:29:16.692604Z",
     "start_time": "2021-09-13T05:29:16.532693Z"
    },
    "scrolled": true
   }
  },
  {
   "cell_type": "code",
   "execution_count": 11,
   "source": [
    "#check which hospitals have high ed visits. Do more than on facility have high ed visits?\r\n",
    "\r\n",
    "(df[df['ed_visit'] > 120000])"
   ],
   "outputs": [
    {
     "output_type": "execute_result",
     "data": {
      "text/html": [
       "<div>\n",
       "<style scoped>\n",
       "    .dataframe tbody tr th:only-of-type {\n",
       "        vertical-align: middle;\n",
       "    }\n",
       "\n",
       "    .dataframe tbody tr th {\n",
       "        vertical-align: top;\n",
       "    }\n",
       "\n",
       "    .dataframe thead th {\n",
       "        text-align: right;\n",
       "    }\n",
       "</style>\n",
       "<table border=\"1\" class=\"dataframe\">\n",
       "  <thead>\n",
       "    <tr style=\"text-align: right;\">\n",
       "      <th></th>\n",
       "      <th>year</th>\n",
       "      <th>oshpd_id</th>\n",
       "      <th>county_number</th>\n",
       "      <th>county_name</th>\n",
       "      <th>facility_name</th>\n",
       "      <th>dba_address1</th>\n",
       "      <th>dba_city</th>\n",
       "      <th>dba_zip_code</th>\n",
       "      <th>license_category_desc</th>\n",
       "      <th>teaching_hospital_desc</th>\n",
       "      <th>...</th>\n",
       "      <th>medi_cal</th>\n",
       "      <th>medicare</th>\n",
       "      <th>other_payer</th>\n",
       "      <th>private_coverage</th>\n",
       "      <th>selfpay</th>\n",
       "      <th>all_other</th>\n",
       "      <th>english</th>\n",
       "      <th>spanish</th>\n",
       "      <th>ed_admit</th>\n",
       "      <th>ed_visit</th>\n",
       "    </tr>\n",
       "  </thead>\n",
       "  <tbody>\n",
       "    <tr>\n",
       "      <th>129</th>\n",
       "      <td>2012</td>\n",
       "      <td>106191228</td>\n",
       "      <td>19</td>\n",
       "      <td>Los Angeles</td>\n",
       "      <td>LAC+USC MEDICAL CENTER</td>\n",
       "      <td>1200 NORTH STATE STREET</td>\n",
       "      <td>LOS ANGELES</td>\n",
       "      <td>90033</td>\n",
       "      <td>General Acute Care</td>\n",
       "      <td>1.0</td>\n",
       "      <td>...</td>\n",
       "      <td>38347.0</td>\n",
       "      <td>3984.0</td>\n",
       "      <td>41437.0</td>\n",
       "      <td>4041.0</td>\n",
       "      <td>0.0</td>\n",
       "      <td>3117.0</td>\n",
       "      <td>67300.0</td>\n",
       "      <td>49942.0</td>\n",
       "      <td>24362.0</td>\n",
       "      <td>120359.0</td>\n",
       "    </tr>\n",
       "    <tr>\n",
       "      <th>453</th>\n",
       "      <td>2013</td>\n",
       "      <td>106191228</td>\n",
       "      <td>19</td>\n",
       "      <td>Los Angeles</td>\n",
       "      <td>LAC+USC MEDICAL CENTER</td>\n",
       "      <td>1200 NORTH STATE STREET</td>\n",
       "      <td>LOS ANGELES</td>\n",
       "      <td>90033</td>\n",
       "      <td>General Acute Care</td>\n",
       "      <td>1.0</td>\n",
       "      <td>...</td>\n",
       "      <td>41351.0</td>\n",
       "      <td>4625.0</td>\n",
       "      <td>46254.0</td>\n",
       "      <td>4070.0</td>\n",
       "      <td>0.0</td>\n",
       "      <td>3268.0</td>\n",
       "      <td>72299.0</td>\n",
       "      <td>49817.0</td>\n",
       "      <td>22751.0</td>\n",
       "      <td>125384.0</td>\n",
       "    </tr>\n",
       "    <tr>\n",
       "      <th>863</th>\n",
       "      <td>2014</td>\n",
       "      <td>106361223</td>\n",
       "      <td>36</td>\n",
       "      <td>San Bernardino</td>\n",
       "      <td>KAISER FOUNDATION HOSPITAL - FONTANA</td>\n",
       "      <td>9961 SIERRA AVENUE</td>\n",
       "      <td>FONTANA</td>\n",
       "      <td>92335</td>\n",
       "      <td>General Acute Care</td>\n",
       "      <td>0.0</td>\n",
       "      <td>...</td>\n",
       "      <td>25894.0</td>\n",
       "      <td>21118.0</td>\n",
       "      <td>342.0</td>\n",
       "      <td>56312.0</td>\n",
       "      <td>20619.0</td>\n",
       "      <td>1076.0</td>\n",
       "      <td>110326.0</td>\n",
       "      <td>12886.0</td>\n",
       "      <td>13615.0</td>\n",
       "      <td>124288.0</td>\n",
       "    </tr>\n",
       "    <tr>\n",
       "      <th>1188</th>\n",
       "      <td>2015</td>\n",
       "      <td>106361223</td>\n",
       "      <td>36</td>\n",
       "      <td>San Bernardino</td>\n",
       "      <td>KAISER FOUNDATION HOSPITAL - FONTANA</td>\n",
       "      <td>9961 SIERRA AVENUE</td>\n",
       "      <td>FONTANA</td>\n",
       "      <td>92335</td>\n",
       "      <td>General Acute Care</td>\n",
       "      <td>0.0</td>\n",
       "      <td>...</td>\n",
       "      <td>33614.0</td>\n",
       "      <td>22674.0</td>\n",
       "      <td>538.0</td>\n",
       "      <td>53609.0</td>\n",
       "      <td>17307.0</td>\n",
       "      <td>1055.0</td>\n",
       "      <td>112837.0</td>\n",
       "      <td>13864.0</td>\n",
       "      <td>14235.0</td>\n",
       "      <td>127756.0</td>\n",
       "    </tr>\n",
       "    <tr>\n",
       "      <th>1508</th>\n",
       "      <td>2016</td>\n",
       "      <td>106361223</td>\n",
       "      <td>36</td>\n",
       "      <td>San Bernardino</td>\n",
       "      <td>KAISER FOUNDATION HOSPITAL - FONTANA</td>\n",
       "      <td>9961 SIERRA AVENUE</td>\n",
       "      <td>FONTANA</td>\n",
       "      <td>92335</td>\n",
       "      <td>Hospital</td>\n",
       "      <td>0.0</td>\n",
       "      <td>...</td>\n",
       "      <td>41164.0</td>\n",
       "      <td>24019.0</td>\n",
       "      <td>441.0</td>\n",
       "      <td>53625.0</td>\n",
       "      <td>9474.0</td>\n",
       "      <td>1111.0</td>\n",
       "      <td>113739.0</td>\n",
       "      <td>13892.0</td>\n",
       "      <td>15044.0</td>\n",
       "      <td>128742.0</td>\n",
       "    </tr>\n",
       "    <tr>\n",
       "      <th>1827</th>\n",
       "      <td>2017</td>\n",
       "      <td>106361223</td>\n",
       "      <td>36</td>\n",
       "      <td>San Bernardino</td>\n",
       "      <td>KAISER FOUNDATION HOSPITAL - FONTANA</td>\n",
       "      <td>9961 SIERRA AVENUE</td>\n",
       "      <td>FONTANA</td>\n",
       "      <td>92335</td>\n",
       "      <td>General Acute Care</td>\n",
       "      <td>0.0</td>\n",
       "      <td>...</td>\n",
       "      <td>41628.0</td>\n",
       "      <td>25517.0</td>\n",
       "      <td>484.0</td>\n",
       "      <td>52600.0</td>\n",
       "      <td>6806.0</td>\n",
       "      <td>1184.0</td>\n",
       "      <td>111941.0</td>\n",
       "      <td>13949.0</td>\n",
       "      <td>15235.0</td>\n",
       "      <td>127074.0</td>\n",
       "    </tr>\n",
       "    <tr>\n",
       "      <th>2060</th>\n",
       "      <td>2018</td>\n",
       "      <td>106191228</td>\n",
       "      <td>19</td>\n",
       "      <td>Los Angeles</td>\n",
       "      <td>LAC+USC MEDICAL CENTER</td>\n",
       "      <td>1200 NORTH STATE STREET</td>\n",
       "      <td>LOS ANGELES</td>\n",
       "      <td>90033</td>\n",
       "      <td>General Acute Care</td>\n",
       "      <td>1.0</td>\n",
       "      <td>...</td>\n",
       "      <td>91417.0</td>\n",
       "      <td>9057.0</td>\n",
       "      <td>10515.0</td>\n",
       "      <td>6042.0</td>\n",
       "      <td>8482.0</td>\n",
       "      <td>2985.0</td>\n",
       "      <td>69969.0</td>\n",
       "      <td>52741.0</td>\n",
       "      <td>22297.0</td>\n",
       "      <td>125695.0</td>\n",
       "    </tr>\n",
       "    <tr>\n",
       "      <th>2147</th>\n",
       "      <td>2018</td>\n",
       "      <td>106361223</td>\n",
       "      <td>36</td>\n",
       "      <td>San Bernardino</td>\n",
       "      <td>KAISER FOUNDATION HOSPITAL - FONTANA</td>\n",
       "      <td>9961 SIERRA AVENUE</td>\n",
       "      <td>FONTANA</td>\n",
       "      <td>92335</td>\n",
       "      <td>General Acute Care</td>\n",
       "      <td>0.0</td>\n",
       "      <td>...</td>\n",
       "      <td>39093.0</td>\n",
       "      <td>26093.0</td>\n",
       "      <td>432.0</td>\n",
       "      <td>55065.0</td>\n",
       "      <td>7521.0</td>\n",
       "      <td>1176.0</td>\n",
       "      <td>113505.0</td>\n",
       "      <td>13550.0</td>\n",
       "      <td>15624.0</td>\n",
       "      <td>128231.0</td>\n",
       "    </tr>\n",
       "    <tr>\n",
       "      <th>2266</th>\n",
       "      <td>2019</td>\n",
       "      <td>106014326</td>\n",
       "      <td>1</td>\n",
       "      <td>Alameda</td>\n",
       "      <td>KAISER FOUNDATION HOSPITAL - OAKLAND/RICHMOND</td>\n",
       "      <td>275 W Macarthur Blvd</td>\n",
       "      <td>Oakland</td>\n",
       "      <td>94611</td>\n",
       "      <td>General Acute Care</td>\n",
       "      <td>0.0</td>\n",
       "      <td>...</td>\n",
       "      <td>32584.0</td>\n",
       "      <td>24808.0</td>\n",
       "      <td>2413.0</td>\n",
       "      <td>49419.0</td>\n",
       "      <td>12165.0</td>\n",
       "      <td>3195.0</td>\n",
       "      <td>107747.0</td>\n",
       "      <td>10374.0</td>\n",
       "      <td>11669.0</td>\n",
       "      <td>121399.0</td>\n",
       "    </tr>\n",
       "    <tr>\n",
       "      <th>2377</th>\n",
       "      <td>2019</td>\n",
       "      <td>106191228</td>\n",
       "      <td>19</td>\n",
       "      <td>Los Angeles</td>\n",
       "      <td>LAC+USC MEDICAL CENTER</td>\n",
       "      <td>1200 N State St</td>\n",
       "      <td>Los Angeles</td>\n",
       "      <td>90033</td>\n",
       "      <td>General Acute Care</td>\n",
       "      <td>1.0</td>\n",
       "      <td>...</td>\n",
       "      <td>91371.0</td>\n",
       "      <td>8937.0</td>\n",
       "      <td>9961.0</td>\n",
       "      <td>6111.0</td>\n",
       "      <td>10577.0</td>\n",
       "      <td>2340.0</td>\n",
       "      <td>68766.0</td>\n",
       "      <td>55149.0</td>\n",
       "      <td>24275.0</td>\n",
       "      <td>126957.0</td>\n",
       "    </tr>\n",
       "    <tr>\n",
       "      <th>2432</th>\n",
       "      <td>2019</td>\n",
       "      <td>106314024</td>\n",
       "      <td>31</td>\n",
       "      <td>Placer</td>\n",
       "      <td>KAISER FOUNDATION HOSPITAL - ROSEVILLE</td>\n",
       "      <td>1600 Eureka Rd</td>\n",
       "      <td>Roseville</td>\n",
       "      <td>95661</td>\n",
       "      <td>General Acute Care</td>\n",
       "      <td>0.0</td>\n",
       "      <td>...</td>\n",
       "      <td>23688.0</td>\n",
       "      <td>31343.0</td>\n",
       "      <td>1616.0</td>\n",
       "      <td>57082.0</td>\n",
       "      <td>6852.0</td>\n",
       "      <td>2772.0</td>\n",
       "      <td>114941.0</td>\n",
       "      <td>2803.0</td>\n",
       "      <td>12557.0</td>\n",
       "      <td>120582.0</td>\n",
       "    </tr>\n",
       "    <tr>\n",
       "      <th>2458</th>\n",
       "      <td>2019</td>\n",
       "      <td>106342344</td>\n",
       "      <td>34</td>\n",
       "      <td>Sacramento</td>\n",
       "      <td>KAISER FOUNDATION HOSPITAL - SOUTH SACRAMENTO</td>\n",
       "      <td>6600 Bruceville Rd</td>\n",
       "      <td>Sacramento</td>\n",
       "      <td>95823</td>\n",
       "      <td>General Acute Care</td>\n",
       "      <td>0.0</td>\n",
       "      <td>...</td>\n",
       "      <td>47562.0</td>\n",
       "      <td>24750.0</td>\n",
       "      <td>1688.0</td>\n",
       "      <td>38058.0</td>\n",
       "      <td>9925.0</td>\n",
       "      <td>5787.0</td>\n",
       "      <td>108184.0</td>\n",
       "      <td>7803.0</td>\n",
       "      <td>9300.0</td>\n",
       "      <td>121988.0</td>\n",
       "    </tr>\n",
       "    <tr>\n",
       "      <th>2464</th>\n",
       "      <td>2019</td>\n",
       "      <td>106361223</td>\n",
       "      <td>36</td>\n",
       "      <td>San Bernardino</td>\n",
       "      <td>KAISER FOUNDATION HOSPITAL - FONTANA</td>\n",
       "      <td>9961 Sierra Ave</td>\n",
       "      <td>Fontana</td>\n",
       "      <td>92335</td>\n",
       "      <td>General Acute Care</td>\n",
       "      <td>0.0</td>\n",
       "      <td>...</td>\n",
       "      <td>41298.0</td>\n",
       "      <td>28474.0</td>\n",
       "      <td>394.0</td>\n",
       "      <td>64048.0</td>\n",
       "      <td>8787.0</td>\n",
       "      <td>903.0</td>\n",
       "      <td>128465.0</td>\n",
       "      <td>13946.0</td>\n",
       "      <td>14509.0</td>\n",
       "      <td>143619.0</td>\n",
       "    </tr>\n",
       "    <tr>\n",
       "      <th>2777</th>\n",
       "      <td>2020</td>\n",
       "      <td>106361223</td>\n",
       "      <td>36</td>\n",
       "      <td>San Bernardino</td>\n",
       "      <td>KAISER FOUNDATION HOSPITAL - FONTANA</td>\n",
       "      <td>9961 Sierra Ave</td>\n",
       "      <td>Fontana</td>\n",
       "      <td>92335</td>\n",
       "      <td>General Acute Care</td>\n",
       "      <td>0.0</td>\n",
       "      <td>...</td>\n",
       "      <td>32180.0</td>\n",
       "      <td>24062.0</td>\n",
       "      <td>288.0</td>\n",
       "      <td>59343.0</td>\n",
       "      <td>6970.0</td>\n",
       "      <td>793.0</td>\n",
       "      <td>109780.0</td>\n",
       "      <td>11924.0</td>\n",
       "      <td>14996.0</td>\n",
       "      <td>122843.0</td>\n",
       "    </tr>\n",
       "  </tbody>\n",
       "</table>\n",
       "<p>14 rows × 52 columns</p>\n",
       "</div>"
      ],
      "text/plain": [
       "      year   oshpd_id  county_number     county_name  \\\n",
       "129   2012  106191228             19     Los Angeles   \n",
       "453   2013  106191228             19     Los Angeles   \n",
       "863   2014  106361223             36  San Bernardino   \n",
       "1188  2015  106361223             36  San Bernardino   \n",
       "1508  2016  106361223             36  San Bernardino   \n",
       "1827  2017  106361223             36  San Bernardino   \n",
       "2060  2018  106191228             19     Los Angeles   \n",
       "2147  2018  106361223             36  San Bernardino   \n",
       "2266  2019  106014326              1         Alameda   \n",
       "2377  2019  106191228             19     Los Angeles   \n",
       "2432  2019  106314024             31          Placer   \n",
       "2458  2019  106342344             34      Sacramento   \n",
       "2464  2019  106361223             36  San Bernardino   \n",
       "2777  2020  106361223             36  San Bernardino   \n",
       "\n",
       "                                      facility_name             dba_address1  \\\n",
       "129                          LAC+USC MEDICAL CENTER  1200 NORTH STATE STREET   \n",
       "453                          LAC+USC MEDICAL CENTER  1200 NORTH STATE STREET   \n",
       "863            KAISER FOUNDATION HOSPITAL - FONTANA       9961 SIERRA AVENUE   \n",
       "1188           KAISER FOUNDATION HOSPITAL - FONTANA       9961 SIERRA AVENUE   \n",
       "1508           KAISER FOUNDATION HOSPITAL - FONTANA       9961 SIERRA AVENUE   \n",
       "1827           KAISER FOUNDATION HOSPITAL - FONTANA       9961 SIERRA AVENUE   \n",
       "2060                         LAC+USC MEDICAL CENTER  1200 NORTH STATE STREET   \n",
       "2147           KAISER FOUNDATION HOSPITAL - FONTANA       9961 SIERRA AVENUE   \n",
       "2266  KAISER FOUNDATION HOSPITAL - OAKLAND/RICHMOND     275 W Macarthur Blvd   \n",
       "2377                         LAC+USC MEDICAL CENTER          1200 N State St   \n",
       "2432         KAISER FOUNDATION HOSPITAL - ROSEVILLE           1600 Eureka Rd   \n",
       "2458  KAISER FOUNDATION HOSPITAL - SOUTH SACRAMENTO       6600 Bruceville Rd   \n",
       "2464           KAISER FOUNDATION HOSPITAL - FONTANA          9961 Sierra Ave   \n",
       "2777           KAISER FOUNDATION HOSPITAL - FONTANA          9961 Sierra Ave   \n",
       "\n",
       "         dba_city  dba_zip_code license_category_desc  teaching_hospital_desc  \\\n",
       "129   LOS ANGELES         90033    General Acute Care                     1.0   \n",
       "453   LOS ANGELES         90033    General Acute Care                     1.0   \n",
       "863       FONTANA         92335    General Acute Care                     0.0   \n",
       "1188      FONTANA         92335    General Acute Care                     0.0   \n",
       "1508      FONTANA         92335              Hospital                     0.0   \n",
       "1827      FONTANA         92335    General Acute Care                     0.0   \n",
       "2060  LOS ANGELES         90033    General Acute Care                     1.0   \n",
       "2147      FONTANA         92335    General Acute Care                     0.0   \n",
       "2266      Oakland         94611    General Acute Care                     0.0   \n",
       "2377  Los Angeles         90033    General Acute Care                     1.0   \n",
       "2432    Roseville         95661    General Acute Care                     0.0   \n",
       "2458   Sacramento         95823    General Acute Care                     0.0   \n",
       "2464      Fontana         92335    General Acute Care                     0.0   \n",
       "2777      Fontana         92335    General Acute Care                     0.0   \n",
       "\n",
       "      ... medi_cal medicare  other_payer  private_coverage  selfpay  \\\n",
       "129   ...  38347.0   3984.0      41437.0            4041.0      0.0   \n",
       "453   ...  41351.0   4625.0      46254.0            4070.0      0.0   \n",
       "863   ...  25894.0  21118.0        342.0           56312.0  20619.0   \n",
       "1188  ...  33614.0  22674.0        538.0           53609.0  17307.0   \n",
       "1508  ...  41164.0  24019.0        441.0           53625.0   9474.0   \n",
       "1827  ...  41628.0  25517.0        484.0           52600.0   6806.0   \n",
       "2060  ...  91417.0   9057.0      10515.0            6042.0   8482.0   \n",
       "2147  ...  39093.0  26093.0        432.0           55065.0   7521.0   \n",
       "2266  ...  32584.0  24808.0       2413.0           49419.0  12165.0   \n",
       "2377  ...  91371.0   8937.0       9961.0            6111.0  10577.0   \n",
       "2432  ...  23688.0  31343.0       1616.0           57082.0   6852.0   \n",
       "2458  ...  47562.0  24750.0       1688.0           38058.0   9925.0   \n",
       "2464  ...  41298.0  28474.0        394.0           64048.0   8787.0   \n",
       "2777  ...  32180.0  24062.0        288.0           59343.0   6970.0   \n",
       "\n",
       "      all_other   english  spanish  ed_admit  ed_visit  \n",
       "129      3117.0   67300.0  49942.0   24362.0  120359.0  \n",
       "453      3268.0   72299.0  49817.0   22751.0  125384.0  \n",
       "863      1076.0  110326.0  12886.0   13615.0  124288.0  \n",
       "1188     1055.0  112837.0  13864.0   14235.0  127756.0  \n",
       "1508     1111.0  113739.0  13892.0   15044.0  128742.0  \n",
       "1827     1184.0  111941.0  13949.0   15235.0  127074.0  \n",
       "2060     2985.0   69969.0  52741.0   22297.0  125695.0  \n",
       "2147     1176.0  113505.0  13550.0   15624.0  128231.0  \n",
       "2266     3195.0  107747.0  10374.0   11669.0  121399.0  \n",
       "2377     2340.0   68766.0  55149.0   24275.0  126957.0  \n",
       "2432     2772.0  114941.0   2803.0   12557.0  120582.0  \n",
       "2458     5787.0  108184.0   7803.0    9300.0  121988.0  \n",
       "2464      903.0  128465.0  13946.0   14509.0  143619.0  \n",
       "2777      793.0  109780.0  11924.0   14996.0  122843.0  \n",
       "\n",
       "[14 rows x 52 columns]"
      ]
     },
     "metadata": {},
     "execution_count": 11
    }
   ],
   "metadata": {
    "ExecuteTime": {
     "end_time": "2021-09-13T05:29:19.574064Z",
     "start_time": "2021-09-13T05:29:19.550076Z"
    },
    "scrolled": true
   }
  },
  {
   "cell_type": "markdown",
   "source": [
    "**Comment**\n",
    "\n",
    "I will standardize the variables for the sake of reducing the variability in the clustering algorithm. In reality, the patient encounters cannot be judged as abnormal since the events surrounding the encounters are not available in the data."
   ],
   "metadata": {}
  },
  {
   "cell_type": "code",
   "execution_count": 12,
   "source": [
    "#check dtypes before subsetting\r\n",
    "df.dtypes"
   ],
   "outputs": [
    {
     "output_type": "execute_result",
     "data": {
      "text/plain": [
       "year                        int64\n",
       "oshpd_id                    int64\n",
       "county_number               int64\n",
       "county_name                object\n",
       "facility_name              object\n",
       "dba_address1               object\n",
       "dba_city                   object\n",
       "dba_zip_code                int64\n",
       "license_category_desc      object\n",
       "teaching_hospital_desc    float64\n",
       "licensed_bed_size          object\n",
       "er_service_level           object\n",
       "sex_male                  float64\n",
       "sex_female                float64\n",
       "sex_unk                   float64\n",
       "age_01_09                 float64\n",
       "age_10_19                 float64\n",
       "age_20_29                 float64\n",
       "age_30_39                 float64\n",
       "age_40_49                 float64\n",
       "age_50_59                 float64\n",
       "age_60_69                 float64\n",
       "age_70_79                 float64\n",
       "age_80_                   float64\n",
       "age_under_1               float64\n",
       "age_unknown               float64\n",
       "asian_pacific_island      float64\n",
       "black                     float64\n",
       "hispanic                  float64\n",
       "native_american_eski      float64\n",
       "other_race                float64\n",
       "unknown_race              float64\n",
       "white                     float64\n",
       "acute_care                float64\n",
       "against_medical_advice    float64\n",
       "died                      float64\n",
       "hospice_care              float64\n",
       "home_health_service       float64\n",
       "residential_care          float64\n",
       "routine                   float64\n",
       "psychiatric_care          float64\n",
       "sn_ic_care                float64\n",
       "medi_cal                  float64\n",
       "medicare                  float64\n",
       "other_payer               float64\n",
       "private_coverage          float64\n",
       "selfpay                   float64\n",
       "all_other                 float64\n",
       "english                   float64\n",
       "spanish                   float64\n",
       "ed_admit                  float64\n",
       "ed_visit                  float64\n",
       "dtype: object"
      ]
     },
     "metadata": {},
     "execution_count": 12
    }
   ],
   "metadata": {
    "ExecuteTime": {
     "end_time": "2021-09-13T05:29:27.319999Z",
     "start_time": "2021-09-13T05:29:27.308989Z"
    },
    "scrolled": true
   }
  },
  {
   "cell_type": "code",
   "execution_count": 13,
   "source": [
    "#make a list numeric values only\r\n",
    "\r\n",
    "df_num_cols = [col for col, coltype in df.dtypes.iteritems() if coltype == 'float64']\r\n",
    "\r\n",
    "print(df_num_cols)"
   ],
   "outputs": [
    {
     "output_type": "stream",
     "name": "stdout",
     "text": [
      "['teaching_hospital_desc', 'sex_male', 'sex_female', 'sex_unk', 'age_01_09', 'age_10_19', 'age_20_29', 'age_30_39', 'age_40_49', 'age_50_59', 'age_60_69', 'age_70_79', 'age_80_', 'age_under_1', 'age_unknown', 'asian_pacific_island', 'black', 'hispanic', 'native_american_eski', 'other_race', 'unknown_race', 'white', 'acute_care', 'against_medical_advice', 'died', 'hospice_care', 'home_health_service', 'residential_care', 'routine', 'psychiatric_care', 'sn_ic_care', 'medi_cal', 'medicare', 'other_payer', 'private_coverage', 'selfpay', 'all_other', 'english', 'spanish', 'ed_admit', 'ed_visit']\n"
     ]
    }
   ],
   "metadata": {
    "ExecuteTime": {
     "end_time": "2021-09-13T05:29:30.504480Z",
     "start_time": "2021-09-13T05:29:30.492479Z"
    },
    "scrolled": false
   }
  },
  {
   "cell_type": "code",
   "execution_count": 14,
   "source": [
    "# Scale values in dataset before subsetting\r\n",
    "scalar = StandardScaler()\r\n",
    "\r\n",
    "df_1 = df.copy()\r\n",
    "\r\n",
    "df_1[df_num_cols] = scalar.fit_transform(df[df_num_cols])\r\n",
    "\r\n",
    "df_1.head()"
   ],
   "outputs": [
    {
     "output_type": "execute_result",
     "data": {
      "text/html": [
       "<div>\n",
       "<style scoped>\n",
       "    .dataframe tbody tr th:only-of-type {\n",
       "        vertical-align: middle;\n",
       "    }\n",
       "\n",
       "    .dataframe tbody tr th {\n",
       "        vertical-align: top;\n",
       "    }\n",
       "\n",
       "    .dataframe thead th {\n",
       "        text-align: right;\n",
       "    }\n",
       "</style>\n",
       "<table border=\"1\" class=\"dataframe\">\n",
       "  <thead>\n",
       "    <tr style=\"text-align: right;\">\n",
       "      <th></th>\n",
       "      <th>year</th>\n",
       "      <th>oshpd_id</th>\n",
       "      <th>county_number</th>\n",
       "      <th>county_name</th>\n",
       "      <th>facility_name</th>\n",
       "      <th>dba_address1</th>\n",
       "      <th>dba_city</th>\n",
       "      <th>dba_zip_code</th>\n",
       "      <th>license_category_desc</th>\n",
       "      <th>teaching_hospital_desc</th>\n",
       "      <th>...</th>\n",
       "      <th>medi_cal</th>\n",
       "      <th>medicare</th>\n",
       "      <th>other_payer</th>\n",
       "      <th>private_coverage</th>\n",
       "      <th>selfpay</th>\n",
       "      <th>all_other</th>\n",
       "      <th>english</th>\n",
       "      <th>spanish</th>\n",
       "      <th>ed_admit</th>\n",
       "      <th>ed_visit</th>\n",
       "    </tr>\n",
       "  </thead>\n",
       "  <tbody>\n",
       "    <tr>\n",
       "      <th>0</th>\n",
       "      <td>2012</td>\n",
       "      <td>106010735</td>\n",
       "      <td>1</td>\n",
       "      <td>Alameda</td>\n",
       "      <td>ALAMEDA HOSPITAL</td>\n",
       "      <td>2070 CLINTON</td>\n",
       "      <td>ALAMEDA</td>\n",
       "      <td>94501</td>\n",
       "      <td>General Acute Care</td>\n",
       "      <td>-0.318155</td>\n",
       "      <td>...</td>\n",
       "      <td>-0.978634</td>\n",
       "      <td>-0.735188</td>\n",
       "      <td>0.657574</td>\n",
       "      <td>-0.595749</td>\n",
       "      <td>-0.904502</td>\n",
       "      <td>-0.200066</td>\n",
       "      <td>-0.876349</td>\n",
       "      <td>-0.751841</td>\n",
       "      <td>-0.697350</td>\n",
       "      <td>-0.928700</td>\n",
       "    </tr>\n",
       "    <tr>\n",
       "      <th>1</th>\n",
       "      <td>2012</td>\n",
       "      <td>106010739</td>\n",
       "      <td>1</td>\n",
       "      <td>Alameda</td>\n",
       "      <td>ALTA BATES SUMMIT MEDICAL CENTER-ALTA BATES CA...</td>\n",
       "      <td>2450 ASHBY STREET</td>\n",
       "      <td>BERKELEY</td>\n",
       "      <td>94705</td>\n",
       "      <td>General Acute Care</td>\n",
       "      <td>-0.318155</td>\n",
       "      <td>...</td>\n",
       "      <td>-0.424893</td>\n",
       "      <td>-0.170384</td>\n",
       "      <td>0.123938</td>\n",
       "      <td>0.242125</td>\n",
       "      <td>-0.904502</td>\n",
       "      <td>-0.188849</td>\n",
       "      <td>0.103147</td>\n",
       "      <td>-0.635296</td>\n",
       "      <td>0.029625</td>\n",
       "      <td>-0.063119</td>\n",
       "    </tr>\n",
       "    <tr>\n",
       "      <th>2</th>\n",
       "      <td>2012</td>\n",
       "      <td>106010776</td>\n",
       "      <td>1</td>\n",
       "      <td>Alameda</td>\n",
       "      <td>CHILDRENS HOSPITAL AND RESEARCH CENTER AT OAKLAND</td>\n",
       "      <td>747 52ND STREET</td>\n",
       "      <td>OAKLAND</td>\n",
       "      <td>94609</td>\n",
       "      <td>General Acute Care</td>\n",
       "      <td>-0.318155</td>\n",
       "      <td>...</td>\n",
       "      <td>0.939959</td>\n",
       "      <td>-1.253163</td>\n",
       "      <td>0.093100</td>\n",
       "      <td>-0.438654</td>\n",
       "      <td>-0.904502</td>\n",
       "      <td>0.644019</td>\n",
       "      <td>-0.204603</td>\n",
       "      <td>1.069584</td>\n",
       "      <td>0.211580</td>\n",
       "      <td>0.092097</td>\n",
       "    </tr>\n",
       "    <tr>\n",
       "      <th>3</th>\n",
       "      <td>2012</td>\n",
       "      <td>106010805</td>\n",
       "      <td>1</td>\n",
       "      <td>Alameda</td>\n",
       "      <td>EDEN MEDICAL CENTER</td>\n",
       "      <td>20103 LAKE CHABOT ROAD</td>\n",
       "      <td>CASTRO VALLEY</td>\n",
       "      <td>94546</td>\n",
       "      <td>General Acute Care</td>\n",
       "      <td>-0.318155</td>\n",
       "      <td>...</td>\n",
       "      <td>-0.429699</td>\n",
       "      <td>-0.033513</td>\n",
       "      <td>-0.232377</td>\n",
       "      <td>-0.124463</td>\n",
       "      <td>-0.904502</td>\n",
       "      <td>-0.065461</td>\n",
       "      <td>-0.104170</td>\n",
       "      <td>-0.512156</td>\n",
       "      <td>0.087960</td>\n",
       "      <td>-0.207723</td>\n",
       "    </tr>\n",
       "    <tr>\n",
       "      <th>4</th>\n",
       "      <td>2012</td>\n",
       "      <td>106010846</td>\n",
       "      <td>1</td>\n",
       "      <td>Alameda</td>\n",
       "      <td>HIGHLAND HOSPITAL</td>\n",
       "      <td>1411 EAST 31ST STREET</td>\n",
       "      <td>OAKLAND</td>\n",
       "      <td>94602</td>\n",
       "      <td>General Acute Care</td>\n",
       "      <td>3.143127</td>\n",
       "      <td>...</td>\n",
       "      <td>0.211251</td>\n",
       "      <td>-0.412143</td>\n",
       "      <td>11.506925</td>\n",
       "      <td>-0.859103</td>\n",
       "      <td>-0.904502</td>\n",
       "      <td>3.074383</td>\n",
       "      <td>1.225482</td>\n",
       "      <td>1.389995</td>\n",
       "      <td>0.649829</td>\n",
       "      <td>1.493045</td>\n",
       "    </tr>\n",
       "  </tbody>\n",
       "</table>\n",
       "<p>5 rows × 52 columns</p>\n",
       "</div>"
      ],
      "text/plain": [
       "   year   oshpd_id  county_number county_name  \\\n",
       "0  2012  106010735              1     Alameda   \n",
       "1  2012  106010739              1     Alameda   \n",
       "2  2012  106010776              1     Alameda   \n",
       "3  2012  106010805              1     Alameda   \n",
       "4  2012  106010846              1     Alameda   \n",
       "\n",
       "                                       facility_name            dba_address1  \\\n",
       "0                                   ALAMEDA HOSPITAL            2070 CLINTON   \n",
       "1  ALTA BATES SUMMIT MEDICAL CENTER-ALTA BATES CA...       2450 ASHBY STREET   \n",
       "2  CHILDRENS HOSPITAL AND RESEARCH CENTER AT OAKLAND         747 52ND STREET   \n",
       "3                                EDEN MEDICAL CENTER  20103 LAKE CHABOT ROAD   \n",
       "4                                  HIGHLAND HOSPITAL   1411 EAST 31ST STREET   \n",
       "\n",
       "        dba_city  dba_zip_code license_category_desc  teaching_hospital_desc  \\\n",
       "0        ALAMEDA         94501    General Acute Care               -0.318155   \n",
       "1       BERKELEY         94705    General Acute Care               -0.318155   \n",
       "2        OAKLAND         94609    General Acute Care               -0.318155   \n",
       "3  CASTRO VALLEY         94546    General Acute Care               -0.318155   \n",
       "4        OAKLAND         94602    General Acute Care                3.143127   \n",
       "\n",
       "   ...  medi_cal  medicare  other_payer  private_coverage   selfpay  \\\n",
       "0  ... -0.978634 -0.735188     0.657574         -0.595749 -0.904502   \n",
       "1  ... -0.424893 -0.170384     0.123938          0.242125 -0.904502   \n",
       "2  ...  0.939959 -1.253163     0.093100         -0.438654 -0.904502   \n",
       "3  ... -0.429699 -0.033513    -0.232377         -0.124463 -0.904502   \n",
       "4  ...  0.211251 -0.412143    11.506925         -0.859103 -0.904502   \n",
       "\n",
       "   all_other   english   spanish  ed_admit  ed_visit  \n",
       "0  -0.200066 -0.876349 -0.751841 -0.697350 -0.928700  \n",
       "1  -0.188849  0.103147 -0.635296  0.029625 -0.063119  \n",
       "2   0.644019 -0.204603  1.069584  0.211580  0.092097  \n",
       "3  -0.065461 -0.104170 -0.512156  0.087960 -0.207723  \n",
       "4   3.074383  1.225482  1.389995  0.649829  1.493045  \n",
       "\n",
       "[5 rows x 52 columns]"
      ]
     },
     "metadata": {},
     "execution_count": 14
    }
   ],
   "metadata": {
    "ExecuteTime": {
     "end_time": "2021-09-13T05:29:33.135396Z",
     "start_time": "2021-09-13T05:29:33.093397Z"
    }
   }
  },
  {
   "cell_type": "code",
   "execution_count": 15,
   "source": [
    "#subset df based on previous list\r\n",
    "\r\n",
    "df_num = df_1[df_num_cols]\r\n",
    "\r\n",
    "df_num.columns"
   ],
   "outputs": [
    {
     "output_type": "execute_result",
     "data": {
      "text/plain": [
       "Index(['teaching_hospital_desc', 'sex_male', 'sex_female', 'sex_unk',\n",
       "       'age_01_09', 'age_10_19', 'age_20_29', 'age_30_39', 'age_40_49',\n",
       "       'age_50_59', 'age_60_69', 'age_70_79', 'age_80_', 'age_under_1',\n",
       "       'age_unknown', 'asian_pacific_island', 'black', 'hispanic',\n",
       "       'native_american_eski', 'other_race', 'unknown_race', 'white',\n",
       "       'acute_care', 'against_medical_advice', 'died', 'hospice_care',\n",
       "       'home_health_service', 'residential_care', 'routine',\n",
       "       'psychiatric_care', 'sn_ic_care', 'medi_cal', 'medicare', 'other_payer',\n",
       "       'private_coverage', 'selfpay', 'all_other', 'english', 'spanish',\n",
       "       'ed_admit', 'ed_visit'],\n",
       "      dtype='object')"
      ]
     },
     "metadata": {},
     "execution_count": 15
    }
   ],
   "metadata": {
    "ExecuteTime": {
     "end_time": "2021-09-13T05:29:36.616300Z",
     "start_time": "2021-09-13T05:29:36.596311Z"
    }
   }
  },
  {
   "cell_type": "code",
   "execution_count": 16,
   "source": [
    "df_num.shape"
   ],
   "outputs": [
    {
     "output_type": "execute_result",
     "data": {
      "text/plain": [
       "(2883, 41)"
      ]
     },
     "metadata": {},
     "execution_count": 16
    }
   ],
   "metadata": {
    "ExecuteTime": {
     "end_time": "2021-09-13T05:29:39.194344Z",
     "start_time": "2021-09-13T05:29:39.189347Z"
    }
   }
  },
  {
   "cell_type": "markdown",
   "source": [
    "## 3. Elbow technique: deciding optimal k"
   ],
   "metadata": {}
  },
  {
   "cell_type": "code",
   "execution_count": 17,
   "source": [
    "# Define potential clusters and kmeans range\r\n",
    "\r\n",
    "num_cl = range(1,10)\r\n",
    "\r\n",
    "kmeans = [KMeans(n_clusters = i) for i in num_cl]"
   ],
   "outputs": [],
   "metadata": {
    "ExecuteTime": {
     "end_time": "2021-09-13T05:29:48.680796Z",
     "start_time": "2021-09-13T05:29:48.677798Z"
    }
   }
  },
  {
   "cell_type": "code",
   "execution_count": 16,
   "source": [
    "kmeans"
   ],
   "outputs": [
    {
     "output_type": "execute_result",
     "data": {
      "text/plain": [
       "[KMeans(n_clusters=1),\n",
       " KMeans(n_clusters=2),\n",
       " KMeans(n_clusters=3),\n",
       " KMeans(n_clusters=4),\n",
       " KMeans(n_clusters=5),\n",
       " KMeans(n_clusters=6),\n",
       " KMeans(n_clusters=7),\n",
       " KMeans(),\n",
       " KMeans(n_clusters=9)]"
      ]
     },
     "metadata": {},
     "execution_count": 16
    }
   ],
   "metadata": {
    "ExecuteTime": {
     "end_time": "2021-09-09T03:21:33.443327Z",
     "start_time": "2021-09-09T03:21:33.429328Z"
    }
   }
  },
  {
   "cell_type": "code",
   "execution_count": 18,
   "source": [
    "#score rate of variation for each cluster option\\\r\n",
    "\r\n",
    "kscore = [kmeans[i].fit(df_num).score(df_num) for i in range(len(kmeans))]\r\n",
    "\r\n",
    "kscore"
   ],
   "outputs": [
    {
     "output_type": "execute_result",
     "data": {
      "text/plain": [
       "[-118203.00000000012,\n",
       " -82887.98502914413,\n",
       " -73631.32195879357,\n",
       " -67709.9181458742,\n",
       " -63477.252057302634,\n",
       " -59821.7455309136,\n",
       " -57428.46672593857,\n",
       " -55524.833443769916,\n",
       " -53327.81963661362]"
      ]
     },
     "metadata": {},
     "execution_count": 18
    }
   ],
   "metadata": {
    "ExecuteTime": {
     "end_time": "2021-09-13T05:30:09.223431Z",
     "start_time": "2021-09-13T05:30:07.924378Z"
    }
   }
  },
  {
   "cell_type": "code",
   "execution_count": 19,
   "source": [
    "# Visualize the number of clusters\r\n",
    "\r\n",
    "pl.plot(num_cl,kscore)\r\n",
    "pl.xlabel('Number of Clusters')\r\n",
    "pl.ylabel('Score')\r\n",
    "pl.title('Elbow Curve')\r\n",
    "pl.show()"
   ],
   "outputs": [
    {
     "output_type": "display_data",
     "data": {
      "image/png": "[encoded data removed]",
      "text/plain": [
       "<Figure size 432x288 with 1 Axes>"
      ]
     },
     "metadata": {
      "needs_background": "light"
     }
    }
   ],
   "metadata": {
    "ExecuteTime": {
     "end_time": "2021-09-13T05:30:12.209719Z",
     "start_time": "2021-09-13T05:30:12.092240Z"
    }
   }
  },
  {
   "cell_type": "markdown",
   "source": [
    "**Comment**\n",
    "\n",
    "Chosen k-mean cumber: 4\n",
    "\n",
    "Although a clearer elbow can be seen at the '2' level, I chose 4 because there is also an with a considerable rise between 2 and 4. After 4, the elbows rise gradually."
   ],
   "metadata": {}
  },
  {
   "cell_type": "markdown",
   "source": [
    "## 4. K-means algorithm"
   ],
   "metadata": {}
  },
  {
   "cell_type": "code",
   "execution_count": 25,
   "source": [
    "#create kmeans object\r\n",
    "\r\n",
    "kmeans = KMeans(n_clusters = 3)"
   ],
   "outputs": [],
   "metadata": {
    "ExecuteTime": {
     "end_time": "2021-09-13T05:31:12.157126Z",
     "start_time": "2021-09-13T05:31:12.149124Z"
    }
   }
  },
  {
   "cell_type": "code",
   "execution_count": 26,
   "source": [
    "#fit the kmeans object\r\n",
    "#actual culsters are created here.\r\n",
    "\r\n",
    "kmeans.fit(df_num)"
   ],
   "outputs": [
    {
     "output_type": "execute_result",
     "data": {
      "text/plain": [
       "KMeans(n_clusters=3)"
      ]
     },
     "metadata": {},
     "execution_count": 26
    }
   ],
   "metadata": {
    "ExecuteTime": {
     "end_time": "2021-09-13T05:31:14.325120Z",
     "start_time": "2021-09-13T05:31:14.260133Z"
    }
   }
  },
  {
   "cell_type": "code",
   "execution_count": 27,
   "source": [
    "#add clusters to dataframe\r\n",
    "\r\n",
    "df_num['cluster'] = kmeans.fit_predict(df_num)"
   ],
   "outputs": [
    {
     "output_type": "stream",
     "name": "stderr",
     "text": [
      "<ipython-input-27-41d6c947a3b4>:3: SettingWithCopyWarning: \n",
      "A value is trying to be set on a copy of a slice from a DataFrame.\n",
      "Try using .loc[row_indexer,col_indexer] = value instead\n",
      "\n",
      "See the caveats in the documentation: https://pandas.pydata.org/pandas-docs/stable/user_guide/indexing.html#returning-a-view-versus-a-copy\n",
      "  df_num['cluster'] = kmeans.fit_predict(df_num)\n"
     ]
    }
   ],
   "metadata": {
    "ExecuteTime": {
     "end_time": "2021-09-13T05:31:16.505106Z",
     "start_time": "2021-09-13T05:31:16.452105Z"
    },
    "scrolled": true
   }
  },
  {
   "cell_type": "code",
   "execution_count": 28,
   "source": [
    "df_num.head()"
   ],
   "outputs": [
    {
     "output_type": "execute_result",
     "data": {
      "text/html": [
       "<div>\n",
       "<style scoped>\n",
       "    .dataframe tbody tr th:only-of-type {\n",
       "        vertical-align: middle;\n",
       "    }\n",
       "\n",
       "    .dataframe tbody tr th {\n",
       "        vertical-align: top;\n",
       "    }\n",
       "\n",
       "    .dataframe thead th {\n",
       "        text-align: right;\n",
       "    }\n",
       "</style>\n",
       "<table border=\"1\" class=\"dataframe\">\n",
       "  <thead>\n",
       "    <tr style=\"text-align: right;\">\n",
       "      <th></th>\n",
       "      <th>teaching_hospital_desc</th>\n",
       "      <th>sex_male</th>\n",
       "      <th>sex_female</th>\n",
       "      <th>sex_unk</th>\n",
       "      <th>age_01_09</th>\n",
       "      <th>age_10_19</th>\n",
       "      <th>age_20_29</th>\n",
       "      <th>age_30_39</th>\n",
       "      <th>age_40_49</th>\n",
       "      <th>age_50_59</th>\n",
       "      <th>...</th>\n",
       "      <th>medicare</th>\n",
       "      <th>other_payer</th>\n",
       "      <th>private_coverage</th>\n",
       "      <th>selfpay</th>\n",
       "      <th>all_other</th>\n",
       "      <th>english</th>\n",
       "      <th>spanish</th>\n",
       "      <th>ed_admit</th>\n",
       "      <th>ed_visit</th>\n",
       "      <th>cluster</th>\n",
       "    </tr>\n",
       "  </thead>\n",
       "  <tbody>\n",
       "    <tr>\n",
       "      <th>0</th>\n",
       "      <td>-0.318155</td>\n",
       "      <td>-0.947669</td>\n",
       "      <td>-0.898527</td>\n",
       "      <td>-0.441543</td>\n",
       "      <td>-0.623005</td>\n",
       "      <td>-0.858213</td>\n",
       "      <td>-0.803799</td>\n",
       "      <td>-0.790441</td>\n",
       "      <td>-0.704622</td>\n",
       "      <td>-0.777343</td>\n",
       "      <td>...</td>\n",
       "      <td>-0.735188</td>\n",
       "      <td>0.657574</td>\n",
       "      <td>-0.595749</td>\n",
       "      <td>-0.904502</td>\n",
       "      <td>-0.200066</td>\n",
       "      <td>-0.876349</td>\n",
       "      <td>-0.751841</td>\n",
       "      <td>-0.697350</td>\n",
       "      <td>-0.928700</td>\n",
       "      <td>2</td>\n",
       "    </tr>\n",
       "    <tr>\n",
       "      <th>1</th>\n",
       "      <td>-0.318155</td>\n",
       "      <td>-0.203750</td>\n",
       "      <td>0.054881</td>\n",
       "      <td>-0.441543</td>\n",
       "      <td>-0.658985</td>\n",
       "      <td>-0.541583</td>\n",
       "      <td>0.542599</td>\n",
       "      <td>0.188908</td>\n",
       "      <td>0.159937</td>\n",
       "      <td>0.291728</td>\n",
       "      <td>...</td>\n",
       "      <td>-0.170384</td>\n",
       "      <td>0.123938</td>\n",
       "      <td>0.242125</td>\n",
       "      <td>-0.904502</td>\n",
       "      <td>-0.188849</td>\n",
       "      <td>0.103147</td>\n",
       "      <td>-0.635296</td>\n",
       "      <td>0.029625</td>\n",
       "      <td>-0.063119</td>\n",
       "      <td>1</td>\n",
       "    </tr>\n",
       "    <tr>\n",
       "      <th>2</th>\n",
       "      <td>-0.318155</td>\n",
       "      <td>0.348853</td>\n",
       "      <td>-0.122697</td>\n",
       "      <td>-0.191402</td>\n",
       "      <td>3.167221</td>\n",
       "      <td>1.673876</td>\n",
       "      <td>-1.294318</td>\n",
       "      <td>-1.358838</td>\n",
       "      <td>-1.369333</td>\n",
       "      <td>-1.361613</td>\n",
       "      <td>...</td>\n",
       "      <td>-1.253163</td>\n",
       "      <td>0.093100</td>\n",
       "      <td>-0.438654</td>\n",
       "      <td>-0.904502</td>\n",
       "      <td>0.644019</td>\n",
       "      <td>-0.204603</td>\n",
       "      <td>1.069584</td>\n",
       "      <td>0.211580</td>\n",
       "      <td>0.092097</td>\n",
       "      <td>2</td>\n",
       "    </tr>\n",
       "    <tr>\n",
       "      <th>3</th>\n",
       "      <td>-0.318155</td>\n",
       "      <td>-0.282218</td>\n",
       "      <td>-0.142476</td>\n",
       "      <td>-0.441543</td>\n",
       "      <td>-0.303811</td>\n",
       "      <td>-0.305705</td>\n",
       "      <td>-0.042069</td>\n",
       "      <td>-0.068565</td>\n",
       "      <td>-0.008258</td>\n",
       "      <td>-0.028412</td>\n",
       "      <td>...</td>\n",
       "      <td>-0.033513</td>\n",
       "      <td>-0.232377</td>\n",
       "      <td>-0.124463</td>\n",
       "      <td>-0.904502</td>\n",
       "      <td>-0.065461</td>\n",
       "      <td>-0.104170</td>\n",
       "      <td>-0.512156</td>\n",
       "      <td>0.087960</td>\n",
       "      <td>-0.207723</td>\n",
       "      <td>1</td>\n",
       "    </tr>\n",
       "    <tr>\n",
       "      <th>4</th>\n",
       "      <td>3.143127</td>\n",
       "      <td>2.026521</td>\n",
       "      <td>1.026759</td>\n",
       "      <td>-0.441543</td>\n",
       "      <td>-0.648257</td>\n",
       "      <td>-0.319749</td>\n",
       "      <td>2.246270</td>\n",
       "      <td>2.419631</td>\n",
       "      <td>3.448115</td>\n",
       "      <td>3.605450</td>\n",
       "      <td>...</td>\n",
       "      <td>-0.412143</td>\n",
       "      <td>11.506925</td>\n",
       "      <td>-0.859103</td>\n",
       "      <td>-0.904502</td>\n",
       "      <td>3.074383</td>\n",
       "      <td>1.225482</td>\n",
       "      <td>1.389995</td>\n",
       "      <td>0.649829</td>\n",
       "      <td>1.493045</td>\n",
       "      <td>0</td>\n",
       "    </tr>\n",
       "  </tbody>\n",
       "</table>\n",
       "<p>5 rows × 42 columns</p>\n",
       "</div>"
      ],
      "text/plain": [
       "   teaching_hospital_desc  sex_male  sex_female   sex_unk  age_01_09  \\\n",
       "0               -0.318155 -0.947669   -0.898527 -0.441543  -0.623005   \n",
       "1               -0.318155 -0.203750    0.054881 -0.441543  -0.658985   \n",
       "2               -0.318155  0.348853   -0.122697 -0.191402   3.167221   \n",
       "3               -0.318155 -0.282218   -0.142476 -0.441543  -0.303811   \n",
       "4                3.143127  2.026521    1.026759 -0.441543  -0.648257   \n",
       "\n",
       "   age_10_19  age_20_29  age_30_39  age_40_49  age_50_59  ...  medicare  \\\n",
       "0  -0.858213  -0.803799  -0.790441  -0.704622  -0.777343  ... -0.735188   \n",
       "1  -0.541583   0.542599   0.188908   0.159937   0.291728  ... -0.170384   \n",
       "2   1.673876  -1.294318  -1.358838  -1.369333  -1.361613  ... -1.253163   \n",
       "3  -0.305705  -0.042069  -0.068565  -0.008258  -0.028412  ... -0.033513   \n",
       "4  -0.319749   2.246270   2.419631   3.448115   3.605450  ... -0.412143   \n",
       "\n",
       "   other_payer  private_coverage   selfpay  all_other   english   spanish  \\\n",
       "0     0.657574         -0.595749 -0.904502  -0.200066 -0.876349 -0.751841   \n",
       "1     0.123938          0.242125 -0.904502  -0.188849  0.103147 -0.635296   \n",
       "2     0.093100         -0.438654 -0.904502   0.644019 -0.204603  1.069584   \n",
       "3    -0.232377         -0.124463 -0.904502  -0.065461 -0.104170 -0.512156   \n",
       "4    11.506925         -0.859103 -0.904502   3.074383  1.225482  1.389995   \n",
       "\n",
       "   ed_admit  ed_visit  cluster  \n",
       "0 -0.697350 -0.928700        2  \n",
       "1  0.029625 -0.063119        1  \n",
       "2  0.211580  0.092097        2  \n",
       "3  0.087960 -0.207723        1  \n",
       "4  0.649829  1.493045        0  \n",
       "\n",
       "[5 rows x 42 columns]"
      ]
     },
     "metadata": {},
     "execution_count": 28
    }
   ],
   "metadata": {
    "ExecuteTime": {
     "end_time": "2021-09-13T05:31:19.389119Z",
     "start_time": "2021-09-13T05:31:19.373121Z"
    }
   }
  },
  {
   "cell_type": "code",
   "execution_count": 29,
   "source": [
    "df_num['cluster'].value_counts(dropna = False)"
   ],
   "outputs": [
    {
     "output_type": "execute_result",
     "data": {
      "text/plain": [
       "2    1354\n",
       "1    1170\n",
       "0     359\n",
       "Name: cluster, dtype: int64"
      ]
     },
     "metadata": {},
     "execution_count": 29
    }
   ],
   "metadata": {
    "ExecuteTime": {
     "end_time": "2021-09-13T05:31:23.737652Z",
     "start_time": "2021-09-13T05:31:23.717311Z"
    }
   }
  },
  {
   "cell_type": "markdown",
   "source": [
    "## 5. K-means Viz and Comments"
   ],
   "metadata": {}
  },
  {
   "cell_type": "code",
   "execution_count": 30,
   "source": [
    "#plot clusters using value label from original df\r\n",
    "\r\n",
    "plt.figure(figsize = (10,8))\r\n",
    "\r\n",
    "ax = sns.scatterplot(x = df['hispanic'], y = df['routine'], hue = df_num['cluster']);"
   ],
   "outputs": [
    {
     "output_type": "display_data",
     "data": {
      "image/png": "[encoded data removed]",
      "text/plain": [
       "<Figure size 720x576 with 1 Axes>"
      ]
     },
     "metadata": {
      "needs_background": "light"
     }
    }
   ],
   "metadata": {
    "ExecuteTime": {
     "end_time": "2021-09-13T05:31:46.603306Z",
     "start_time": "2021-09-13T05:31:46.372248Z"
    },
    "scrolled": false
   }
  },
  {
   "cell_type": "code",
   "execution_count": 31,
   "source": [
    "plt.figure(figsize = (10,8))\r\n",
    "\r\n",
    "ax = sns.scatterplot(x = df['hispanic'], y = df['against_medical_advice'], hue = df_num['cluster']);"
   ],
   "outputs": [
    {
     "output_type": "display_data",
     "data": {
      "image/png": "[encoded data removed]",
      "text/plain": [
       "<Figure size 720x576 with 1 Axes>"
      ]
     },
     "metadata": {
      "needs_background": "light"
     }
    }
   ],
   "metadata": {
    "ExecuteTime": {
     "end_time": "2021-09-13T05:31:56.207907Z",
     "start_time": "2021-09-13T05:31:55.948428Z"
    },
    "scrolled": false
   }
  },
  {
   "cell_type": "markdown",
   "source": [
    "**Comment**\n",
    "\n",
    "On a facility level, the clusters seem to make sense when considering patient encounters. The first chart has more defined clusters than the second chart. The clusters seem to resemble 3 hospital types with 3 different range of encounters with hispanic patients."
   ],
   "metadata": {}
  },
  {
   "cell_type": "code",
   "execution_count": 26,
   "source": [
    "# df_num.loc[df_num['cluster'] == 2, 'cluster'] = 'purple'\r\n",
    "# df_num.loc[df_num['cluster'] == 1, 'cluster'] = 'pink'\r\n",
    "# df_num.loc[df_num['cluster'] == 0, 'cluster'] = 'yellow'"
   ],
   "outputs": [
    {
     "output_type": "stream",
     "name": "stderr",
     "text": [
      "C:\\Users\\ncvc04\\anaconda3\\lib\\site-packages\\pandas\\core\\indexing.py:1765: SettingWithCopyWarning: \n",
      "A value is trying to be set on a copy of a slice from a DataFrame.\n",
      "Try using .loc[row_indexer,col_indexer] = value instead\n",
      "\n",
      "See the caveats in the documentation: https://pandas.pydata.org/pandas-docs/stable/user_guide/indexing.html#returning-a-view-versus-a-copy\n",
      "  isetter(loc, value)\n"
     ]
    }
   ],
   "metadata": {
    "ExecuteTime": {
     "end_time": "2021-09-09T02:49:44.893574Z",
     "start_time": "2021-09-09T02:49:44.875574Z"
    }
   }
  },
  {
   "cell_type": "code",
   "execution_count": 32,
   "source": [
    "df_num.columns"
   ],
   "outputs": [
    {
     "output_type": "execute_result",
     "data": {
      "text/plain": [
       "Index(['teaching_hospital_desc', 'sex_male', 'sex_female', 'sex_unk',\n",
       "       'age_01_09', 'age_10_19', 'age_20_29', 'age_30_39', 'age_40_49',\n",
       "       'age_50_59', 'age_60_69', 'age_70_79', 'age_80_', 'age_under_1',\n",
       "       'age_unknown', 'asian_pacific_island', 'black', 'hispanic',\n",
       "       'native_american_eski', 'other_race', 'unknown_race', 'white',\n",
       "       'acute_care', 'against_medical_advice', 'died', 'hospice_care',\n",
       "       'home_health_service', 'residential_care', 'routine',\n",
       "       'psychiatric_care', 'sn_ic_care', 'medi_cal', 'medicare', 'other_payer',\n",
       "       'private_coverage', 'selfpay', 'all_other', 'english', 'spanish',\n",
       "       'ed_admit', 'ed_visit', 'cluster'],\n",
       "      dtype='object')"
      ]
     },
     "metadata": {},
     "execution_count": 32
    }
   ],
   "metadata": {
    "ExecuteTime": {
     "end_time": "2021-09-13T05:32:12.955623Z",
     "start_time": "2021-09-13T05:32:12.948632Z"
    },
    "scrolled": true
   }
  },
  {
   "cell_type": "code",
   "execution_count": 33,
   "source": [
    "df['cluster'] = df_num['cluster'].copy()"
   ],
   "outputs": [],
   "metadata": {
    "ExecuteTime": {
     "end_time": "2021-09-13T05:32:15.408961Z",
     "start_time": "2021-09-13T05:32:15.395961Z"
    }
   }
  },
  {
   "cell_type": "markdown",
   "source": [
    "**Comment**\n",
    "\n",
    "Similar to the first cluster chart, the facilities *yellow* group has the highest patient encounters, followed by *pink* facilities, then the *purple* group of facilities. Based on the results, possible names for the clusters can be **\"Low encounters\", \"Medium encounters\" and \"High encounters\"**.\n",
    "\n",
    "For future analysis, the results can be used to compare the clusters to the previously established categorical variables such as *licensed bed sizes* and *er service level*. In time series analysis, the encounters for each cluster can be aggregated and displayed yearly over time to predict the encounters for each cluster for the year 2021. "
   ],
   "metadata": {}
  },
  {
   "cell_type": "code",
   "execution_count": 34,
   "source": [
    "#further investigate the meaning of the clusters found\r\n",
    "\r\n",
    "from tabulate import tabulate\r\n",
    "\r\n",
    "g = df.groupby(['cluster']).agg({'hispanic':['mean', 'median'],\r\n",
    "                                 'white':['mean', 'median'],\r\n",
    "                                 'black':['mean', 'median'],\r\n",
    "                                'routine':['mean', 'median'],\r\n",
    "                                'against_medical_advice':['mean', 'median'],\r\n",
    "                                'died':['mean', 'median'],\r\n",
    "                                'selfpay':['mean', 'median']})\r\n",
    "\r\n",
    "round(g)"
   ],
   "outputs": [
    {
     "output_type": "execute_result",
     "data": {
      "text/html": [
       "<div>\n",
       "<style scoped>\n",
       "    .dataframe tbody tr th:only-of-type {\n",
       "        vertical-align: middle;\n",
       "    }\n",
       "\n",
       "    .dataframe tbody tr th {\n",
       "        vertical-align: top;\n",
       "    }\n",
       "\n",
       "    .dataframe thead tr th {\n",
       "        text-align: left;\n",
       "    }\n",
       "\n",
       "    .dataframe thead tr:last-of-type th {\n",
       "        text-align: right;\n",
       "    }\n",
       "</style>\n",
       "<table border=\"1\" class=\"dataframe\">\n",
       "  <thead>\n",
       "    <tr>\n",
       "      <th></th>\n",
       "      <th colspan=\"2\" halign=\"left\">hispanic</th>\n",
       "      <th colspan=\"2\" halign=\"left\">white</th>\n",
       "      <th colspan=\"2\" halign=\"left\">black</th>\n",
       "      <th colspan=\"2\" halign=\"left\">routine</th>\n",
       "      <th colspan=\"2\" halign=\"left\">against_medical_advice</th>\n",
       "      <th colspan=\"2\" halign=\"left\">died</th>\n",
       "      <th colspan=\"2\" halign=\"left\">selfpay</th>\n",
       "    </tr>\n",
       "    <tr>\n",
       "      <th></th>\n",
       "      <th>mean</th>\n",
       "      <th>median</th>\n",
       "      <th>mean</th>\n",
       "      <th>median</th>\n",
       "      <th>mean</th>\n",
       "      <th>median</th>\n",
       "      <th>mean</th>\n",
       "      <th>median</th>\n",
       "      <th>mean</th>\n",
       "      <th>median</th>\n",
       "      <th>mean</th>\n",
       "      <th>median</th>\n",
       "      <th>mean</th>\n",
       "      <th>median</th>\n",
       "    </tr>\n",
       "    <tr>\n",
       "      <th>cluster</th>\n",
       "      <th></th>\n",
       "      <th></th>\n",
       "      <th></th>\n",
       "      <th></th>\n",
       "      <th></th>\n",
       "      <th></th>\n",
       "      <th></th>\n",
       "      <th></th>\n",
       "      <th></th>\n",
       "      <th></th>\n",
       "      <th></th>\n",
       "      <th></th>\n",
       "      <th></th>\n",
       "      <th></th>\n",
       "    </tr>\n",
       "  </thead>\n",
       "  <tbody>\n",
       "    <tr>\n",
       "      <th>0</th>\n",
       "      <td>34350.0</td>\n",
       "      <td>32192.0</td>\n",
       "      <td>29764.0</td>\n",
       "      <td>30187.0</td>\n",
       "      <td>12085.0</td>\n",
       "      <td>9245.0</td>\n",
       "      <td>76865.0</td>\n",
       "      <td>73815.0</td>\n",
       "      <td>2357.0</td>\n",
       "      <td>1702.0</td>\n",
       "      <td>118.0</td>\n",
       "      <td>112.0</td>\n",
       "      <td>5766.0</td>\n",
       "      <td>5296.0</td>\n",
       "    </tr>\n",
       "    <tr>\n",
       "      <th>1</th>\n",
       "      <td>18858.0</td>\n",
       "      <td>15510.0</td>\n",
       "      <td>17393.0</td>\n",
       "      <td>16278.0</td>\n",
       "      <td>5104.0</td>\n",
       "      <td>3112.0</td>\n",
       "      <td>43287.0</td>\n",
       "      <td>40933.0</td>\n",
       "      <td>1108.0</td>\n",
       "      <td>749.0</td>\n",
       "      <td>65.0</td>\n",
       "      <td>60.0</td>\n",
       "      <td>2878.0</td>\n",
       "      <td>2826.0</td>\n",
       "    </tr>\n",
       "    <tr>\n",
       "      <th>2</th>\n",
       "      <td>5491.0</td>\n",
       "      <td>3526.0</td>\n",
       "      <td>7972.0</td>\n",
       "      <td>6601.0</td>\n",
       "      <td>1228.0</td>\n",
       "      <td>496.0</td>\n",
       "      <td>15426.0</td>\n",
       "      <td>15570.0</td>\n",
       "      <td>385.0</td>\n",
       "      <td>245.0</td>\n",
       "      <td>25.0</td>\n",
       "      <td>20.0</td>\n",
       "      <td>998.0</td>\n",
       "      <td>780.0</td>\n",
       "    </tr>\n",
       "  </tbody>\n",
       "</table>\n",
       "</div>"
      ],
      "text/plain": [
       "        hispanic             white             black          routine  \\\n",
       "            mean   median     mean   median     mean  median     mean   \n",
       "cluster                                                                 \n",
       "0        34350.0  32192.0  29764.0  30187.0  12085.0  9245.0  76865.0   \n",
       "1        18858.0  15510.0  17393.0  16278.0   5104.0  3112.0  43287.0   \n",
       "2         5491.0   3526.0   7972.0   6601.0   1228.0   496.0  15426.0   \n",
       "\n",
       "                 against_medical_advice           died        selfpay          \n",
       "          median                   mean  median   mean median    mean  median  \n",
       "cluster                                                                        \n",
       "0        73815.0                 2357.0  1702.0  118.0  112.0  5766.0  5296.0  \n",
       "1        40933.0                 1108.0   749.0   65.0   60.0  2878.0  2826.0  \n",
       "2        15570.0                  385.0   245.0   25.0   20.0   998.0   780.0  "
      ]
     },
     "metadata": {},
     "execution_count": 34
    }
   ],
   "metadata": {
    "ExecuteTime": {
     "end_time": "2021-09-13T05:32:43.472303Z",
     "start_time": "2021-09-13T05:32:43.437303Z"
    },
    "scrolled": true
   }
  },
  {
   "cell_type": "code",
   "execution_count": 35,
   "source": [
    "# check the clusters on a county level\n",
    "\n",
    "g = df.groupby(['cluster']).agg({'county_number':'unique',\n",
    "                                'licensed_bed_size':'unique'}).reset_index()\n",
    "round(g)"
   ],
   "outputs": [
    {
     "output_type": "execute_result",
     "data": {
      "text/html": [
       "<div>\n",
       "<style scoped>\n",
       "    .dataframe tbody tr th:only-of-type {\n",
       "        vertical-align: middle;\n",
       "    }\n",
       "\n",
       "    .dataframe tbody tr th {\n",
       "        vertical-align: top;\n",
       "    }\n",
       "\n",
       "    .dataframe thead th {\n",
       "        text-align: right;\n",
       "    }\n",
       "</style>\n",
       "<table border=\"1\" class=\"dataframe\">\n",
       "  <thead>\n",
       "    <tr style=\"text-align: right;\">\n",
       "      <th></th>\n",
       "      <th>cluster</th>\n",
       "      <th>county_number</th>\n",
       "      <th>licensed_bed_size</th>\n",
       "    </tr>\n",
       "  </thead>\n",
       "  <tbody>\n",
       "    <tr>\n",
       "      <th>0</th>\n",
       "      <td>0</td>\n",
       "      <td>[1, 10, 16, 19, 30, 31, 33, 34, 36, 37, 43, 50...</td>\n",
       "      <td>[300-499, 200-299, 500+, 100-149, 150-199, 50-99]</td>\n",
       "    </tr>\n",
       "    <tr>\n",
       "      <th>1</th>\n",
       "      <td>1</td>\n",
       "      <td>[1, 4, 7, 10, 13, 15, 19, 20, 24, 27, 30, 31, ...</td>\n",
       "      <td>[300-499, 150-199, 200-299, 100-149, 500+, 50-...</td>\n",
       "    </tr>\n",
       "    <tr>\n",
       "      <th>2</th>\n",
       "      <td>2</td>\n",
       "      <td>[1, 3, 4, 5, 6, 7, 8, 9, 10, 11, 12, 14, 15, 1...</td>\n",
       "      <td>[100-149, 150-199, 200-299, 50-99, 1-49, 300-499]</td>\n",
       "    </tr>\n",
       "  </tbody>\n",
       "</table>\n",
       "</div>"
      ],
      "text/plain": [
       "   cluster                                      county_number  \\\n",
       "0        0  [1, 10, 16, 19, 30, 31, 33, 34, 36, 37, 43, 50...   \n",
       "1        1  [1, 4, 7, 10, 13, 15, 19, 20, 24, 27, 30, 31, ...   \n",
       "2        2  [1, 3, 4, 5, 6, 7, 8, 9, 10, 11, 12, 14, 15, 1...   \n",
       "\n",
       "                                   licensed_bed_size  \n",
       "0  [300-499, 200-299, 500+, 100-149, 150-199, 50-99]  \n",
       "1  [300-499, 150-199, 200-299, 100-149, 500+, 50-...  \n",
       "2  [100-149, 150-199, 200-299, 50-99, 1-49, 300-499]  "
      ]
     },
     "metadata": {},
     "execution_count": 35
    }
   ],
   "metadata": {
    "ExecuteTime": {
     "end_time": "2021-09-13T05:33:03.949888Z",
     "start_time": "2021-09-13T05:33:03.932888Z"
    },
    "scrolled": false
   }
  },
  {
   "cell_type": "code",
   "execution_count": 36,
   "source": [
    "dict(g['county_number'])"
   ],
   "outputs": [
    {
     "output_type": "execute_result",
     "data": {
      "text/plain": [
       "{0: array([ 1, 10, 16, 19, 30, 31, 33, 34, 36, 37, 43, 50, 24, 39, 15,  7, 38,\n",
       "        54, 58], dtype=int64),\n",
       " 1: array([ 1,  4,  7, 10, 13, 15, 19, 20, 24, 27, 30, 31, 33, 34, 36, 37, 38,\n",
       "        39, 41, 42, 43, 44, 45, 48, 49, 50, 54, 56, 58, 40, 21, 55],\n",
       "       dtype=int64),\n",
       " 2: array([ 1,  3,  4,  5,  6,  7,  8,  9, 10, 11, 12, 14, 15, 16, 17, 18, 19,\n",
       "        21, 22, 23, 24, 25, 26, 27, 28, 29, 30, 31, 32, 33, 34, 35, 36, 37,\n",
       "        38, 39, 40, 41, 42, 43, 44, 45, 47, 48, 49, 50, 52, 53, 54, 55, 56,\n",
       "        57, 20], dtype=int64)}"
      ]
     },
     "metadata": {},
     "execution_count": 36
    }
   ],
   "metadata": {
    "ExecuteTime": {
     "end_time": "2021-09-13T05:33:12.555061Z",
     "start_time": "2021-09-13T05:33:12.540053Z"
    }
   }
  },
  {
   "cell_type": "code",
   "execution_count": 37,
   "source": [
    "df['cluster'] = df_num['cluster'].copy()"
   ],
   "outputs": [],
   "metadata": {
    "ExecuteTime": {
     "end_time": "2021-09-13T05:33:23.099862Z",
     "start_time": "2021-09-13T05:33:23.084262Z"
    }
   }
  },
  {
   "cell_type": "code",
   "execution_count": 58,
   "source": [
    "# df.loc[df_num['cluster'] == 2, 'cluster'] = 'Medium Encounters'\n",
    "# df.loc[df_num['cluster'] == 1, 'cluster'] = 'Low Encounters'\n",
    "# df.loc[df_num['cluster'] == 0, 'cluster'] = 'High Encounters'"
   ],
   "outputs": [],
   "metadata": {
    "ExecuteTime": {
     "end_time": "2021-09-09T02:53:09.260017Z",
     "start_time": "2021-09-09T02:53:09.245016Z"
    }
   }
  },
  {
   "cell_type": "code",
   "execution_count": 38,
   "source": [
    "df.head(3)"
   ],
   "outputs": [
    {
     "output_type": "execute_result",
     "data": {
      "text/html": [
       "<div>\n",
       "<style scoped>\n",
       "    .dataframe tbody tr th:only-of-type {\n",
       "        vertical-align: middle;\n",
       "    }\n",
       "\n",
       "    .dataframe tbody tr th {\n",
       "        vertical-align: top;\n",
       "    }\n",
       "\n",
       "    .dataframe thead th {\n",
       "        text-align: right;\n",
       "    }\n",
       "</style>\n",
       "<table border=\"1\" class=\"dataframe\">\n",
       "  <thead>\n",
       "    <tr style=\"text-align: right;\">\n",
       "      <th></th>\n",
       "      <th>year</th>\n",
       "      <th>oshpd_id</th>\n",
       "      <th>county_number</th>\n",
       "      <th>county_name</th>\n",
       "      <th>facility_name</th>\n",
       "      <th>dba_address1</th>\n",
       "      <th>dba_city</th>\n",
       "      <th>dba_zip_code</th>\n",
       "      <th>license_category_desc</th>\n",
       "      <th>teaching_hospital_desc</th>\n",
       "      <th>...</th>\n",
       "      <th>medicare</th>\n",
       "      <th>other_payer</th>\n",
       "      <th>private_coverage</th>\n",
       "      <th>selfpay</th>\n",
       "      <th>all_other</th>\n",
       "      <th>english</th>\n",
       "      <th>spanish</th>\n",
       "      <th>ed_admit</th>\n",
       "      <th>ed_visit</th>\n",
       "      <th>cluster</th>\n",
       "    </tr>\n",
       "  </thead>\n",
       "  <tbody>\n",
       "    <tr>\n",
       "      <th>0</th>\n",
       "      <td>2012</td>\n",
       "      <td>106010735</td>\n",
       "      <td>1</td>\n",
       "      <td>Alameda</td>\n",
       "      <td>ALAMEDA HOSPITAL</td>\n",
       "      <td>2070 CLINTON</td>\n",
       "      <td>ALAMEDA</td>\n",
       "      <td>94501</td>\n",
       "      <td>General Acute Care</td>\n",
       "      <td>0.0</td>\n",
       "      <td>...</td>\n",
       "      <td>2740.0</td>\n",
       "      <td>3469.0</td>\n",
       "      <td>4339.0</td>\n",
       "      <td>0.0</td>\n",
       "      <td>522.0</td>\n",
       "      <td>12918.0</td>\n",
       "      <td>287.0</td>\n",
       "      <td>2595.0</td>\n",
       "      <td>13727.0</td>\n",
       "      <td>2</td>\n",
       "    </tr>\n",
       "    <tr>\n",
       "      <th>1</th>\n",
       "      <td>2012</td>\n",
       "      <td>106010739</td>\n",
       "      <td>1</td>\n",
       "      <td>Alameda</td>\n",
       "      <td>ALTA BATES SUMMIT MEDICAL CENTER-ALTA BATES CA...</td>\n",
       "      <td>2450 ASHBY STREET</td>\n",
       "      <td>BERKELEY</td>\n",
       "      <td>94705</td>\n",
       "      <td>General Acute Care</td>\n",
       "      <td>0.0</td>\n",
       "      <td>...</td>\n",
       "      <td>5707.0</td>\n",
       "      <td>1877.0</td>\n",
       "      <td>12926.0</td>\n",
       "      <td>0.0</td>\n",
       "      <td>534.0</td>\n",
       "      <td>33867.0</td>\n",
       "      <td>941.0</td>\n",
       "      <td>6047.0</td>\n",
       "      <td>35342.0</td>\n",
       "      <td>1</td>\n",
       "    </tr>\n",
       "    <tr>\n",
       "      <th>2</th>\n",
       "      <td>2012</td>\n",
       "      <td>106010776</td>\n",
       "      <td>1</td>\n",
       "      <td>Alameda</td>\n",
       "      <td>CHILDRENS HOSPITAL AND RESEARCH CENTER AT OAKLAND</td>\n",
       "      <td>747 52ND STREET</td>\n",
       "      <td>OAKLAND</td>\n",
       "      <td>94609</td>\n",
       "      <td>General Acute Care</td>\n",
       "      <td>0.0</td>\n",
       "      <td>...</td>\n",
       "      <td>19.0</td>\n",
       "      <td>1785.0</td>\n",
       "      <td>5949.0</td>\n",
       "      <td>0.0</td>\n",
       "      <td>1425.0</td>\n",
       "      <td>27285.0</td>\n",
       "      <td>10508.0</td>\n",
       "      <td>6911.0</td>\n",
       "      <td>39218.0</td>\n",
       "      <td>2</td>\n",
       "    </tr>\n",
       "  </tbody>\n",
       "</table>\n",
       "<p>3 rows × 53 columns</p>\n",
       "</div>"
      ],
      "text/plain": [
       "   year   oshpd_id  county_number county_name  \\\n",
       "0  2012  106010735              1     Alameda   \n",
       "1  2012  106010739              1     Alameda   \n",
       "2  2012  106010776              1     Alameda   \n",
       "\n",
       "                                       facility_name       dba_address1  \\\n",
       "0                                   ALAMEDA HOSPITAL       2070 CLINTON   \n",
       "1  ALTA BATES SUMMIT MEDICAL CENTER-ALTA BATES CA...  2450 ASHBY STREET   \n",
       "2  CHILDRENS HOSPITAL AND RESEARCH CENTER AT OAKLAND    747 52ND STREET   \n",
       "\n",
       "   dba_city  dba_zip_code license_category_desc  teaching_hospital_desc  ...  \\\n",
       "0   ALAMEDA         94501    General Acute Care                     0.0  ...   \n",
       "1  BERKELEY         94705    General Acute Care                     0.0  ...   \n",
       "2   OAKLAND         94609    General Acute Care                     0.0  ...   \n",
       "\n",
       "  medicare other_payer  private_coverage  selfpay  all_other  english  \\\n",
       "0   2740.0      3469.0            4339.0      0.0      522.0  12918.0   \n",
       "1   5707.0      1877.0           12926.0      0.0      534.0  33867.0   \n",
       "2     19.0      1785.0            5949.0      0.0     1425.0  27285.0   \n",
       "\n",
       "   spanish  ed_admit  ed_visit  cluster  \n",
       "0    287.0    2595.0   13727.0        2  \n",
       "1    941.0    6047.0   35342.0        1  \n",
       "2  10508.0    6911.0   39218.0        2  \n",
       "\n",
       "[3 rows x 53 columns]"
      ]
     },
     "metadata": {},
     "execution_count": 38
    }
   ],
   "metadata": {
    "ExecuteTime": {
     "end_time": "2021-09-13T05:33:26.301312Z",
     "start_time": "2021-09-13T05:33:26.276312Z"
    },
    "scrolled": false
   }
  },
  {
   "cell_type": "code",
   "execution_count": 62,
   "source": [
    "df.info()"
   ],
   "outputs": [
    {
     "output_type": "stream",
     "name": "stdout",
     "text": [
      "<class 'pandas.core.frame.DataFrame'>\n",
      "Int64Index: 2883 entries, 0 to 2882\n",
      "Data columns (total 53 columns):\n",
      " #   Column                  Non-Null Count  Dtype  \n",
      "---  ------                  --------------  -----  \n",
      " 0   year                    2883 non-null   int64  \n",
      " 1   oshpd_id                2883 non-null   int64  \n",
      " 2   county_number           2883 non-null   int64  \n",
      " 3   county_name             2883 non-null   object \n",
      " 4   facility_name           2883 non-null   object \n",
      " 5   dba_address1            2883 non-null   object \n",
      " 6   dba_city                2883 non-null   object \n",
      " 7   dba_zip_code            2883 non-null   int64  \n",
      " 8   license_category_desc   2883 non-null   object \n",
      " 9   teaching_hospital_desc  2883 non-null   float64\n",
      " 10  licensed_bed_size       2883 non-null   object \n",
      " 11  er_service_level        2883 non-null   object \n",
      " 12  sex_male                2883 non-null   float64\n",
      " 13  sex_female              2883 non-null   float64\n",
      " 14  sex_unk                 2883 non-null   float64\n",
      " 15  age_01_09               2883 non-null   float64\n",
      " 16  age_10_19               2883 non-null   float64\n",
      " 17  age_20_29               2883 non-null   float64\n",
      " 18  age_30_39               2883 non-null   float64\n",
      " 19  age_40_49               2883 non-null   float64\n",
      " 20  age_50_59               2883 non-null   float64\n",
      " 21  age_60_69               2883 non-null   float64\n",
      " 22  age_70_79               2883 non-null   float64\n",
      " 23  age_80_                 2883 non-null   float64\n",
      " 24  age_under_1             2883 non-null   float64\n",
      " 25  age_unknown             2883 non-null   float64\n",
      " 26  asian_pacific_island    2883 non-null   float64\n",
      " 27  black                   2883 non-null   float64\n",
      " 28  hispanic                2883 non-null   float64\n",
      " 29  native_american_eski    2883 non-null   float64\n",
      " 30  other_race              2883 non-null   float64\n",
      " 31  unknown_race            2883 non-null   float64\n",
      " 32  white                   2883 non-null   float64\n",
      " 33  acute_care              2883 non-null   float64\n",
      " 34  against_medical_advice  2883 non-null   float64\n",
      " 35  died                    2883 non-null   float64\n",
      " 36  hospice_care            2883 non-null   float64\n",
      " 37  home_health_service     2883 non-null   float64\n",
      " 38  residential_care        2883 non-null   float64\n",
      " 39  routine                 2883 non-null   float64\n",
      " 40  psychiatric_care        2883 non-null   float64\n",
      " 41  sn_ic_care              2883 non-null   float64\n",
      " 42  medi_cal                2883 non-null   float64\n",
      " 43  medicare                2883 non-null   float64\n",
      " 44  other_payer             2883 non-null   float64\n",
      " 45  private_coverage        2883 non-null   float64\n",
      " 46  selfpay                 2883 non-null   float64\n",
      " 47  all_other               2883 non-null   float64\n",
      " 48  english                 2883 non-null   float64\n",
      " 49  spanish                 2883 non-null   float64\n",
      " 50  ed_admit                2883 non-null   float64\n",
      " 51  ed_visit                2883 non-null   float64\n",
      " 52  cluster                 2883 non-null   int32  \n",
      "dtypes: float64(41), int32(1), int64(4), object(7)\n",
      "memory usage: 1.3+ MB\n"
     ]
    }
   ],
   "metadata": {
    "ExecuteTime": {
     "end_time": "2021-09-09T04:05:55.172345Z",
     "start_time": "2021-09-09T04:05:55.158342Z"
    }
   }
  },
  {
   "cell_type": "code",
   "execution_count": 39,
   "source": [
    "df.to_csv(os.path.join(data_path,'Prepared', '5.facilities_clusters.csv'), index = 0)"
   ],
   "outputs": [],
   "metadata": {
    "ExecuteTime": {
     "end_time": "2021-09-13T05:33:38.126369Z",
     "start_time": "2021-09-13T05:33:38.020289Z"
    }
   }
  }
 ],
 "metadata": {
  "kernelspec": {
   "display_name": "Python 3",
   "language": "python",
   "name": "python3"
  },
  "language_info": {
   "codemirror_mode": {
    "name": "ipython",
    "version": 3
   },
   "file_extension": ".py",
   "mimetype": "text/x-python",
   "name": "python",
   "nbconvert_exporter": "python",
   "pygments_lexer": "ipython3",
   "version": "3.8.5"
  },
  "varInspector": {
   "cols": {
    "lenName": 16,
    "lenType": 16,
    "lenVar": 40
   },
   "kernels_config": {
    "python": {
     "delete_cmd_postfix": "",
     "delete_cmd_prefix": "del ",
     "library": "var_list.py",
     "varRefreshCmd": "print(var_dic_list())"
    },
    "r": {
     "delete_cmd_postfix": ") ",
     "delete_cmd_prefix": "rm(",
     "library": "var_list.r",
     "varRefreshCmd": "cat(var_dic_list()) "
    }
   },
   "types_to_exclude": [
    "module",
    "function",
    "builtin_function_or_method",
    "instance",
    "_Feature"
   ],
   "window_display": false
  }
 },
 "nbformat": 4,
 "nbformat_minor": 4
}