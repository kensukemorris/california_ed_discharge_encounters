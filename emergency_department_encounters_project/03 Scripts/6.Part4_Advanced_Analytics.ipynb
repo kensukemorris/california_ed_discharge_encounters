{
 "cells": [
  {
   "cell_type": "markdown",
   "source": [
    "### This script contains the following sections:\n",
    "\n",
    "#### 1. Importing libraries and data\n",
    "#### 2. Data cleaning\n",
    "#### 3. Data prep for regression analysis\n",
    "#### 4. Regression analysis and comments"
   ],
   "metadata": {
    "ExecuteTime": {
     "end_time": "2021-08-29T03:33:18.033737Z",
     "start_time": "2021-08-29T03:33:18.018095Z"
    }
   }
  },
  {
   "cell_type": "markdown",
   "source": [
    "## 1. Imports"
   ],
   "metadata": {}
  },
  {
   "cell_type": "code",
   "execution_count": 8,
   "source": [
    "import pandas as pd\r\n",
    "import numpy as np\r\n",
    "import os\r\n",
    "\r\n",
    "import seaborn as sns\r\n",
    "import matplotlib\r\n",
    "import matplotlib.pyplot as plt\r\n",
    "sns.set()\r\n",
    "%matplotlib inline\r\n",
    "\r\n",
    "from sklearn.model_selection import train_test_split\r\n",
    "from sklearn.linear_model import LinearRegression\r\n",
    "from sklearn.metrics import mean_squared_error, r2_score"
   ],
   "outputs": [],
   "metadata": {
    "ExecuteTime": {
     "end_time": "2021-09-07T02:55:56.842708Z",
     "start_time": "2021-09-07T02:55:56.829708Z"
    }
   }
  },
  {
   "cell_type": "code",
   "execution_count": 9,
   "source": [
    "path = r'C:\\Users\\\\Achievement 6\\data_emergency_ex6.1'\r\n",
    "data_path = r'C:\\Users\\\\data_emergency_ex6.1\\Data'"
   ],
   "outputs": [],
   "metadata": {
    "ExecuteTime": {
     "end_time": "2021-09-07T02:55:56.857706Z",
     "start_time": "2021-09-07T02:55:56.843709Z"
    }
   }
  },
  {
   "cell_type": "code",
   "execution_count": 10,
   "source": [
    "#import df\r\n",
    "df = pd.read_csv(os.path.join(data_path,'Prepared','3.data_join_facilities.csv'))\r\n",
    "df.head(2)"
   ],
   "outputs": [
    {
     "output_type": "execute_result",
     "data": {
      "text/html": [
       "<div>\n",
       "<style scoped>\n",
       "    .dataframe tbody tr th:only-of-type {\n",
       "        vertical-align: middle;\n",
       "    }\n",
       "\n",
       "    .dataframe tbody tr th {\n",
       "        vertical-align: top;\n",
       "    }\n",
       "\n",
       "    .dataframe thead th {\n",
       "        text-align: right;\n",
       "    }\n",
       "</style>\n",
       "<table border=\"1\" class=\"dataframe\">\n",
       "  <thead>\n",
       "    <tr style=\"text-align: right;\">\n",
       "      <th></th>\n",
       "      <th>year</th>\n",
       "      <th>oshpd_id</th>\n",
       "      <th>county_number</th>\n",
       "      <th>county_name</th>\n",
       "      <th>facility_name</th>\n",
       "      <th>dba_address1</th>\n",
       "      <th>dba_city</th>\n",
       "      <th>dba_zip_code</th>\n",
       "      <th>license_category_desc</th>\n",
       "      <th>teaching_hospital_desc</th>\n",
       "      <th>...</th>\n",
       "      <th>medi_cal</th>\n",
       "      <th>medicare</th>\n",
       "      <th>other_payer</th>\n",
       "      <th>private_coverage</th>\n",
       "      <th>selfpay</th>\n",
       "      <th>all_other</th>\n",
       "      <th>english</th>\n",
       "      <th>spanish</th>\n",
       "      <th>ed_admit</th>\n",
       "      <th>ed_visit</th>\n",
       "    </tr>\n",
       "  </thead>\n",
       "  <tbody>\n",
       "    <tr>\n",
       "      <th>0</th>\n",
       "      <td>2012</td>\n",
       "      <td>106010735</td>\n",
       "      <td>1</td>\n",
       "      <td>ALAMEDA</td>\n",
       "      <td>ALAMEDA HOSPITAL</td>\n",
       "      <td>2070 CLINTON</td>\n",
       "      <td>ALAMEDA</td>\n",
       "      <td>94501</td>\n",
       "      <td>General Acute Care</td>\n",
       "      <td>0.0</td>\n",
       "      <td>...</td>\n",
       "      <td>549.0</td>\n",
       "      <td>2740.0</td>\n",
       "      <td>3469.0</td>\n",
       "      <td>4339.0</td>\n",
       "      <td>0.0</td>\n",
       "      <td>522.0</td>\n",
       "      <td>12918.0</td>\n",
       "      <td>287.0</td>\n",
       "      <td>2595.0</td>\n",
       "      <td>13727.0</td>\n",
       "    </tr>\n",
       "    <tr>\n",
       "      <th>1</th>\n",
       "      <td>2012</td>\n",
       "      <td>106010739</td>\n",
       "      <td>1</td>\n",
       "      <td>ALAMEDA</td>\n",
       "      <td>ALTA BATES SUMMIT MEDICAL CENTER-ALTA BATES CA...</td>\n",
       "      <td>2450 ASHBY STREET</td>\n",
       "      <td>BERKELEY</td>\n",
       "      <td>94705</td>\n",
       "      <td>General Acute Care</td>\n",
       "      <td>0.0</td>\n",
       "      <td>...</td>\n",
       "      <td>8613.0</td>\n",
       "      <td>5707.0</td>\n",
       "      <td>1877.0</td>\n",
       "      <td>12926.0</td>\n",
       "      <td>0.0</td>\n",
       "      <td>534.0</td>\n",
       "      <td>33867.0</td>\n",
       "      <td>941.0</td>\n",
       "      <td>6047.0</td>\n",
       "      <td>35342.0</td>\n",
       "    </tr>\n",
       "  </tbody>\n",
       "</table>\n",
       "<p>2 rows × 53 columns</p>\n",
       "</div>"
      ],
      "text/plain": [
       "   year   oshpd_id  county_number county_name  \\\n",
       "0  2012  106010735              1     ALAMEDA   \n",
       "1  2012  106010739              1     ALAMEDA   \n",
       "\n",
       "                                       facility_name       dba_address1  \\\n",
       "0                                   ALAMEDA HOSPITAL       2070 CLINTON   \n",
       "1  ALTA BATES SUMMIT MEDICAL CENTER-ALTA BATES CA...  2450 ASHBY STREET   \n",
       "\n",
       "   dba_city  dba_zip_code license_category_desc  teaching_hospital_desc  ...  \\\n",
       "0   ALAMEDA         94501    General Acute Care                     0.0  ...   \n",
       "1  BERKELEY         94705    General Acute Care                     0.0  ...   \n",
       "\n",
       "  medi_cal medicare other_payer  private_coverage  selfpay  all_other  \\\n",
       "0    549.0   2740.0      3469.0            4339.0      0.0      522.0   \n",
       "1   8613.0   5707.0      1877.0           12926.0      0.0      534.0   \n",
       "\n",
       "   english  spanish  ed_admit  ed_visit  \n",
       "0  12918.0    287.0    2595.0   13727.0  \n",
       "1  33867.0    941.0    6047.0   35342.0  \n",
       "\n",
       "[2 rows x 53 columns]"
      ]
     },
     "metadata": {},
     "execution_count": 10
    }
   ],
   "metadata": {
    "ExecuteTime": {
     "end_time": "2021-09-07T02:55:56.889711Z",
     "start_time": "2021-09-07T02:55:56.858709Z"
    },
    "scrolled": false
   }
  },
  {
   "cell_type": "code",
   "execution_count": 11,
   "source": [
    "df.isna().sum()"
   ],
   "outputs": [
    {
     "output_type": "execute_result",
     "data": {
      "text/plain": [
       "year                        0\n",
       "oshpd_id                    0\n",
       "county_number               0\n",
       "county_name                 0\n",
       "facility_name               0\n",
       "dba_address1                0\n",
       "dba_city                    0\n",
       "dba_zip_code                0\n",
       "license_category_desc       0\n",
       "teaching_hospital_desc      0\n",
       "licensed_bed_size           0\n",
       "mssa_designation          325\n",
       "er_service_level            0\n",
       "sex_male                    0\n",
       "sex_female                  0\n",
       "sex_unk                     0\n",
       "age_01_09                   0\n",
       "age_10_19                   0\n",
       "age_20_29                   0\n",
       "age_30_39                   0\n",
       "age_40_49                   0\n",
       "age_50_59                   0\n",
       "age_60_69                   0\n",
       "age_70_79                   0\n",
       "age_80_                     0\n",
       "age_under_1                 0\n",
       "age_unknown                 0\n",
       "asian_pacific_island        0\n",
       "black                       0\n",
       "hispanic                    0\n",
       "native_american_eski        0\n",
       "other_race                  0\n",
       "unknown_race                0\n",
       "white                       0\n",
       "acute_care                  0\n",
       "against_medical_advice      0\n",
       "died                        0\n",
       "hospice_care                0\n",
       "home_health_service         0\n",
       "residential_care            0\n",
       "routine                     0\n",
       "psychiatric_care            0\n",
       "sn_ic_care                  0\n",
       "medi_cal                    0\n",
       "medicare                    0\n",
       "other_payer                 0\n",
       "private_coverage            0\n",
       "selfpay                     0\n",
       "all_other                   0\n",
       "english                     0\n",
       "spanish                     0\n",
       "ed_admit                    8\n",
       "ed_visit                    0\n",
       "dtype: int64"
      ]
     },
     "metadata": {},
     "execution_count": 11
    }
   ],
   "metadata": {
    "ExecuteTime": {
     "end_time": "2021-09-07T02:55:56.905707Z",
     "start_time": "2021-09-07T02:55:56.890711Z"
    },
    "scrolled": true
   }
  },
  {
   "cell_type": "code",
   "execution_count": 12,
   "source": [
    "df.loc[df['ed_admit'].isna()]"
   ],
   "outputs": [
    {
     "output_type": "execute_result",
     "data": {
      "text/html": [
       "<div>\n",
       "<style scoped>\n",
       "    .dataframe tbody tr th:only-of-type {\n",
       "        vertical-align: middle;\n",
       "    }\n",
       "\n",
       "    .dataframe tbody tr th {\n",
       "        vertical-align: top;\n",
       "    }\n",
       "\n",
       "    .dataframe thead th {\n",
       "        text-align: right;\n",
       "    }\n",
       "</style>\n",
       "<table border=\"1\" class=\"dataframe\">\n",
       "  <thead>\n",
       "    <tr style=\"text-align: right;\">\n",
       "      <th></th>\n",
       "      <th>year</th>\n",
       "      <th>oshpd_id</th>\n",
       "      <th>county_number</th>\n",
       "      <th>county_name</th>\n",
       "      <th>facility_name</th>\n",
       "      <th>dba_address1</th>\n",
       "      <th>dba_city</th>\n",
       "      <th>dba_zip_code</th>\n",
       "      <th>license_category_desc</th>\n",
       "      <th>teaching_hospital_desc</th>\n",
       "      <th>...</th>\n",
       "      <th>medi_cal</th>\n",
       "      <th>medicare</th>\n",
       "      <th>other_payer</th>\n",
       "      <th>private_coverage</th>\n",
       "      <th>selfpay</th>\n",
       "      <th>all_other</th>\n",
       "      <th>english</th>\n",
       "      <th>spanish</th>\n",
       "      <th>ed_admit</th>\n",
       "      <th>ed_visit</th>\n",
       "    </tr>\n",
       "  </thead>\n",
       "  <tbody>\n",
       "    <tr>\n",
       "      <th>270</th>\n",
       "      <td>2012</td>\n",
       "      <td>106410828</td>\n",
       "      <td>41</td>\n",
       "      <td>SAN MATEO</td>\n",
       "      <td>SETON COASTSIDE</td>\n",
       "      <td>600 MARINE BOULEVARD</td>\n",
       "      <td>MOSS BEACH</td>\n",
       "      <td>94038</td>\n",
       "      <td>General Acute Care</td>\n",
       "      <td>0.0</td>\n",
       "      <td>...</td>\n",
       "      <td>1059.0</td>\n",
       "      <td>470.0</td>\n",
       "      <td>207.0</td>\n",
       "      <td>1040.0</td>\n",
       "      <td>0.0</td>\n",
       "      <td>51.0</td>\n",
       "      <td>2215.0</td>\n",
       "      <td>834.0</td>\n",
       "      <td>NaN</td>\n",
       "      <td>3100.0</td>\n",
       "    </tr>\n",
       "    <tr>\n",
       "      <th>595</th>\n",
       "      <td>2013</td>\n",
       "      <td>106410828</td>\n",
       "      <td>41</td>\n",
       "      <td>SAN MATEO</td>\n",
       "      <td>SETON COASTSIDE</td>\n",
       "      <td>600 MARINE BOULEVARD</td>\n",
       "      <td>MOSS BEACH</td>\n",
       "      <td>94038</td>\n",
       "      <td>General Acute Care</td>\n",
       "      <td>0.0</td>\n",
       "      <td>...</td>\n",
       "      <td>878.0</td>\n",
       "      <td>549.0</td>\n",
       "      <td>213.0</td>\n",
       "      <td>986.0</td>\n",
       "      <td>0.0</td>\n",
       "      <td>44.0</td>\n",
       "      <td>2144.0</td>\n",
       "      <td>779.0</td>\n",
       "      <td>NaN</td>\n",
       "      <td>2967.0</td>\n",
       "    </tr>\n",
       "    <tr>\n",
       "      <th>1562</th>\n",
       "      <td>2016</td>\n",
       "      <td>106410828</td>\n",
       "      <td>41</td>\n",
       "      <td>SAN MATEO</td>\n",
       "      <td>SETON COASTSIDE</td>\n",
       "      <td>600 MARINE BOULEVARD</td>\n",
       "      <td>MOSS BEACH</td>\n",
       "      <td>94038</td>\n",
       "      <td>Hospital</td>\n",
       "      <td>0.0</td>\n",
       "      <td>...</td>\n",
       "      <td>1231.0</td>\n",
       "      <td>359.0</td>\n",
       "      <td>122.0</td>\n",
       "      <td>764.0</td>\n",
       "      <td>229.0</td>\n",
       "      <td>31.0</td>\n",
       "      <td>1874.0</td>\n",
       "      <td>804.0</td>\n",
       "      <td>NaN</td>\n",
       "      <td>2709.0</td>\n",
       "    </tr>\n",
       "    <tr>\n",
       "      <th>1882</th>\n",
       "      <td>2017</td>\n",
       "      <td>106410828</td>\n",
       "      <td>41</td>\n",
       "      <td>SAN MATEO</td>\n",
       "      <td>SETON COASTSIDE</td>\n",
       "      <td>600 MARINE BOULEVARD</td>\n",
       "      <td>MOSS BEACH</td>\n",
       "      <td>94038</td>\n",
       "      <td>General Acute Care</td>\n",
       "      <td>0.0</td>\n",
       "      <td>...</td>\n",
       "      <td>1156.0</td>\n",
       "      <td>404.0</td>\n",
       "      <td>122.0</td>\n",
       "      <td>812.0</td>\n",
       "      <td>185.0</td>\n",
       "      <td>31.0</td>\n",
       "      <td>1942.0</td>\n",
       "      <td>707.0</td>\n",
       "      <td>NaN</td>\n",
       "      <td>2680.0</td>\n",
       "    </tr>\n",
       "    <tr>\n",
       "      <th>2204</th>\n",
       "      <td>2018</td>\n",
       "      <td>106410828</td>\n",
       "      <td>41</td>\n",
       "      <td>SAN MATEO</td>\n",
       "      <td>SETON COASTSIDE</td>\n",
       "      <td>600 MARINE BOULEVARD</td>\n",
       "      <td>MOSS BEACH</td>\n",
       "      <td>94038</td>\n",
       "      <td>General Acute Care</td>\n",
       "      <td>0.0</td>\n",
       "      <td>...</td>\n",
       "      <td>1122.0</td>\n",
       "      <td>397.0</td>\n",
       "      <td>132.0</td>\n",
       "      <td>687.0</td>\n",
       "      <td>176.0</td>\n",
       "      <td>31.0</td>\n",
       "      <td>1760.0</td>\n",
       "      <td>729.0</td>\n",
       "      <td>NaN</td>\n",
       "      <td>2520.0</td>\n",
       "    </tr>\n",
       "    <tr>\n",
       "      <th>2522</th>\n",
       "      <td>2019</td>\n",
       "      <td>106410828</td>\n",
       "      <td>41</td>\n",
       "      <td>SAN MATEO</td>\n",
       "      <td>SETON COASTSIDE</td>\n",
       "      <td>600 Marine Blvd</td>\n",
       "      <td>Moss Beach</td>\n",
       "      <td>94038</td>\n",
       "      <td>General Acute Care</td>\n",
       "      <td>0.0</td>\n",
       "      <td>...</td>\n",
       "      <td>965.0</td>\n",
       "      <td>362.0</td>\n",
       "      <td>104.0</td>\n",
       "      <td>622.0</td>\n",
       "      <td>169.0</td>\n",
       "      <td>20.0</td>\n",
       "      <td>1573.0</td>\n",
       "      <td>627.0</td>\n",
       "      <td>NaN</td>\n",
       "      <td>2222.0</td>\n",
       "    </tr>\n",
       "    <tr>\n",
       "      <th>2634</th>\n",
       "      <td>2020</td>\n",
       "      <td>106190045</td>\n",
       "      <td>19</td>\n",
       "      <td>LOS ANGELES</td>\n",
       "      <td>CATALINA ISLAND MEDICAL CENTER</td>\n",
       "      <td>100 Falls Canyon Rd</td>\n",
       "      <td>Avalon</td>\n",
       "      <td>90704</td>\n",
       "      <td>General Acute Care</td>\n",
       "      <td>0.0</td>\n",
       "      <td>...</td>\n",
       "      <td>416.0</td>\n",
       "      <td>239.0</td>\n",
       "      <td>67.0</td>\n",
       "      <td>600.0</td>\n",
       "      <td>147.0</td>\n",
       "      <td>6.0</td>\n",
       "      <td>1205.0</td>\n",
       "      <td>256.0</td>\n",
       "      <td>NaN</td>\n",
       "      <td>1469.0</td>\n",
       "    </tr>\n",
       "    <tr>\n",
       "      <th>2836</th>\n",
       "      <td>2020</td>\n",
       "      <td>106410828</td>\n",
       "      <td>41</td>\n",
       "      <td>SAN MATEO</td>\n",
       "      <td>AHMC SETON MEDICAL CENTER COASTSIDE</td>\n",
       "      <td>600 Marine Blvd</td>\n",
       "      <td>Moss Beach</td>\n",
       "      <td>94038</td>\n",
       "      <td>General Acute Care</td>\n",
       "      <td>0.0</td>\n",
       "      <td>...</td>\n",
       "      <td>392.0</td>\n",
       "      <td>171.0</td>\n",
       "      <td>40.0</td>\n",
       "      <td>460.0</td>\n",
       "      <td>93.0</td>\n",
       "      <td>12.0</td>\n",
       "      <td>860.0</td>\n",
       "      <td>283.0</td>\n",
       "      <td>NaN</td>\n",
       "      <td>1156.0</td>\n",
       "    </tr>\n",
       "  </tbody>\n",
       "</table>\n",
       "<p>8 rows × 53 columns</p>\n",
       "</div>"
      ],
      "text/plain": [
       "      year   oshpd_id  county_number  county_name  \\\n",
       "270   2012  106410828             41    SAN MATEO   \n",
       "595   2013  106410828             41    SAN MATEO   \n",
       "1562  2016  106410828             41    SAN MATEO   \n",
       "1882  2017  106410828             41    SAN MATEO   \n",
       "2204  2018  106410828             41    SAN MATEO   \n",
       "2522  2019  106410828             41    SAN MATEO   \n",
       "2634  2020  106190045             19  LOS ANGELES   \n",
       "2836  2020  106410828             41    SAN MATEO   \n",
       "\n",
       "                            facility_name          dba_address1    dba_city  \\\n",
       "270                       SETON COASTSIDE  600 MARINE BOULEVARD  MOSS BEACH   \n",
       "595                       SETON COASTSIDE  600 MARINE BOULEVARD  MOSS BEACH   \n",
       "1562                      SETON COASTSIDE  600 MARINE BOULEVARD  MOSS BEACH   \n",
       "1882                      SETON COASTSIDE  600 MARINE BOULEVARD  MOSS BEACH   \n",
       "2204                      SETON COASTSIDE  600 MARINE BOULEVARD  MOSS BEACH   \n",
       "2522                      SETON COASTSIDE       600 Marine Blvd  Moss Beach   \n",
       "2634       CATALINA ISLAND MEDICAL CENTER   100 Falls Canyon Rd      Avalon   \n",
       "2836  AHMC SETON MEDICAL CENTER COASTSIDE       600 Marine Blvd  Moss Beach   \n",
       "\n",
       "      dba_zip_code license_category_desc  teaching_hospital_desc  ...  \\\n",
       "270          94038    General Acute Care                     0.0  ...   \n",
       "595          94038    General Acute Care                     0.0  ...   \n",
       "1562         94038              Hospital                     0.0  ...   \n",
       "1882         94038    General Acute Care                     0.0  ...   \n",
       "2204         94038    General Acute Care                     0.0  ...   \n",
       "2522         94038    General Acute Care                     0.0  ...   \n",
       "2634         90704    General Acute Care                     0.0  ...   \n",
       "2836         94038    General Acute Care                     0.0  ...   \n",
       "\n",
       "     medi_cal medicare other_payer  private_coverage  selfpay  all_other  \\\n",
       "270    1059.0    470.0       207.0            1040.0      0.0       51.0   \n",
       "595     878.0    549.0       213.0             986.0      0.0       44.0   \n",
       "1562   1231.0    359.0       122.0             764.0    229.0       31.0   \n",
       "1882   1156.0    404.0       122.0             812.0    185.0       31.0   \n",
       "2204   1122.0    397.0       132.0             687.0    176.0       31.0   \n",
       "2522    965.0    362.0       104.0             622.0    169.0       20.0   \n",
       "2634    416.0    239.0        67.0             600.0    147.0        6.0   \n",
       "2836    392.0    171.0        40.0             460.0     93.0       12.0   \n",
       "\n",
       "      english  spanish  ed_admit  ed_visit  \n",
       "270    2215.0    834.0       NaN    3100.0  \n",
       "595    2144.0    779.0       NaN    2967.0  \n",
       "1562   1874.0    804.0       NaN    2709.0  \n",
       "1882   1942.0    707.0       NaN    2680.0  \n",
       "2204   1760.0    729.0       NaN    2520.0  \n",
       "2522   1573.0    627.0       NaN    2222.0  \n",
       "2634   1205.0    256.0       NaN    1469.0  \n",
       "2836    860.0    283.0       NaN    1156.0  \n",
       "\n",
       "[8 rows x 53 columns]"
      ]
     },
     "metadata": {},
     "execution_count": 12
    }
   ],
   "metadata": {
    "ExecuteTime": {
     "end_time": "2021-09-07T02:55:56.937728Z",
     "start_time": "2021-09-07T02:55:56.906707Z"
    }
   }
  },
  {
   "cell_type": "code",
   "execution_count": 13,
   "source": [
    "df.loc[df['oshpd_id'] == '']"
   ],
   "outputs": [
    {
     "output_type": "execute_result",
     "data": {
      "text/html": [
       "<div>\n",
       "<style scoped>\n",
       "    .dataframe tbody tr th:only-of-type {\n",
       "        vertical-align: middle;\n",
       "    }\n",
       "\n",
       "    .dataframe tbody tr th {\n",
       "        vertical-align: top;\n",
       "    }\n",
       "\n",
       "    .dataframe thead th {\n",
       "        text-align: right;\n",
       "    }\n",
       "</style>\n",
       "<table border=\"1\" class=\"dataframe\">\n",
       "  <thead>\n",
       "    <tr style=\"text-align: right;\">\n",
       "      <th></th>\n",
       "      <th>year</th>\n",
       "      <th>oshpd_id</th>\n",
       "      <th>county_number</th>\n",
       "      <th>county_name</th>\n",
       "      <th>facility_name</th>\n",
       "      <th>dba_address1</th>\n",
       "      <th>dba_city</th>\n",
       "      <th>dba_zip_code</th>\n",
       "      <th>license_category_desc</th>\n",
       "      <th>teaching_hospital_desc</th>\n",
       "      <th>...</th>\n",
       "      <th>medi_cal</th>\n",
       "      <th>medicare</th>\n",
       "      <th>other_payer</th>\n",
       "      <th>private_coverage</th>\n",
       "      <th>selfpay</th>\n",
       "      <th>all_other</th>\n",
       "      <th>english</th>\n",
       "      <th>spanish</th>\n",
       "      <th>ed_admit</th>\n",
       "      <th>ed_visit</th>\n",
       "    </tr>\n",
       "  </thead>\n",
       "  <tbody>\n",
       "  </tbody>\n",
       "</table>\n",
       "<p>0 rows × 53 columns</p>\n",
       "</div>"
      ],
      "text/plain": [
       "Empty DataFrame\n",
       "Columns: [year, oshpd_id, county_number, county_name, facility_name, dba_address1, dba_city, dba_zip_code, license_category_desc, teaching_hospital_desc, licensed_bed_size, mssa_designation, er_service_level, sex_male, sex_female, sex_unk, age_01_09, age_10_19, age_20_29, age_30_39, age_40_49, age_50_59, age_60_69, age_70_79, age_80_, age_under_1, age_unknown, asian_pacific_island, black, hispanic, native_american_eski, other_race, unknown_race, white, acute_care, against_medical_advice, died, hospice_care, home_health_service, residential_care, routine, psychiatric_care, sn_ic_care, medi_cal, medicare, other_payer, private_coverage, selfpay, all_other, english, spanish, ed_admit, ed_visit]\n",
       "Index: []\n",
       "\n",
       "[0 rows x 53 columns]"
      ]
     },
     "metadata": {},
     "execution_count": 13
    }
   ],
   "metadata": {
    "ExecuteTime": {
     "end_time": "2021-09-07T02:55:56.953728Z",
     "start_time": "2021-09-07T02:55:56.938731Z"
    }
   }
  },
  {
   "cell_type": "markdown",
   "source": [
    "## 2. Cleaning"
   ],
   "metadata": {}
  },
  {
   "cell_type": "code",
   "execution_count": 14,
   "source": [
    "df.shape"
   ],
   "outputs": [
    {
     "output_type": "execute_result",
     "data": {
      "text/plain": [
       "(2891, 53)"
      ]
     },
     "metadata": {},
     "execution_count": 14
    }
   ],
   "metadata": {
    "ExecuteTime": {
     "end_time": "2021-09-07T02:55:56.969740Z",
     "start_time": "2021-09-07T02:55:56.954730Z"
    }
   }
  },
  {
   "cell_type": "code",
   "execution_count": 15,
   "source": [
    "print(df.columns)"
   ],
   "outputs": [
    {
     "output_type": "stream",
     "name": "stdout",
     "text": [
      "Index(['year', 'oshpd_id', 'county_number', 'county_name', 'facility_name',\n",
      "       'dba_address1', 'dba_city', 'dba_zip_code', 'license_category_desc',\n",
      "       'teaching_hospital_desc', 'licensed_bed_size', 'mssa_designation',\n",
      "       'er_service_level', 'sex_male', 'sex_female', 'sex_unk', 'age_01_09',\n",
      "       'age_10_19', 'age_20_29', 'age_30_39', 'age_40_49', 'age_50_59',\n",
      "       'age_60_69', 'age_70_79', 'age_80_', 'age_under_1', 'age_unknown',\n",
      "       'asian_pacific_island', 'black', 'hispanic', 'native_american_eski',\n",
      "       'other_race', 'unknown_race', 'white', 'acute_care',\n",
      "       'against_medical_advice', 'died', 'hospice_care', 'home_health_service',\n",
      "       'residential_care', 'routine', 'psychiatric_care', 'sn_ic_care',\n",
      "       'medi_cal', 'medicare', 'other_payer', 'private_coverage', 'selfpay',\n",
      "       'all_other', 'english', 'spanish', 'ed_admit', 'ed_visit'],\n",
      "      dtype='object')\n"
     ]
    }
   ],
   "metadata": {
    "ExecuteTime": {
     "end_time": "2021-09-07T02:55:56.985744Z",
     "start_time": "2021-09-07T02:55:56.971744Z"
    }
   }
  },
  {
   "cell_type": "code",
   "execution_count": 16,
   "source": [
    "# df_reg = df[['hispanic','against_medical_advice']] #not needed since reshape will select specific variables"
   ],
   "outputs": [],
   "metadata": {
    "ExecuteTime": {
     "end_time": "2021-09-07T02:55:57.000958Z",
     "start_time": "2021-09-07T02:55:56.986746Z"
    }
   }
  },
  {
   "cell_type": "code",
   "execution_count": 17,
   "source": [
    "sns.histplot(df['hispanic']);"
   ],
   "outputs": [
    {
     "output_type": "display_data",
     "data": {
      "image/png": "[encoded data removed]",
      "text/plain": [
       "<Figure size 432x288 with 1 Axes>"
      ]
     },
     "metadata": {
      "needs_background": "light"
     }
    }
   ],
   "metadata": {
    "ExecuteTime": {
     "end_time": "2021-09-07T02:55:57.191970Z",
     "start_time": "2021-09-07T02:55:57.001960Z"
    },
    "scrolled": true
   }
  },
  {
   "cell_type": "code",
   "execution_count": 18,
   "source": [
    "sns.histplot(df['routine']); "
   ],
   "outputs": [
    {
     "output_type": "display_data",
     "data": {
      "image/png": "[encoded data removed]",
      "text/plain": [
       "<Figure size 432x288 with 1 Axes>"
      ]
     },
     "metadata": {
      "needs_background": "light"
     }
    }
   ],
   "metadata": {
    "ExecuteTime": {
     "end_time": "2021-09-07T02:55:57.351971Z",
     "start_time": "2021-09-07T02:55:57.192971Z"
    },
    "scrolled": true
   }
  },
  {
   "cell_type": "code",
   "execution_count": 19,
   "source": [
    "# print(df['hispanic'].mean)\r\n",
    "df[['hispanic','routine']].describe()"
   ],
   "outputs": [
    {
     "output_type": "execute_result",
     "data": {
      "text/html": [
       "<div>\n",
       "<style scoped>\n",
       "    .dataframe tbody tr th:only-of-type {\n",
       "        vertical-align: middle;\n",
       "    }\n",
       "\n",
       "    .dataframe tbody tr th {\n",
       "        vertical-align: top;\n",
       "    }\n",
       "\n",
       "    .dataframe thead th {\n",
       "        text-align: right;\n",
       "    }\n",
       "</style>\n",
       "<table border=\"1\" class=\"dataframe\">\n",
       "  <thead>\n",
       "    <tr style=\"text-align: right;\">\n",
       "      <th></th>\n",
       "      <th>hispanic</th>\n",
       "      <th>routine</th>\n",
       "    </tr>\n",
       "  </thead>\n",
       "  <tbody>\n",
       "    <tr>\n",
       "      <th>count</th>\n",
       "      <td>2891.000000</td>\n",
       "      <td>2891.000000</td>\n",
       "    </tr>\n",
       "    <tr>\n",
       "      <th>mean</th>\n",
       "      <td>14472.830854</td>\n",
       "      <td>34293.858872</td>\n",
       "    </tr>\n",
       "    <tr>\n",
       "      <th>std</th>\n",
       "      <td>14357.158718</td>\n",
       "      <td>23450.253411</td>\n",
       "    </tr>\n",
       "    <tr>\n",
       "      <th>min</th>\n",
       "      <td>0.000000</td>\n",
       "      <td>142.000000</td>\n",
       "    </tr>\n",
       "    <tr>\n",
       "      <th>25%</th>\n",
       "      <td>3532.500000</td>\n",
       "      <td>16422.000000</td>\n",
       "    </tr>\n",
       "    <tr>\n",
       "      <th>50%</th>\n",
       "      <td>10016.000000</td>\n",
       "      <td>30320.000000</td>\n",
       "    </tr>\n",
       "    <tr>\n",
       "      <th>75%</th>\n",
       "      <td>20493.500000</td>\n",
       "      <td>47831.000000</td>\n",
       "    </tr>\n",
       "    <tr>\n",
       "      <th>max</th>\n",
       "      <td>88227.000000</td>\n",
       "      <td>131956.000000</td>\n",
       "    </tr>\n",
       "  </tbody>\n",
       "</table>\n",
       "</div>"
      ],
      "text/plain": [
       "           hispanic        routine\n",
       "count   2891.000000    2891.000000\n",
       "mean   14472.830854   34293.858872\n",
       "std    14357.158718   23450.253411\n",
       "min        0.000000     142.000000\n",
       "25%     3532.500000   16422.000000\n",
       "50%    10016.000000   30320.000000\n",
       "75%    20493.500000   47831.000000\n",
       "max    88227.000000  131956.000000"
      ]
     },
     "metadata": {},
     "execution_count": 19
    }
   ],
   "metadata": {
    "ExecuteTime": {
     "end_time": "2021-09-07T02:55:57.367970Z",
     "start_time": "2021-09-07T02:55:57.352971Z"
    }
   }
  },
  {
   "cell_type": "markdown",
   "source": [
    "Outliers cannot be deleted in this case, especially for *routine* dispositions/discharges since I cannot be sure that the high values are indeed outliers. Facilities with higher bed capacities and ED admissions may have more encounters where patients are routinely. Addtionally, the data shows the encounters but not the repeated encounters."
   ],
   "metadata": {}
  },
  {
   "cell_type": "markdown",
   "source": [
    "## 3. Data prep"
   ],
   "metadata": {}
  },
  {
   "cell_type": "code",
   "execution_count": 20,
   "source": [
    "#View relationship between vriables of interest\r\n",
    "\r\n",
    "sns.scatterplot(x = 'hispanic', y = 'routine', data = df);"
   ],
   "outputs": [
    {
     "output_type": "display_data",
     "data": {
      "image/png": "[encoded data removed]",
      "text/plain": [
       "<Figure size 432x288 with 1 Axes>"
      ]
     },
     "metadata": {
      "needs_background": "light"
     }
    }
   ],
   "metadata": {
    "ExecuteTime": {
     "end_time": "2021-09-07T02:55:57.508611Z",
     "start_time": "2021-09-07T02:55:57.368970Z"
    },
    "scrolled": true
   }
  },
  {
   "cell_type": "markdown",
   "source": [
    "**Hypothesis**\n",
    "\n",
    "As the number of encounters for hispanic patient increase, routine disposition encounter also increase."
   ],
   "metadata": {}
  },
  {
   "cell_type": "code",
   "execution_count": 21,
   "source": [
    "#rehsape the data\r\n",
    "X = df['hispanic'].values.reshape(-1,1)\r\n",
    "y = df['routine'].values.reshape(-1,1)\r\n",
    "# y = df['routine'].values.reshape(2891,1) #alternative"
   ],
   "outputs": [],
   "metadata": {
    "ExecuteTime": {
     "end_time": "2021-09-07T02:55:57.524613Z",
     "start_time": "2021-09-07T02:55:57.509614Z"
    }
   }
  },
  {
   "cell_type": "code",
   "execution_count": 22,
   "source": [
    "\r\n",
    "len(X) == len(y)"
   ],
   "outputs": [
    {
     "output_type": "execute_result",
     "data": {
      "text/plain": [
       "True"
      ]
     },
     "metadata": {},
     "execution_count": 22
    }
   ],
   "metadata": {
    "ExecuteTime": {
     "end_time": "2021-09-07T02:55:57.539612Z",
     "start_time": "2021-09-07T02:55:57.525613Z"
    }
   }
  },
  {
   "cell_type": "code",
   "execution_count": 23,
   "source": [
    "print(\"X: \",X, \"y :\" ,y)"
   ],
   "outputs": [
    {
     "output_type": "stream",
     "name": "stdout",
     "text": [
      "X:  [[  173.]\n",
      " [ 3419.]\n",
      " [15489.]\n",
      " ...\n",
      " [ 8400.]\n",
      " [ 7095.]\n",
      " [13596.]] y : [[12462.]\n",
      " [33653.]\n",
      " [38135.]\n",
      " ...\n",
      " [17866.]\n",
      " [19550.]\n",
      " [46782.]]\n"
     ]
    }
   ],
   "metadata": {
    "ExecuteTime": {
     "end_time": "2021-09-07T02:55:57.555303Z",
     "start_time": "2021-09-07T02:55:57.540614Z"
    },
    "scrolled": true
   }
  },
  {
   "cell_type": "code",
   "execution_count": 24,
   "source": [
    "#split the data\r\n",
    "\r\n",
    "X_train, X_test, y_train, y_test = train_test_split(X, y, test_size=0.2, random_state=0)"
   ],
   "outputs": [],
   "metadata": {
    "ExecuteTime": {
     "end_time": "2021-09-07T02:55:57.570754Z",
     "start_time": "2021-09-07T02:55:57.556308Z"
    }
   }
  },
  {
   "cell_type": "markdown",
   "source": [
    "## 4. Regression Analysis"
   ],
   "metadata": {}
  },
  {
   "cell_type": "code",
   "execution_count": 25,
   "source": [
    "#define model\r\n",
    "model = LinearRegression()\r\n",
    "\r\n",
    "#fit/train the model\r\n",
    "model.fit(X_train, y_train)\r\n",
    "\r\n",
    "#predict using model\r\n",
    "y_pred = model.predict(X_test)"
   ],
   "outputs": [],
   "metadata": {
    "ExecuteTime": {
     "end_time": "2021-09-07T02:55:57.601714Z",
     "start_time": "2021-09-07T02:55:57.571754Z"
    }
   }
  },
  {
   "cell_type": "code",
   "execution_count": 26,
   "source": [
    "# Plot prediction on test set\r\n",
    "\r\n",
    "plot_test = plt\r\n",
    "plot_test.scatter(X_test, y_test, color='gray', s = 15)\r\n",
    "plot_test.plot(X_test, y_pred, color='red', linewidth =3)\r\n",
    "plot_test.title('Hispanic Patient Encounters vs Routine Patient Encounters (Facility Level)')\r\n",
    "plot_test.xlabel('Hispanic Patient Encounters')\r\n",
    "plot_test.ylabel('Routine Patient Encounters')\r\n",
    "plot_test.show()"
   ],
   "outputs": [
    {
     "output_type": "display_data",
     "data": {
      "image/png": "[encoded data removed]",
      "text/plain": [
       "<Figure size 432x288 with 1 Axes>"
      ]
     },
     "metadata": {
      "needs_background": "light"
     }
    }
   ],
   "metadata": {
    "ExecuteTime": {
     "end_time": "2021-09-07T02:55:57.791714Z",
     "start_time": "2021-09-07T02:55:57.602715Z"
    }
   }
  },
  {
   "cell_type": "markdown",
   "source": [
    "**Comment**\n",
    "\n",
    "I think the line fits the data well but not optimally. Variability increases about the 20000 point for hispanic patients. There is higher variability above the fitted line. "
   ],
   "metadata": {
    "ExecuteTime": {
     "end_time": "2021-08-29T03:04:17.152326Z",
     "start_time": "2021-08-29T03:04:17.136745Z"
    }
   }
  },
  {
   "cell_type": "code",
   "execution_count": 27,
   "source": [
    "#Performance Evaluation\r\n",
    "\r\n",
    "mse = mean_squared_error(y_test, y_pred) # This is the mean squared error\r\n",
    "r2 = r2_score(y_test, y_pred) # This is the R2 score. \r\n",
    "\r\n",
    "print('Slope:' ,model.coef_)\r\n",
    "print('Mean squared error: ', mse)\r\n",
    "print('R2 score: ', r2)"
   ],
   "outputs": [
    {
     "output_type": "stream",
     "name": "stdout",
     "text": [
      "Slope: [[1.31552062]]\n",
      "Mean squared error:  190978228.1474403\n",
      "R2 score:  0.6322140022346596\n"
     ]
    }
   ],
   "metadata": {
    "ExecuteTime": {
     "end_time": "2021-09-07T02:55:57.807714Z",
     "start_time": "2021-09-07T02:55:57.792715Z"
    }
   }
  },
  {
   "cell_type": "code",
   "execution_count": 28,
   "source": [
    "# Compare predicted y values to actual values in the dataframe\r\n",
    "df_compare = pd.DataFrame({\"Actual\": y_test.flatten(), 'Predicted': y_pred.flatten()})\r\n",
    "\r\n",
    "df_compare.head(20)"
   ],
   "outputs": [
    {
     "output_type": "execute_result",
     "data": {
      "text/html": [
       "<div>\n",
       "<style scoped>\n",
       "    .dataframe tbody tr th:only-of-type {\n",
       "        vertical-align: middle;\n",
       "    }\n",
       "\n",
       "    .dataframe tbody tr th {\n",
       "        vertical-align: top;\n",
       "    }\n",
       "\n",
       "    .dataframe thead th {\n",
       "        text-align: right;\n",
       "    }\n",
       "</style>\n",
       "<table border=\"1\" class=\"dataframe\">\n",
       "  <thead>\n",
       "    <tr style=\"text-align: right;\">\n",
       "      <th></th>\n",
       "      <th>Actual</th>\n",
       "      <th>Predicted</th>\n",
       "    </tr>\n",
       "  </thead>\n",
       "  <tbody>\n",
       "    <tr>\n",
       "      <th>0</th>\n",
       "      <td>88430.0</td>\n",
       "      <td>30250.674627</td>\n",
       "    </tr>\n",
       "    <tr>\n",
       "      <th>1</th>\n",
       "      <td>20780.0</td>\n",
       "      <td>23495.476220</td>\n",
       "    </tr>\n",
       "    <tr>\n",
       "      <th>2</th>\n",
       "      <td>37632.0</td>\n",
       "      <td>61477.187694</td>\n",
       "    </tr>\n",
       "    <tr>\n",
       "      <th>3</th>\n",
       "      <td>22146.0</td>\n",
       "      <td>24804.419241</td>\n",
       "    </tr>\n",
       "    <tr>\n",
       "      <th>4</th>\n",
       "      <td>9895.0</td>\n",
       "      <td>24092.722583</td>\n",
       "    </tr>\n",
       "    <tr>\n",
       "      <th>5</th>\n",
       "      <td>63838.0</td>\n",
       "      <td>49979.537435</td>\n",
       "    </tr>\n",
       "    <tr>\n",
       "      <th>6</th>\n",
       "      <td>10935.0</td>\n",
       "      <td>24713.648318</td>\n",
       "    </tr>\n",
       "    <tr>\n",
       "      <th>7</th>\n",
       "      <td>93183.0</td>\n",
       "      <td>57670.071006</td>\n",
       "    </tr>\n",
       "    <tr>\n",
       "      <th>8</th>\n",
       "      <td>4042.0</td>\n",
       "      <td>17576.948929</td>\n",
       "    </tr>\n",
       "    <tr>\n",
       "      <th>9</th>\n",
       "      <td>9280.0</td>\n",
       "      <td>21222.256580</td>\n",
       "    </tr>\n",
       "    <tr>\n",
       "      <th>10</th>\n",
       "      <td>33296.0</td>\n",
       "      <td>23370.501760</td>\n",
       "    </tr>\n",
       "    <tr>\n",
       "      <th>11</th>\n",
       "      <td>35991.0</td>\n",
       "      <td>16489.013373</td>\n",
       "    </tr>\n",
       "    <tr>\n",
       "      <th>12</th>\n",
       "      <td>9504.0</td>\n",
       "      <td>16804.738323</td>\n",
       "    </tr>\n",
       "    <tr>\n",
       "      <th>13</th>\n",
       "      <td>14417.0</td>\n",
       "      <td>27281.544577</td>\n",
       "    </tr>\n",
       "    <tr>\n",
       "      <th>14</th>\n",
       "      <td>42935.0</td>\n",
       "      <td>42036.423903</td>\n",
       "    </tr>\n",
       "    <tr>\n",
       "      <th>15</th>\n",
       "      <td>40942.0</td>\n",
       "      <td>24564.994487</td>\n",
       "    </tr>\n",
       "    <tr>\n",
       "      <th>16</th>\n",
       "      <td>25388.0</td>\n",
       "      <td>23384.972487</td>\n",
       "    </tr>\n",
       "    <tr>\n",
       "      <th>17</th>\n",
       "      <td>50836.0</td>\n",
       "      <td>39046.245523</td>\n",
       "    </tr>\n",
       "    <tr>\n",
       "      <th>18</th>\n",
       "      <td>23713.0</td>\n",
       "      <td>22358.866400</td>\n",
       "    </tr>\n",
       "    <tr>\n",
       "      <th>19</th>\n",
       "      <td>4914.0</td>\n",
       "      <td>21828.711588</td>\n",
       "    </tr>\n",
       "  </tbody>\n",
       "</table>\n",
       "</div>"
      ],
      "text/plain": [
       "     Actual     Predicted\n",
       "0   88430.0  30250.674627\n",
       "1   20780.0  23495.476220\n",
       "2   37632.0  61477.187694\n",
       "3   22146.0  24804.419241\n",
       "4    9895.0  24092.722583\n",
       "5   63838.0  49979.537435\n",
       "6   10935.0  24713.648318\n",
       "7   93183.0  57670.071006\n",
       "8    4042.0  17576.948929\n",
       "9    9280.0  21222.256580\n",
       "10  33296.0  23370.501760\n",
       "11  35991.0  16489.013373\n",
       "12   9504.0  16804.738323\n",
       "13  14417.0  27281.544577\n",
       "14  42935.0  42036.423903\n",
       "15  40942.0  24564.994487\n",
       "16  25388.0  23384.972487\n",
       "17  50836.0  39046.245523\n",
       "18  23713.0  22358.866400\n",
       "19   4914.0  21828.711588"
      ]
     },
     "metadata": {},
     "execution_count": 28
    }
   ],
   "metadata": {
    "ExecuteTime": {
     "end_time": "2021-09-07T02:55:57.822714Z",
     "start_time": "2021-09-07T02:55:57.808714Z"
    }
   }
  },
  {
   "cell_type": "markdown",
   "source": [
    "**Comment**\n",
    "\n",
    "**Model Performance**\n",
    "The model did not perform well. Firstly, the MSE result is a concern, one possibility can be the large variability in two areas in the scatterplot. Secondly, the R2 scores suggest that the model explains 63% of the variability in the dataset but this is makes me suspicious since the MSE is very high. \n",
    "\n",
    "\n",
    "**Reflections**\n",
    "\n",
    "As mentioned before, the data set is limited to facility level. The hispanic column hould be combined with race groups to form a categorical variable. However, this will lead to categorical data being used as the predictor for a simple linear regression model, which is not ideal. There may have been some bias in the data collection process and some exlusion bias with the other race groups based on how the data was structured. \n",
    "\n",
    "Because of these bias, a better alternative may be to get additional data about patient encounters by race groups and their individual encounters for each disposition/ dishargce condition. This is a limitation that cannot be overcome due to ethical concerns during data collection.\n",
    "\n"
   ],
   "metadata": {
    "ExecuteTime": {
     "end_time": "2021-08-29T03:24:07.945951Z",
     "start_time": "2021-08-29T03:24:07.930324Z"
    }
   }
  }
 ],
 "metadata": {
  "kernelspec": {
   "display_name": "Python 3",
   "language": "python",
   "name": "python3"
  },
  "language_info": {
   "codemirror_mode": {
    "name": "ipython",
    "version": 3
   },
   "file_extension": ".py",
   "mimetype": "text/x-python",
   "name": "python",
   "nbconvert_exporter": "python",
   "pygments_lexer": "ipython3",
   "version": "3.8.5"
  },
  "varInspector": {
   "cols": {
    "lenName": 16,
    "lenType": 16,
    "lenVar": 40
   },
   "kernels_config": {
    "python": {
     "delete_cmd_postfix": "",
     "delete_cmd_prefix": "del ",
     "library": "var_list.py",
     "varRefreshCmd": "print(var_dic_list())"
    },
    "r": {
     "delete_cmd_postfix": ") ",
     "delete_cmd_prefix": "rm(",
     "library": "var_list.r",
     "varRefreshCmd": "cat(var_dic_list()) "
    }
   },
   "types_to_exclude": [
    "module",
    "function",
    "builtin_function_or_method",
    "instance",
    "_Feature"
   ],
   "window_display": false
  }
 },
 "nbformat": 4,
 "nbformat_minor": 5
}