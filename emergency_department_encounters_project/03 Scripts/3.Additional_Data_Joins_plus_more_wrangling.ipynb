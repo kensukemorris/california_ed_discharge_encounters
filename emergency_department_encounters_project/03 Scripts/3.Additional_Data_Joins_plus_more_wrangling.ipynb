{
 "cells": [
  {
   "cell_type": "markdown",
   "source": [
    "### This script contains the following sections:\n",
    "\n",
    "#### 1. Importing libraries and data \n",
    "#### 2. Integrity checks\n",
    "#### 3. Addtional Data Joins\n",
    "#### 4. Additional Data Cleaning"
   ],
   "metadata": {}
  },
  {
   "cell_type": "markdown",
   "source": [
    "# 1. Imports"
   ],
   "metadata": {}
  },
  {
   "cell_type": "code",
   "execution_count": 1,
   "source": [
    "import pandas as pd\r\n",
    "import numpy as np\r\n",
    "import os"
   ],
   "outputs": [],
   "metadata": {
    "ExecuteTime": {
     "end_time": "2021-09-09T02:10:27.527362Z",
     "start_time": "2021-09-09T02:10:27.236362Z"
    }
   }
  },
  {
   "cell_type": "code",
   "execution_count": 2,
   "source": [
    "path = r'C:\\Users\\data_emergency_ex6.1\\Data'"
   ],
   "outputs": [],
   "metadata": {
    "ExecuteTime": {
     "end_time": "2021-09-09T02:10:27.542362Z",
     "start_time": "2021-09-09T02:10:27.528364Z"
    }
   }
  },
  {
   "cell_type": "code",
   "execution_count": 3,
   "source": [
    "#import datasets to join\r\n",
    "\r\n",
    "df_main = pd.read_csv(os.path.join(path,'Prepared','2.miss_val_check.csv'))\r\n",
    "\r\n",
    "df_main.head()"
   ],
   "outputs": [
    {
     "output_type": "execute_result",
     "data": {
      "text/html": [
       "<div>\n",
       "<style scoped>\n",
       "    .dataframe tbody tr th:only-of-type {\n",
       "        vertical-align: middle;\n",
       "    }\n",
       "\n",
       "    .dataframe tbody tr th {\n",
       "        vertical-align: top;\n",
       "    }\n",
       "\n",
       "    .dataframe thead th {\n",
       "        text-align: right;\n",
       "    }\n",
       "</style>\n",
       "<table border=\"1\" class=\"dataframe\">\n",
       "  <thead>\n",
       "    <tr style=\"text-align: right;\">\n",
       "      <th></th>\n",
       "      <th>datayear</th>\n",
       "      <th>oshpd_id2</th>\n",
       "      <th>county_name</th>\n",
       "      <th>dba_address1</th>\n",
       "      <th>dba_city</th>\n",
       "      <th>dba_zip_code</th>\n",
       "      <th>license_category_desc</th>\n",
       "      <th>er_service_level_desc</th>\n",
       "      <th>teaching_hospital_desc</th>\n",
       "      <th>licensed_bed_size</th>\n",
       "      <th>...</th>\n",
       "      <th>sn_ic_care</th>\n",
       "      <th>medi_cal</th>\n",
       "      <th>medicare</th>\n",
       "      <th>other_payer</th>\n",
       "      <th>private_coverage</th>\n",
       "      <th>selfpay</th>\n",
       "      <th>ed_visit</th>\n",
       "      <th>all_other</th>\n",
       "      <th>english</th>\n",
       "      <th>spanish</th>\n",
       "    </tr>\n",
       "  </thead>\n",
       "  <tbody>\n",
       "    <tr>\n",
       "      <th>0</th>\n",
       "      <td>2005</td>\n",
       "      <td>106010735</td>\n",
       "      <td>Alameda</td>\n",
       "      <td>2070 CLINTON</td>\n",
       "      <td>ALAMEDA</td>\n",
       "      <td>94501</td>\n",
       "      <td>General Acute Care</td>\n",
       "      <td>Basic</td>\n",
       "      <td>0.0</td>\n",
       "      <td>100-149</td>\n",
       "      <td>...</td>\n",
       "      <td>152.0</td>\n",
       "      <td>1285.0</td>\n",
       "      <td>2121.0</td>\n",
       "      <td>2624.0</td>\n",
       "      <td>5718.0</td>\n",
       "      <td>NaN</td>\n",
       "      <td>14473.0</td>\n",
       "      <td>NaN</td>\n",
       "      <td>NaN</td>\n",
       "      <td>NaN</td>\n",
       "    </tr>\n",
       "    <tr>\n",
       "      <th>1</th>\n",
       "      <td>2005</td>\n",
       "      <td>106010739</td>\n",
       "      <td>Alameda</td>\n",
       "      <td>2450 ASHBY STREET</td>\n",
       "      <td>BERKELEY</td>\n",
       "      <td>94705</td>\n",
       "      <td>General Acute Care</td>\n",
       "      <td>Basic</td>\n",
       "      <td>0.0</td>\n",
       "      <td>300-499</td>\n",
       "      <td>...</td>\n",
       "      <td>145.0</td>\n",
       "      <td>7226.0</td>\n",
       "      <td>6548.0</td>\n",
       "      <td>1974.0</td>\n",
       "      <td>13737.0</td>\n",
       "      <td>NaN</td>\n",
       "      <td>35018.0</td>\n",
       "      <td>NaN</td>\n",
       "      <td>NaN</td>\n",
       "      <td>NaN</td>\n",
       "    </tr>\n",
       "    <tr>\n",
       "      <th>2</th>\n",
       "      <td>2005</td>\n",
       "      <td>106010776</td>\n",
       "      <td>Alameda</td>\n",
       "      <td>747 52ND STREET</td>\n",
       "      <td>OAKLAND</td>\n",
       "      <td>94609</td>\n",
       "      <td>General Acute Care</td>\n",
       "      <td>Basic</td>\n",
       "      <td>0.0</td>\n",
       "      <td>150-199</td>\n",
       "      <td>...</td>\n",
       "      <td>NaN</td>\n",
       "      <td>29553.0</td>\n",
       "      <td>27.0</td>\n",
       "      <td>2303.0</td>\n",
       "      <td>9382.0</td>\n",
       "      <td>NaN</td>\n",
       "      <td>44788.0</td>\n",
       "      <td>NaN</td>\n",
       "      <td>NaN</td>\n",
       "      <td>NaN</td>\n",
       "    </tr>\n",
       "    <tr>\n",
       "      <th>3</th>\n",
       "      <td>2005</td>\n",
       "      <td>106010805</td>\n",
       "      <td>Alameda</td>\n",
       "      <td>20103 LAKE CHABOT ROAD</td>\n",
       "      <td>CASTRO VALLEY</td>\n",
       "      <td>94546</td>\n",
       "      <td>General Acute Care</td>\n",
       "      <td>Basic</td>\n",
       "      <td>0.0</td>\n",
       "      <td>150-199</td>\n",
       "      <td>...</td>\n",
       "      <td>1.0</td>\n",
       "      <td>4924.0</td>\n",
       "      <td>4171.0</td>\n",
       "      <td>774.0</td>\n",
       "      <td>10114.0</td>\n",
       "      <td>NaN</td>\n",
       "      <td>24278.0</td>\n",
       "      <td>NaN</td>\n",
       "      <td>NaN</td>\n",
       "      <td>NaN</td>\n",
       "    </tr>\n",
       "    <tr>\n",
       "      <th>4</th>\n",
       "      <td>2005</td>\n",
       "      <td>106010846</td>\n",
       "      <td>Alameda</td>\n",
       "      <td>1411 EAST 31ST STREET</td>\n",
       "      <td>OAKLAND</td>\n",
       "      <td>94602</td>\n",
       "      <td>General Acute Care</td>\n",
       "      <td>Basic</td>\n",
       "      <td>1.0</td>\n",
       "      <td>200-299</td>\n",
       "      <td>...</td>\n",
       "      <td>34.0</td>\n",
       "      <td>10925.0</td>\n",
       "      <td>2722.0</td>\n",
       "      <td>23181.0</td>\n",
       "      <td>2257.0</td>\n",
       "      <td>NaN</td>\n",
       "      <td>50083.0</td>\n",
       "      <td>NaN</td>\n",
       "      <td>NaN</td>\n",
       "      <td>NaN</td>\n",
       "    </tr>\n",
       "  </tbody>\n",
       "</table>\n",
       "<p>5 rows × 50 columns</p>\n",
       "</div>"
      ],
      "text/plain": [
       "   datayear  oshpd_id2 county_name            dba_address1       dba_city  \\\n",
       "0      2005  106010735     Alameda            2070 CLINTON        ALAMEDA   \n",
       "1      2005  106010739     Alameda       2450 ASHBY STREET       BERKELEY   \n",
       "2      2005  106010776     Alameda         747 52ND STREET        OAKLAND   \n",
       "3      2005  106010805     Alameda  20103 LAKE CHABOT ROAD  CASTRO VALLEY   \n",
       "4      2005  106010846     Alameda   1411 EAST 31ST STREET        OAKLAND   \n",
       "\n",
       "  dba_zip_code license_category_desc er_service_level_desc  \\\n",
       "0        94501    General Acute Care                 Basic   \n",
       "1        94705    General Acute Care                 Basic   \n",
       "2        94609    General Acute Care                 Basic   \n",
       "3        94546    General Acute Care                 Basic   \n",
       "4        94602    General Acute Care                 Basic   \n",
       "\n",
       "   teaching_hospital_desc licensed_bed_size  ... sn_ic_care  medi_cal  \\\n",
       "0                     0.0           100-149  ...      152.0    1285.0   \n",
       "1                     0.0           300-499  ...      145.0    7226.0   \n",
       "2                     0.0           150-199  ...        NaN   29553.0   \n",
       "3                     0.0           150-199  ...        1.0    4924.0   \n",
       "4                     1.0           200-299  ...       34.0   10925.0   \n",
       "\n",
       "   medicare  other_payer  private_coverage  selfpay  ed_visit  all_other  \\\n",
       "0    2121.0       2624.0            5718.0      NaN   14473.0        NaN   \n",
       "1    6548.0       1974.0           13737.0      NaN   35018.0        NaN   \n",
       "2      27.0       2303.0            9382.0      NaN   44788.0        NaN   \n",
       "3    4171.0        774.0           10114.0      NaN   24278.0        NaN   \n",
       "4    2722.0      23181.0            2257.0      NaN   50083.0        NaN   \n",
       "\n",
       "   english  spanish  \n",
       "0      NaN      NaN  \n",
       "1      NaN      NaN  \n",
       "2      NaN      NaN  \n",
       "3      NaN      NaN  \n",
       "4      NaN      NaN  \n",
       "\n",
       "[5 rows x 50 columns]"
      ]
     },
     "metadata": {},
     "execution_count": 3
    }
   ],
   "metadata": {
    "ExecuteTime": {
     "end_time": "2021-09-09T02:10:27.605363Z",
     "start_time": "2021-09-09T02:10:27.544363Z"
    },
    "scrolled": true
   }
  },
  {
   "cell_type": "code",
   "execution_count": 4,
   "source": [
    "# df_main['licensed_bed_size'].value_counts(dropna = False)"
   ],
   "outputs": [],
   "metadata": {
    "ExecuteTime": {
     "end_time": "2021-09-09T02:10:27.621362Z",
     "start_time": "2021-09-09T02:10:27.607363Z"
    }
   }
  },
  {
   "cell_type": "code",
   "execution_count": 5,
   "source": [
    "df_add = pd.read_csv(os.path.join(path,'Original','1.Raw','encounters-by-facility.csv'))\r\n",
    "\r\n",
    "df_add.head()"
   ],
   "outputs": [
    {
     "output_type": "execute_result",
     "data": {
      "text/html": [
       "<div>\n",
       "<style scoped>\n",
       "    .dataframe tbody tr th:only-of-type {\n",
       "        vertical-align: middle;\n",
       "    }\n",
       "\n",
       "    .dataframe tbody tr th {\n",
       "        vertical-align: top;\n",
       "    }\n",
       "\n",
       "    .dataframe thead th {\n",
       "        text-align: right;\n",
       "    }\n",
       "</style>\n",
       "<table border=\"1\" class=\"dataframe\">\n",
       "  <thead>\n",
       "    <tr style=\"text-align: right;\">\n",
       "      <th></th>\n",
       "      <th>year</th>\n",
       "      <th>oshpd_id</th>\n",
       "      <th>facility_name</th>\n",
       "      <th>county_name</th>\n",
       "      <th>er_service_level_desc</th>\n",
       "      <th>type</th>\n",
       "      <th>count</th>\n",
       "    </tr>\n",
       "  </thead>\n",
       "  <tbody>\n",
       "    <tr>\n",
       "      <th>0</th>\n",
       "      <td>2012</td>\n",
       "      <td>106010735</td>\n",
       "      <td>ALAMEDA HOSPITAL</td>\n",
       "      <td>ALAMEDA</td>\n",
       "      <td>BASIC</td>\n",
       "      <td>ED_Admit</td>\n",
       "      <td>2595.0</td>\n",
       "    </tr>\n",
       "    <tr>\n",
       "      <th>1</th>\n",
       "      <td>2012</td>\n",
       "      <td>106010735</td>\n",
       "      <td>ALAMEDA HOSPITAL</td>\n",
       "      <td>ALAMEDA</td>\n",
       "      <td>BASIC</td>\n",
       "      <td>ED_Visit</td>\n",
       "      <td>13727.0</td>\n",
       "    </tr>\n",
       "    <tr>\n",
       "      <th>2</th>\n",
       "      <td>2013</td>\n",
       "      <td>106010735</td>\n",
       "      <td>ALAMEDA HOSPITAL</td>\n",
       "      <td>ALAMEDA</td>\n",
       "      <td>BASIC</td>\n",
       "      <td>ED_Admit</td>\n",
       "      <td>2579.0</td>\n",
       "    </tr>\n",
       "    <tr>\n",
       "      <th>3</th>\n",
       "      <td>2013</td>\n",
       "      <td>106010735</td>\n",
       "      <td>ALAMEDA HOSPITAL</td>\n",
       "      <td>ALAMEDA</td>\n",
       "      <td>BASIC</td>\n",
       "      <td>ED_Visit</td>\n",
       "      <td>13538.0</td>\n",
       "    </tr>\n",
       "    <tr>\n",
       "      <th>4</th>\n",
       "      <td>2014</td>\n",
       "      <td>106010735</td>\n",
       "      <td>ALAMEDA HOSPITAL</td>\n",
       "      <td>ALAMEDA</td>\n",
       "      <td>BASIC</td>\n",
       "      <td>ED_Admit</td>\n",
       "      <td>2214.0</td>\n",
       "    </tr>\n",
       "  </tbody>\n",
       "</table>\n",
       "</div>"
      ],
      "text/plain": [
       "   year   oshpd_id     facility_name county_name er_service_level_desc  \\\n",
       "0  2012  106010735  ALAMEDA HOSPITAL     ALAMEDA                 BASIC   \n",
       "1  2012  106010735  ALAMEDA HOSPITAL     ALAMEDA                 BASIC   \n",
       "2  2013  106010735  ALAMEDA HOSPITAL     ALAMEDA                 BASIC   \n",
       "3  2013  106010735  ALAMEDA HOSPITAL     ALAMEDA                 BASIC   \n",
       "4  2014  106010735  ALAMEDA HOSPITAL     ALAMEDA                 BASIC   \n",
       "\n",
       "       type    count  \n",
       "0  ED_Admit   2595.0  \n",
       "1  ED_Visit  13727.0  \n",
       "2  ED_Admit   2579.0  \n",
       "3  ED_Visit  13538.0  \n",
       "4  ED_Admit   2214.0  "
      ]
     },
     "metadata": {},
     "execution_count": 5
    }
   ],
   "metadata": {
    "ExecuteTime": {
     "end_time": "2021-09-09T02:10:27.683362Z",
     "start_time": "2021-09-09T02:10:27.622364Z"
    }
   }
  },
  {
   "cell_type": "code",
   "execution_count": 6,
   "source": [
    "print('Main df'+ str(df_main.shape), 'supple_df' + str(df_add.shape))"
   ],
   "outputs": [
    {
     "output_type": "stream",
     "name": "stdout",
     "text": [
      "Main df(5199, 50) supple_df(5922, 7)\n"
     ]
    }
   ],
   "metadata": {
    "ExecuteTime": {
     "end_time": "2021-09-09T02:10:27.699365Z",
     "start_time": "2021-09-09T02:10:27.684364Z"
    }
   }
  },
  {
   "cell_type": "markdown",
   "source": [
    "# 2. Integrity Checks"
   ],
   "metadata": {}
  },
  {
   "cell_type": "code",
   "execution_count": 7,
   "source": [
    "# check the number of unique ids in each dataset\r\n",
    "\r\n",
    "print(df_main.groupby(['oshpd_id2'])['oshpd_id2'].unique().count(),\r\n",
    "      df_add.groupby(['oshpd_id'])['oshpd_id'].unique().count())"
   ],
   "outputs": [
    {
     "output_type": "stream",
     "name": "stdout",
     "text": [
      "361 368\n"
     ]
    }
   ],
   "metadata": {
    "ExecuteTime": {
     "end_time": "2021-09-09T02:10:27.746392Z",
     "start_time": "2021-09-09T02:10:27.700363Z"
    }
   }
  },
  {
   "cell_type": "code",
   "execution_count": 8,
   "source": [
    "# Check for na in addtional dataset\r\n",
    "df_add.isna().sum()"
   ],
   "outputs": [
    {
     "output_type": "execute_result",
     "data": {
      "text/plain": [
       "year                       0\n",
       "oshpd_id                   0\n",
       "facility_name              0\n",
       "county_name                0\n",
       "er_service_level_desc    132\n",
       "type                       0\n",
       "count                     77\n",
       "dtype: int64"
      ]
     },
     "metadata": {},
     "execution_count": 8
    }
   ],
   "metadata": {
    "ExecuteTime": {
     "end_time": "2021-09-09T02:10:27.761396Z",
     "start_time": "2021-09-09T02:10:27.748398Z"
    }
   }
  },
  {
   "cell_type": "code",
   "execution_count": 9,
   "source": [
    "df_add['er_service_level_desc'] = df_add['er_service_level_desc'].fillna('UNKNOWN')\r\n",
    "\r\n",
    "# df_add['er_service_level_desc'] = df_add['er_service_level_desc'].str.lower()\r\n",
    "\r\n",
    "df_add.isna().sum()"
   ],
   "outputs": [
    {
     "output_type": "execute_result",
     "data": {
      "text/plain": [
       "year                      0\n",
       "oshpd_id                  0\n",
       "facility_name             0\n",
       "county_name               0\n",
       "er_service_level_desc     0\n",
       "type                      0\n",
       "count                    77\n",
       "dtype: int64"
      ]
     },
     "metadata": {},
     "execution_count": 9
    }
   ],
   "metadata": {
    "ExecuteTime": {
     "end_time": "2021-09-09T02:10:27.777396Z",
     "start_time": "2021-09-09T02:10:27.762396Z"
    },
    "scrolled": true
   }
  },
  {
   "cell_type": "markdown",
   "source": [
    "# 3. Additional Data Joins"
   ],
   "metadata": {}
  },
  {
   "cell_type": "code",
   "execution_count": 10,
   "source": [
    "#since the supplementary dataset has shorter time periods, the supple dataset will become the main dataset.\r\n",
    "\r\n",
    "df_combined = df_add.merge(df_main, left_on = ['oshpd_id','year'], right_on = ['oshpd_id2','datayear'],\r\n",
    "             how = 'inner', indicator=True)\r\n",
    "df_combined['_merge'].value_counts(dropna = False)"
   ],
   "outputs": [
    {
     "output_type": "execute_result",
     "data": {
      "text/plain": [
       "both          5782\n",
       "right_only       0\n",
       "left_only        0\n",
       "Name: _merge, dtype: int64"
      ]
     },
     "metadata": {},
     "execution_count": 10
    }
   ],
   "metadata": {
    "ExecuteTime": {
     "end_time": "2021-09-09T02:10:27.809396Z",
     "start_time": "2021-09-09T02:10:27.778398Z"
    }
   }
  },
  {
   "cell_type": "code",
   "execution_count": 11,
   "source": [
    "comp = np.where(df_combined['er_service_level_desc_x'].str.lower() == df_combined['er_service_level_desc_y'].str.lower(), \r\n",
    "                True, False)\r\n",
    "df_combined['same'] = comp\r\n",
    "\r\n",
    "#Inconsistencies found in the the two datasets. Mainly, varying levels assigned to the same hospitals in the same year\r\n",
    "#E.g. Basic and Standby"
   ],
   "outputs": [],
   "metadata": {
    "ExecuteTime": {
     "end_time": "2021-09-09T02:10:27.824952Z",
     "start_time": "2021-09-09T02:10:27.810398Z"
    }
   }
  },
  {
   "cell_type": "code",
   "execution_count": 12,
   "source": [
    "#Drop columns that are not relevant or redundant the dataset\r\n",
    "\r\n",
    "df_combined.drop(columns = ['oshpd_id2','county_name_y','er_service_level_desc_y','_merge','same','ed_visit','datayear'],\r\n",
    "                 inplace = True)"
   ],
   "outputs": [],
   "metadata": {
    "ExecuteTime": {
     "end_time": "2021-09-09T02:10:27.840316Z",
     "start_time": "2021-09-09T02:10:27.825954Z"
    }
   }
  },
  {
   "cell_type": "code",
   "execution_count": 13,
   "source": [
    "df_combined.rename(columns = {'county_name_x': 'county_name',\r\n",
    "                              'type': 'encounter_type',\r\n",
    "                              'count': 'encounter_type_total',\r\n",
    "                              'er_service_level_desc_x': 'er_service_level'}, inplace = True)"
   ],
   "outputs": [],
   "metadata": {
    "ExecuteTime": {
     "end_time": "2021-09-09T02:10:27.855371Z",
     "start_time": "2021-09-09T02:10:27.841327Z"
    }
   }
  },
  {
   "cell_type": "code",
   "execution_count": 14,
   "source": [
    "df_combined.columns"
   ],
   "outputs": [
    {
     "output_type": "execute_result",
     "data": {
      "text/plain": [
       "Index(['year', 'oshpd_id', 'facility_name', 'county_name', 'er_service_level',\n",
       "       'encounter_type', 'encounter_type_total', 'dba_address1', 'dba_city',\n",
       "       'dba_zip_code', 'license_category_desc', 'teaching_hospital_desc',\n",
       "       'licensed_bed_size', 'mssa_designation', 'sex_male', 'sex_female',\n",
       "       'sex_unk', 'age_01_09', 'age_10_19', 'age_20_29', 'age_30_39',\n",
       "       'age_40_49', 'age_50_59', 'age_60_69', 'age_70_79', 'age_80_',\n",
       "       'age_under_1', 'age_unknown', 'asian_pacific_island', 'black',\n",
       "       'hispanic', 'native_american_eski', 'other_race', 'unknown_race',\n",
       "       'white', 'acute_care', 'against_medical_advice', 'died', 'hospice_care',\n",
       "       'home_health_service', 'residential_care', 'routine',\n",
       "       'psychiatric_care', 'sn_ic_care', 'medi_cal', 'medicare', 'other_payer',\n",
       "       'private_coverage', 'selfpay', 'all_other', 'english', 'spanish'],\n",
       "      dtype='object')"
      ]
     },
     "metadata": {},
     "execution_count": 14
    }
   ],
   "metadata": {
    "ExecuteTime": {
     "end_time": "2021-09-09T02:10:27.870728Z",
     "start_time": "2021-09-09T02:10:27.856360Z"
    },
    "scrolled": false
   }
  },
  {
   "cell_type": "code",
   "execution_count": 15,
   "source": [
    "df_codes = pd.read_csv((os.path.join(path,'Original','1.Raw','county_codes.csv')))\r\n",
    "df_codes.shape"
   ],
   "outputs": [
    {
     "output_type": "execute_result",
     "data": {
      "text/plain": [
       "(58, 2)"
      ]
     },
     "metadata": {},
     "execution_count": 15
    }
   ],
   "metadata": {
    "ExecuteTime": {
     "end_time": "2021-09-09T02:10:27.885733Z",
     "start_time": "2021-09-09T02:10:27.871734Z"
    }
   }
  },
  {
   "cell_type": "code",
   "execution_count": 16,
   "source": [
    "df_codes.head()"
   ],
   "outputs": [
    {
     "output_type": "execute_result",
     "data": {
      "text/html": [
       "<div>\n",
       "<style scoped>\n",
       "    .dataframe tbody tr th:only-of-type {\n",
       "        vertical-align: middle;\n",
       "    }\n",
       "\n",
       "    .dataframe tbody tr th {\n",
       "        vertical-align: top;\n",
       "    }\n",
       "\n",
       "    .dataframe thead th {\n",
       "        text-align: right;\n",
       "    }\n",
       "</style>\n",
       "<table border=\"1\" class=\"dataframe\">\n",
       "  <thead>\n",
       "    <tr style=\"text-align: right;\">\n",
       "      <th></th>\n",
       "      <th>county_number</th>\n",
       "      <th>county_name</th>\n",
       "    </tr>\n",
       "  </thead>\n",
       "  <tbody>\n",
       "    <tr>\n",
       "      <th>0</th>\n",
       "      <td>1</td>\n",
       "      <td>Alameda</td>\n",
       "    </tr>\n",
       "    <tr>\n",
       "      <th>1</th>\n",
       "      <td>2</td>\n",
       "      <td>Alpine</td>\n",
       "    </tr>\n",
       "    <tr>\n",
       "      <th>2</th>\n",
       "      <td>3</td>\n",
       "      <td>Amador</td>\n",
       "    </tr>\n",
       "    <tr>\n",
       "      <th>3</th>\n",
       "      <td>4</td>\n",
       "      <td>Butte</td>\n",
       "    </tr>\n",
       "    <tr>\n",
       "      <th>4</th>\n",
       "      <td>5</td>\n",
       "      <td>Calaveras</td>\n",
       "    </tr>\n",
       "  </tbody>\n",
       "</table>\n",
       "</div>"
      ],
      "text/plain": [
       "   county_number county_name\n",
       "0              1     Alameda\n",
       "1              2      Alpine\n",
       "2              3      Amador\n",
       "3              4       Butte\n",
       "4              5   Calaveras"
      ]
     },
     "metadata": {},
     "execution_count": 16
    }
   ],
   "metadata": {
    "ExecuteTime": {
     "end_time": "2021-09-09T02:10:27.900732Z",
     "start_time": "2021-09-09T02:10:27.886733Z"
    },
    "scrolled": true
   }
  },
  {
   "cell_type": "code",
   "execution_count": 17,
   "source": [
    "df_codes['county_name'] = df_codes['county_name'].str.upper()"
   ],
   "outputs": [],
   "metadata": {
    "ExecuteTime": {
     "end_time": "2021-09-09T02:10:27.916732Z",
     "start_time": "2021-09-09T02:10:27.901734Z"
    }
   }
  },
  {
   "cell_type": "code",
   "execution_count": 18,
   "source": [
    "# add county codes to the list\r\n",
    "df_combined_county = df_combined.merge(df_codes, on = 'county_name', how = 'left', indicator = True)\r\n",
    "df_combined_county.head()"
   ],
   "outputs": [
    {
     "output_type": "execute_result",
     "data": {
      "text/html": [
       "<div>\n",
       "<style scoped>\n",
       "    .dataframe tbody tr th:only-of-type {\n",
       "        vertical-align: middle;\n",
       "    }\n",
       "\n",
       "    .dataframe tbody tr th {\n",
       "        vertical-align: top;\n",
       "    }\n",
       "\n",
       "    .dataframe thead th {\n",
       "        text-align: right;\n",
       "    }\n",
       "</style>\n",
       "<table border=\"1\" class=\"dataframe\">\n",
       "  <thead>\n",
       "    <tr style=\"text-align: right;\">\n",
       "      <th></th>\n",
       "      <th>year</th>\n",
       "      <th>oshpd_id</th>\n",
       "      <th>facility_name</th>\n",
       "      <th>county_name</th>\n",
       "      <th>er_service_level</th>\n",
       "      <th>encounter_type</th>\n",
       "      <th>encounter_type_total</th>\n",
       "      <th>dba_address1</th>\n",
       "      <th>dba_city</th>\n",
       "      <th>dba_zip_code</th>\n",
       "      <th>...</th>\n",
       "      <th>medi_cal</th>\n",
       "      <th>medicare</th>\n",
       "      <th>other_payer</th>\n",
       "      <th>private_coverage</th>\n",
       "      <th>selfpay</th>\n",
       "      <th>all_other</th>\n",
       "      <th>english</th>\n",
       "      <th>spanish</th>\n",
       "      <th>county_number</th>\n",
       "      <th>_merge</th>\n",
       "    </tr>\n",
       "  </thead>\n",
       "  <tbody>\n",
       "    <tr>\n",
       "      <th>0</th>\n",
       "      <td>2012</td>\n",
       "      <td>106010735</td>\n",
       "      <td>ALAMEDA HOSPITAL</td>\n",
       "      <td>ALAMEDA</td>\n",
       "      <td>BASIC</td>\n",
       "      <td>ED_Admit</td>\n",
       "      <td>2595.0</td>\n",
       "      <td>2070 CLINTON</td>\n",
       "      <td>ALAMEDA</td>\n",
       "      <td>94501</td>\n",
       "      <td>...</td>\n",
       "      <td>549.0</td>\n",
       "      <td>2740.0</td>\n",
       "      <td>3469.0</td>\n",
       "      <td>4339.0</td>\n",
       "      <td>NaN</td>\n",
       "      <td>522.0</td>\n",
       "      <td>12918.0</td>\n",
       "      <td>287.0</td>\n",
       "      <td>1</td>\n",
       "      <td>both</td>\n",
       "    </tr>\n",
       "    <tr>\n",
       "      <th>1</th>\n",
       "      <td>2012</td>\n",
       "      <td>106010735</td>\n",
       "      <td>ALAMEDA HOSPITAL</td>\n",
       "      <td>ALAMEDA</td>\n",
       "      <td>BASIC</td>\n",
       "      <td>ED_Visit</td>\n",
       "      <td>13727.0</td>\n",
       "      <td>2070 CLINTON</td>\n",
       "      <td>ALAMEDA</td>\n",
       "      <td>94501</td>\n",
       "      <td>...</td>\n",
       "      <td>549.0</td>\n",
       "      <td>2740.0</td>\n",
       "      <td>3469.0</td>\n",
       "      <td>4339.0</td>\n",
       "      <td>NaN</td>\n",
       "      <td>522.0</td>\n",
       "      <td>12918.0</td>\n",
       "      <td>287.0</td>\n",
       "      <td>1</td>\n",
       "      <td>both</td>\n",
       "    </tr>\n",
       "    <tr>\n",
       "      <th>2</th>\n",
       "      <td>2013</td>\n",
       "      <td>106010735</td>\n",
       "      <td>ALAMEDA HOSPITAL</td>\n",
       "      <td>ALAMEDA</td>\n",
       "      <td>BASIC</td>\n",
       "      <td>ED_Admit</td>\n",
       "      <td>2579.0</td>\n",
       "      <td>2070 CLINTON AVE</td>\n",
       "      <td>ALAMEDA</td>\n",
       "      <td>94501</td>\n",
       "      <td>...</td>\n",
       "      <td>373.0</td>\n",
       "      <td>2788.0</td>\n",
       "      <td>3493.0</td>\n",
       "      <td>4306.0</td>\n",
       "      <td>NaN</td>\n",
       "      <td>600.0</td>\n",
       "      <td>12671.0</td>\n",
       "      <td>267.0</td>\n",
       "      <td>1</td>\n",
       "      <td>both</td>\n",
       "    </tr>\n",
       "    <tr>\n",
       "      <th>3</th>\n",
       "      <td>2013</td>\n",
       "      <td>106010735</td>\n",
       "      <td>ALAMEDA HOSPITAL</td>\n",
       "      <td>ALAMEDA</td>\n",
       "      <td>BASIC</td>\n",
       "      <td>ED_Visit</td>\n",
       "      <td>13538.0</td>\n",
       "      <td>2070 CLINTON AVE</td>\n",
       "      <td>ALAMEDA</td>\n",
       "      <td>94501</td>\n",
       "      <td>...</td>\n",
       "      <td>373.0</td>\n",
       "      <td>2788.0</td>\n",
       "      <td>3493.0</td>\n",
       "      <td>4306.0</td>\n",
       "      <td>NaN</td>\n",
       "      <td>600.0</td>\n",
       "      <td>12671.0</td>\n",
       "      <td>267.0</td>\n",
       "      <td>1</td>\n",
       "      <td>both</td>\n",
       "    </tr>\n",
       "    <tr>\n",
       "      <th>4</th>\n",
       "      <td>2014</td>\n",
       "      <td>106010735</td>\n",
       "      <td>ALAMEDA HOSPITAL</td>\n",
       "      <td>ALAMEDA</td>\n",
       "      <td>BASIC</td>\n",
       "      <td>ED_Admit</td>\n",
       "      <td>2214.0</td>\n",
       "      <td>2070 CLINTON</td>\n",
       "      <td>ALAMEDA</td>\n",
       "      <td>94501</td>\n",
       "      <td>...</td>\n",
       "      <td>732.0</td>\n",
       "      <td>2769.0</td>\n",
       "      <td>4282.0</td>\n",
       "      <td>3854.0</td>\n",
       "      <td>2390.0</td>\n",
       "      <td>551.0</td>\n",
       "      <td>13176.0</td>\n",
       "      <td>300.0</td>\n",
       "      <td>1</td>\n",
       "      <td>both</td>\n",
       "    </tr>\n",
       "  </tbody>\n",
       "</table>\n",
       "<p>5 rows × 54 columns</p>\n",
       "</div>"
      ],
      "text/plain": [
       "   year   oshpd_id     facility_name county_name er_service_level  \\\n",
       "0  2012  106010735  ALAMEDA HOSPITAL     ALAMEDA            BASIC   \n",
       "1  2012  106010735  ALAMEDA HOSPITAL     ALAMEDA            BASIC   \n",
       "2  2013  106010735  ALAMEDA HOSPITAL     ALAMEDA            BASIC   \n",
       "3  2013  106010735  ALAMEDA HOSPITAL     ALAMEDA            BASIC   \n",
       "4  2014  106010735  ALAMEDA HOSPITAL     ALAMEDA            BASIC   \n",
       "\n",
       "  encounter_type  encounter_type_total      dba_address1 dba_city  \\\n",
       "0       ED_Admit                2595.0      2070 CLINTON  ALAMEDA   \n",
       "1       ED_Visit               13727.0      2070 CLINTON  ALAMEDA   \n",
       "2       ED_Admit                2579.0  2070 CLINTON AVE  ALAMEDA   \n",
       "3       ED_Visit               13538.0  2070 CLINTON AVE  ALAMEDA   \n",
       "4       ED_Admit                2214.0      2070 CLINTON  ALAMEDA   \n",
       "\n",
       "  dba_zip_code  ... medi_cal  medicare other_payer private_coverage  selfpay  \\\n",
       "0        94501  ...    549.0    2740.0      3469.0           4339.0      NaN   \n",
       "1        94501  ...    549.0    2740.0      3469.0           4339.0      NaN   \n",
       "2        94501  ...    373.0    2788.0      3493.0           4306.0      NaN   \n",
       "3        94501  ...    373.0    2788.0      3493.0           4306.0      NaN   \n",
       "4        94501  ...    732.0    2769.0      4282.0           3854.0   2390.0   \n",
       "\n",
       "   all_other  english  spanish  county_number  _merge  \n",
       "0      522.0  12918.0    287.0              1    both  \n",
       "1      522.0  12918.0    287.0              1    both  \n",
       "2      600.0  12671.0    267.0              1    both  \n",
       "3      600.0  12671.0    267.0              1    both  \n",
       "4      551.0  13176.0    300.0              1    both  \n",
       "\n",
       "[5 rows x 54 columns]"
      ]
     },
     "metadata": {},
     "execution_count": 18
    }
   ],
   "metadata": {
    "ExecuteTime": {
     "end_time": "2021-09-09T02:10:27.948732Z",
     "start_time": "2021-09-09T02:10:27.917733Z"
    }
   }
  },
  {
   "cell_type": "code",
   "execution_count": 19,
   "source": [
    "df_combined_county['_merge'].value_counts(dropna = False)"
   ],
   "outputs": [
    {
     "output_type": "execute_result",
     "data": {
      "text/plain": [
       "both          5782\n",
       "right_only       0\n",
       "left_only        0\n",
       "Name: _merge, dtype: int64"
      ]
     },
     "metadata": {},
     "execution_count": 19
    }
   ],
   "metadata": {
    "ExecuteTime": {
     "end_time": "2021-09-09T02:10:27.963733Z",
     "start_time": "2021-09-09T02:10:27.949733Z"
    },
    "scrolled": true
   }
  },
  {
   "cell_type": "code",
   "execution_count": 20,
   "source": [
    "print(df_combined_county.columns.tolist())"
   ],
   "outputs": [
    {
     "output_type": "stream",
     "name": "stdout",
     "text": [
      "['year', 'oshpd_id', 'facility_name', 'county_name', 'er_service_level', 'encounter_type', 'encounter_type_total', 'dba_address1', 'dba_city', 'dba_zip_code', 'license_category_desc', 'teaching_hospital_desc', 'licensed_bed_size', 'mssa_designation', 'sex_male', 'sex_female', 'sex_unk', 'age_01_09', 'age_10_19', 'age_20_29', 'age_30_39', 'age_40_49', 'age_50_59', 'age_60_69', 'age_70_79', 'age_80_', 'age_under_1', 'age_unknown', 'asian_pacific_island', 'black', 'hispanic', 'native_american_eski', 'other_race', 'unknown_race', 'white', 'acute_care', 'against_medical_advice', 'died', 'hospice_care', 'home_health_service', 'residential_care', 'routine', 'psychiatric_care', 'sn_ic_care', 'medi_cal', 'medicare', 'other_payer', 'private_coverage', 'selfpay', 'all_other', 'english', 'spanish', 'county_number', '_merge']\n"
     ]
    }
   ],
   "metadata": {
    "ExecuteTime": {
     "end_time": "2021-09-09T02:10:27.978753Z",
     "start_time": "2021-09-09T02:10:27.964734Z"
    }
   }
  },
  {
   "cell_type": "code",
   "execution_count": 21,
   "source": [
    "# Change order of columns and also drop \"_merge\" and \"datayear\" column \r\n",
    "\r\n",
    "df_combined_county = df_combined_county[['year','oshpd_id','county_number', 'county_name', 'facility_name',\r\n",
    "                             'dba_address1', 'dba_city', 'dba_zip_code', \r\n",
    "                             'license_category_desc', 'teaching_hospital_desc', 'licensed_bed_size',\r\n",
    "                             'mssa_designation','er_service_level', 'encounter_type', 'encounter_type_total', 'sex_male', 'sex_female', 'sex_unk', 'age_01_09', 'age_10_19', \r\n",
    "                             'age_20_29', 'age_30_39', 'age_40_49', 'age_50_59', 'age_60_69', 'age_70_79', 'age_80_',\r\n",
    "                             'age_under_1', 'age_unknown', 'asian_pacific_island', 'black', 'hispanic',\r\n",
    "                             'native_american_eski', 'other_race', 'unknown_race', 'white', 'acute_care', \r\n",
    "                             'against_medical_advice', 'died', 'hospice_care', 'home_health_service', 'residential_care', \r\n",
    "                             'routine', 'psychiatric_care', 'sn_ic_care', 'medi_cal', 'medicare', 'other_payer',\r\n",
    "                             'private_coverage', 'selfpay', 'all_other', 'english', 'spanish']]"
   ],
   "outputs": [],
   "metadata": {
    "ExecuteTime": {
     "end_time": "2021-09-09T02:10:27.994471Z",
     "start_time": "2021-09-09T02:10:27.979754Z"
    }
   }
  },
  {
   "cell_type": "markdown",
   "source": [
    "# 4. Data Cleaning"
   ],
   "metadata": {}
  },
  {
   "cell_type": "code",
   "execution_count": 22,
   "source": [
    "# Impute numerical columns with 0\r\n",
    "\r\n",
    "df_combined_county.loc[:,'sex_unk':'spanish'] = df_combined_county.loc[:,'sex_unk':'spanish'].fillna(0)"
   ],
   "outputs": [],
   "metadata": {
    "ExecuteTime": {
     "end_time": "2021-09-09T02:10:28.010471Z",
     "start_time": "2021-09-09T02:10:27.995471Z"
    }
   }
  },
  {
   "cell_type": "code",
   "execution_count": 23,
   "source": [
    "df_combined_county.head()"
   ],
   "outputs": [
    {
     "output_type": "execute_result",
     "data": {
      "text/html": [
       "<div>\n",
       "<style scoped>\n",
       "    .dataframe tbody tr th:only-of-type {\n",
       "        vertical-align: middle;\n",
       "    }\n",
       "\n",
       "    .dataframe tbody tr th {\n",
       "        vertical-align: top;\n",
       "    }\n",
       "\n",
       "    .dataframe thead th {\n",
       "        text-align: right;\n",
       "    }\n",
       "</style>\n",
       "<table border=\"1\" class=\"dataframe\">\n",
       "  <thead>\n",
       "    <tr style=\"text-align: right;\">\n",
       "      <th></th>\n",
       "      <th>year</th>\n",
       "      <th>oshpd_id</th>\n",
       "      <th>county_number</th>\n",
       "      <th>county_name</th>\n",
       "      <th>facility_name</th>\n",
       "      <th>dba_address1</th>\n",
       "      <th>dba_city</th>\n",
       "      <th>dba_zip_code</th>\n",
       "      <th>license_category_desc</th>\n",
       "      <th>teaching_hospital_desc</th>\n",
       "      <th>...</th>\n",
       "      <th>psychiatric_care</th>\n",
       "      <th>sn_ic_care</th>\n",
       "      <th>medi_cal</th>\n",
       "      <th>medicare</th>\n",
       "      <th>other_payer</th>\n",
       "      <th>private_coverage</th>\n",
       "      <th>selfpay</th>\n",
       "      <th>all_other</th>\n",
       "      <th>english</th>\n",
       "      <th>spanish</th>\n",
       "    </tr>\n",
       "  </thead>\n",
       "  <tbody>\n",
       "    <tr>\n",
       "      <th>0</th>\n",
       "      <td>2012</td>\n",
       "      <td>106010735</td>\n",
       "      <td>1</td>\n",
       "      <td>ALAMEDA</td>\n",
       "      <td>ALAMEDA HOSPITAL</td>\n",
       "      <td>2070 CLINTON</td>\n",
       "      <td>ALAMEDA</td>\n",
       "      <td>94501</td>\n",
       "      <td>General Acute Care</td>\n",
       "      <td>0.0</td>\n",
       "      <td>...</td>\n",
       "      <td>210.0</td>\n",
       "      <td>201.0</td>\n",
       "      <td>549.0</td>\n",
       "      <td>2740.0</td>\n",
       "      <td>3469.0</td>\n",
       "      <td>4339.0</td>\n",
       "      <td>0.0</td>\n",
       "      <td>522.0</td>\n",
       "      <td>12918.0</td>\n",
       "      <td>287.0</td>\n",
       "    </tr>\n",
       "    <tr>\n",
       "      <th>1</th>\n",
       "      <td>2012</td>\n",
       "      <td>106010735</td>\n",
       "      <td>1</td>\n",
       "      <td>ALAMEDA</td>\n",
       "      <td>ALAMEDA HOSPITAL</td>\n",
       "      <td>2070 CLINTON</td>\n",
       "      <td>ALAMEDA</td>\n",
       "      <td>94501</td>\n",
       "      <td>General Acute Care</td>\n",
       "      <td>0.0</td>\n",
       "      <td>...</td>\n",
       "      <td>210.0</td>\n",
       "      <td>201.0</td>\n",
       "      <td>549.0</td>\n",
       "      <td>2740.0</td>\n",
       "      <td>3469.0</td>\n",
       "      <td>4339.0</td>\n",
       "      <td>0.0</td>\n",
       "      <td>522.0</td>\n",
       "      <td>12918.0</td>\n",
       "      <td>287.0</td>\n",
       "    </tr>\n",
       "    <tr>\n",
       "      <th>2</th>\n",
       "      <td>2013</td>\n",
       "      <td>106010735</td>\n",
       "      <td>1</td>\n",
       "      <td>ALAMEDA</td>\n",
       "      <td>ALAMEDA HOSPITAL</td>\n",
       "      <td>2070 CLINTON AVE</td>\n",
       "      <td>ALAMEDA</td>\n",
       "      <td>94501</td>\n",
       "      <td>General Acute Care</td>\n",
       "      <td>0.0</td>\n",
       "      <td>...</td>\n",
       "      <td>198.0</td>\n",
       "      <td>220.0</td>\n",
       "      <td>373.0</td>\n",
       "      <td>2788.0</td>\n",
       "      <td>3493.0</td>\n",
       "      <td>4306.0</td>\n",
       "      <td>0.0</td>\n",
       "      <td>600.0</td>\n",
       "      <td>12671.0</td>\n",
       "      <td>267.0</td>\n",
       "    </tr>\n",
       "    <tr>\n",
       "      <th>3</th>\n",
       "      <td>2013</td>\n",
       "      <td>106010735</td>\n",
       "      <td>1</td>\n",
       "      <td>ALAMEDA</td>\n",
       "      <td>ALAMEDA HOSPITAL</td>\n",
       "      <td>2070 CLINTON AVE</td>\n",
       "      <td>ALAMEDA</td>\n",
       "      <td>94501</td>\n",
       "      <td>General Acute Care</td>\n",
       "      <td>0.0</td>\n",
       "      <td>...</td>\n",
       "      <td>198.0</td>\n",
       "      <td>220.0</td>\n",
       "      <td>373.0</td>\n",
       "      <td>2788.0</td>\n",
       "      <td>3493.0</td>\n",
       "      <td>4306.0</td>\n",
       "      <td>0.0</td>\n",
       "      <td>600.0</td>\n",
       "      <td>12671.0</td>\n",
       "      <td>267.0</td>\n",
       "    </tr>\n",
       "    <tr>\n",
       "      <th>4</th>\n",
       "      <td>2014</td>\n",
       "      <td>106010735</td>\n",
       "      <td>1</td>\n",
       "      <td>ALAMEDA</td>\n",
       "      <td>ALAMEDA HOSPITAL</td>\n",
       "      <td>2070 CLINTON</td>\n",
       "      <td>ALAMEDA</td>\n",
       "      <td>94501</td>\n",
       "      <td>General Acute Care</td>\n",
       "      <td>0.0</td>\n",
       "      <td>...</td>\n",
       "      <td>179.0</td>\n",
       "      <td>179.0</td>\n",
       "      <td>732.0</td>\n",
       "      <td>2769.0</td>\n",
       "      <td>4282.0</td>\n",
       "      <td>3854.0</td>\n",
       "      <td>2390.0</td>\n",
       "      <td>551.0</td>\n",
       "      <td>13176.0</td>\n",
       "      <td>300.0</td>\n",
       "    </tr>\n",
       "  </tbody>\n",
       "</table>\n",
       "<p>5 rows × 53 columns</p>\n",
       "</div>"
      ],
      "text/plain": [
       "   year   oshpd_id  county_number county_name     facility_name  \\\n",
       "0  2012  106010735              1     ALAMEDA  ALAMEDA HOSPITAL   \n",
       "1  2012  106010735              1     ALAMEDA  ALAMEDA HOSPITAL   \n",
       "2  2013  106010735              1     ALAMEDA  ALAMEDA HOSPITAL   \n",
       "3  2013  106010735              1     ALAMEDA  ALAMEDA HOSPITAL   \n",
       "4  2014  106010735              1     ALAMEDA  ALAMEDA HOSPITAL   \n",
       "\n",
       "       dba_address1 dba_city dba_zip_code license_category_desc  \\\n",
       "0      2070 CLINTON  ALAMEDA        94501    General Acute Care   \n",
       "1      2070 CLINTON  ALAMEDA        94501    General Acute Care   \n",
       "2  2070 CLINTON AVE  ALAMEDA        94501    General Acute Care   \n",
       "3  2070 CLINTON AVE  ALAMEDA        94501    General Acute Care   \n",
       "4      2070 CLINTON  ALAMEDA        94501    General Acute Care   \n",
       "\n",
       "   teaching_hospital_desc  ... psychiatric_care sn_ic_care medi_cal medicare  \\\n",
       "0                     0.0  ...            210.0      201.0    549.0   2740.0   \n",
       "1                     0.0  ...            210.0      201.0    549.0   2740.0   \n",
       "2                     0.0  ...            198.0      220.0    373.0   2788.0   \n",
       "3                     0.0  ...            198.0      220.0    373.0   2788.0   \n",
       "4                     0.0  ...            179.0      179.0    732.0   2769.0   \n",
       "\n",
       "   other_payer  private_coverage  selfpay  all_other  english  spanish  \n",
       "0       3469.0            4339.0      0.0      522.0  12918.0    287.0  \n",
       "1       3469.0            4339.0      0.0      522.0  12918.0    287.0  \n",
       "2       3493.0            4306.0      0.0      600.0  12671.0    267.0  \n",
       "3       3493.0            4306.0      0.0      600.0  12671.0    267.0  \n",
       "4       4282.0            3854.0   2390.0      551.0  13176.0    300.0  \n",
       "\n",
       "[5 rows x 53 columns]"
      ]
     },
     "metadata": {},
     "execution_count": 23
    }
   ],
   "metadata": {
    "ExecuteTime": {
     "end_time": "2021-09-09T02:10:28.042472Z",
     "start_time": "2021-09-09T02:10:28.013473Z"
    },
    "scrolled": false
   }
  },
  {
   "cell_type": "code",
   "execution_count": 24,
   "source": [
    "#seperate columns from the target pivot columns\r\n",
    "\r\n",
    "piv_cols = [col for col in df_combined_county.columns if col not in ['encounter_type', 'encounter_type_total']]\r\n",
    "# piv_cols"
   ],
   "outputs": [],
   "metadata": {
    "ExecuteTime": {
     "end_time": "2021-09-09T02:10:28.058507Z",
     "start_time": "2021-09-09T02:10:28.044471Z"
    }
   }
  },
  {
   "cell_type": "code",
   "execution_count": 25,
   "source": [
    "# Pivot 'er_service_level', 'encounter_type' columns to make two columns for the former with values from the latter\r\n",
    "\r\n",
    "# year 2012 was removed when pivot_table was used. \r\n",
    "df_combined_pivoted = df_combined_county.pivot(index = piv_cols,\r\n",
    "                                columns ='encounter_type', values='encounter_type_total').reset_index()\r\n",
    "# df_combined_pivoted.columns.name = None\r\n",
    "\r\n",
    "df_combined_pivoted.columns = df_combined_pivoted.columns.str.lower()\r\n",
    "\r\n",
    "df_combined_pivoted"
   ],
   "outputs": [
    {
     "output_type": "execute_result",
     "data": {
      "text/html": [
       "<div>\n",
       "<style scoped>\n",
       "    .dataframe tbody tr th:only-of-type {\n",
       "        vertical-align: middle;\n",
       "    }\n",
       "\n",
       "    .dataframe tbody tr th {\n",
       "        vertical-align: top;\n",
       "    }\n",
       "\n",
       "    .dataframe thead th {\n",
       "        text-align: right;\n",
       "    }\n",
       "</style>\n",
       "<table border=\"1\" class=\"dataframe\">\n",
       "  <thead>\n",
       "    <tr style=\"text-align: right;\">\n",
       "      <th>encounter_type</th>\n",
       "      <th>year</th>\n",
       "      <th>oshpd_id</th>\n",
       "      <th>county_number</th>\n",
       "      <th>county_name</th>\n",
       "      <th>facility_name</th>\n",
       "      <th>dba_address1</th>\n",
       "      <th>dba_city</th>\n",
       "      <th>dba_zip_code</th>\n",
       "      <th>license_category_desc</th>\n",
       "      <th>teaching_hospital_desc</th>\n",
       "      <th>...</th>\n",
       "      <th>medi_cal</th>\n",
       "      <th>medicare</th>\n",
       "      <th>other_payer</th>\n",
       "      <th>private_coverage</th>\n",
       "      <th>selfpay</th>\n",
       "      <th>all_other</th>\n",
       "      <th>english</th>\n",
       "      <th>spanish</th>\n",
       "      <th>ed_admit</th>\n",
       "      <th>ed_visit</th>\n",
       "    </tr>\n",
       "  </thead>\n",
       "  <tbody>\n",
       "    <tr>\n",
       "      <th>0</th>\n",
       "      <td>2012</td>\n",
       "      <td>106010735</td>\n",
       "      <td>1</td>\n",
       "      <td>ALAMEDA</td>\n",
       "      <td>ALAMEDA HOSPITAL</td>\n",
       "      <td>2070 CLINTON</td>\n",
       "      <td>ALAMEDA</td>\n",
       "      <td>94501</td>\n",
       "      <td>General Acute Care</td>\n",
       "      <td>0.0</td>\n",
       "      <td>...</td>\n",
       "      <td>549.0</td>\n",
       "      <td>2740.0</td>\n",
       "      <td>3469.0</td>\n",
       "      <td>4339.0</td>\n",
       "      <td>0.0</td>\n",
       "      <td>522.0</td>\n",
       "      <td>12918.0</td>\n",
       "      <td>287.0</td>\n",
       "      <td>2595.0</td>\n",
       "      <td>13727.0</td>\n",
       "    </tr>\n",
       "    <tr>\n",
       "      <th>1</th>\n",
       "      <td>2012</td>\n",
       "      <td>106010739</td>\n",
       "      <td>1</td>\n",
       "      <td>ALAMEDA</td>\n",
       "      <td>ALTA BATES SUMMIT MEDICAL CENTER-ALTA BATES CA...</td>\n",
       "      <td>2450 ASHBY STREET</td>\n",
       "      <td>BERKELEY</td>\n",
       "      <td>94705</td>\n",
       "      <td>General Acute Care</td>\n",
       "      <td>0.0</td>\n",
       "      <td>...</td>\n",
       "      <td>8613.0</td>\n",
       "      <td>5707.0</td>\n",
       "      <td>1877.0</td>\n",
       "      <td>12926.0</td>\n",
       "      <td>0.0</td>\n",
       "      <td>534.0</td>\n",
       "      <td>33867.0</td>\n",
       "      <td>941.0</td>\n",
       "      <td>6047.0</td>\n",
       "      <td>35342.0</td>\n",
       "    </tr>\n",
       "    <tr>\n",
       "      <th>2</th>\n",
       "      <td>2012</td>\n",
       "      <td>106010776</td>\n",
       "      <td>1</td>\n",
       "      <td>ALAMEDA</td>\n",
       "      <td>CHILDRENS HOSPITAL AND RESEARCH CENTER AT OAKLAND</td>\n",
       "      <td>747 52ND STREET</td>\n",
       "      <td>OAKLAND</td>\n",
       "      <td>94609</td>\n",
       "      <td>General Acute Care</td>\n",
       "      <td>0.0</td>\n",
       "      <td>...</td>\n",
       "      <td>28489.0</td>\n",
       "      <td>19.0</td>\n",
       "      <td>1785.0</td>\n",
       "      <td>5949.0</td>\n",
       "      <td>0.0</td>\n",
       "      <td>1425.0</td>\n",
       "      <td>27285.0</td>\n",
       "      <td>10508.0</td>\n",
       "      <td>6911.0</td>\n",
       "      <td>39218.0</td>\n",
       "    </tr>\n",
       "    <tr>\n",
       "      <th>3</th>\n",
       "      <td>2012</td>\n",
       "      <td>106010805</td>\n",
       "      <td>1</td>\n",
       "      <td>ALAMEDA</td>\n",
       "      <td>EDEN MEDICAL CENTER</td>\n",
       "      <td>20103 LAKE CHABOT ROAD</td>\n",
       "      <td>CASTRO VALLEY</td>\n",
       "      <td>94546</td>\n",
       "      <td>General Acute Care</td>\n",
       "      <td>0.0</td>\n",
       "      <td>...</td>\n",
       "      <td>8543.0</td>\n",
       "      <td>6426.0</td>\n",
       "      <td>814.0</td>\n",
       "      <td>9169.0</td>\n",
       "      <td>0.0</td>\n",
       "      <td>666.0</td>\n",
       "      <td>29433.0</td>\n",
       "      <td>1632.0</td>\n",
       "      <td>6324.0</td>\n",
       "      <td>31731.0</td>\n",
       "    </tr>\n",
       "    <tr>\n",
       "      <th>4</th>\n",
       "      <td>2012</td>\n",
       "      <td>106010846</td>\n",
       "      <td>1</td>\n",
       "      <td>ALAMEDA</td>\n",
       "      <td>HIGHLAND HOSPITAL</td>\n",
       "      <td>1411 EAST 31ST STREET</td>\n",
       "      <td>OAKLAND</td>\n",
       "      <td>94602</td>\n",
       "      <td>General Acute Care</td>\n",
       "      <td>1.0</td>\n",
       "      <td>...</td>\n",
       "      <td>17877.0</td>\n",
       "      <td>4437.0</td>\n",
       "      <td>35836.0</td>\n",
       "      <td>1640.0</td>\n",
       "      <td>0.0</td>\n",
       "      <td>4025.0</td>\n",
       "      <td>57871.0</td>\n",
       "      <td>12306.0</td>\n",
       "      <td>8992.0</td>\n",
       "      <td>74202.0</td>\n",
       "    </tr>\n",
       "    <tr>\n",
       "      <th>...</th>\n",
       "      <td>...</td>\n",
       "      <td>...</td>\n",
       "      <td>...</td>\n",
       "      <td>...</td>\n",
       "      <td>...</td>\n",
       "      <td>...</td>\n",
       "      <td>...</td>\n",
       "      <td>...</td>\n",
       "      <td>...</td>\n",
       "      <td>...</td>\n",
       "      <td>...</td>\n",
       "      <td>...</td>\n",
       "      <td>...</td>\n",
       "      <td>...</td>\n",
       "      <td>...</td>\n",
       "      <td>...</td>\n",
       "      <td>...</td>\n",
       "      <td>...</td>\n",
       "      <td>...</td>\n",
       "      <td>...</td>\n",
       "      <td>...</td>\n",
       "    </tr>\n",
       "    <tr>\n",
       "      <th>2886</th>\n",
       "      <td>2020</td>\n",
       "      <td>106560525</td>\n",
       "      <td>56</td>\n",
       "      <td>VENTURA</td>\n",
       "      <td>ADVENTIST HEALTH SIMI VALLEY</td>\n",
       "      <td>2975 Sycamore Dr</td>\n",
       "      <td>Simi Valley</td>\n",
       "      <td>93065</td>\n",
       "      <td>General Acute Care</td>\n",
       "      <td>0.0</td>\n",
       "      <td>...</td>\n",
       "      <td>8941.0</td>\n",
       "      <td>5341.0</td>\n",
       "      <td>641.0</td>\n",
       "      <td>8516.0</td>\n",
       "      <td>1584.0</td>\n",
       "      <td>116.0</td>\n",
       "      <td>23065.0</td>\n",
       "      <td>1866.0</td>\n",
       "      <td>5709.0</td>\n",
       "      <td>25051.0</td>\n",
       "    </tr>\n",
       "    <tr>\n",
       "      <th>2887</th>\n",
       "      <td>2020</td>\n",
       "      <td>106560529</td>\n",
       "      <td>56</td>\n",
       "      <td>VENTURA</td>\n",
       "      <td>ST. JOHN'S REGIONAL MEDICAL CENTER</td>\n",
       "      <td>1600 N Rose Ave</td>\n",
       "      <td>Oxnard</td>\n",
       "      <td>93030</td>\n",
       "      <td>General Acute Care</td>\n",
       "      <td>0.0</td>\n",
       "      <td>...</td>\n",
       "      <td>18418.0</td>\n",
       "      <td>6674.0</td>\n",
       "      <td>1863.0</td>\n",
       "      <td>5037.0</td>\n",
       "      <td>3299.0</td>\n",
       "      <td>143.0</td>\n",
       "      <td>26822.0</td>\n",
       "      <td>8255.0</td>\n",
       "      <td>6578.0</td>\n",
       "      <td>35291.0</td>\n",
       "    </tr>\n",
       "    <tr>\n",
       "      <th>2888</th>\n",
       "      <td>2020</td>\n",
       "      <td>106571086</td>\n",
       "      <td>57</td>\n",
       "      <td>YOLO</td>\n",
       "      <td>WOODLAND MEMORIAL HOSPITAL</td>\n",
       "      <td>1325 Cottonwood St</td>\n",
       "      <td>Woodland</td>\n",
       "      <td>95695</td>\n",
       "      <td>General Acute Care</td>\n",
       "      <td>0.0</td>\n",
       "      <td>...</td>\n",
       "      <td>8618.0</td>\n",
       "      <td>4075.0</td>\n",
       "      <td>447.0</td>\n",
       "      <td>4387.0</td>\n",
       "      <td>1397.0</td>\n",
       "      <td>399.0</td>\n",
       "      <td>15962.0</td>\n",
       "      <td>2537.0</td>\n",
       "      <td>2206.0</td>\n",
       "      <td>18924.0</td>\n",
       "    </tr>\n",
       "    <tr>\n",
       "      <th>2889</th>\n",
       "      <td>2020</td>\n",
       "      <td>106574010</td>\n",
       "      <td>57</td>\n",
       "      <td>YOLO</td>\n",
       "      <td>SUTTER DAVIS HOSPITAL</td>\n",
       "      <td>2000 Sutter Pl</td>\n",
       "      <td>Davis</td>\n",
       "      <td>95616</td>\n",
       "      <td>General Acute Care</td>\n",
       "      <td>0.0</td>\n",
       "      <td>...</td>\n",
       "      <td>7814.0</td>\n",
       "      <td>4540.0</td>\n",
       "      <td>665.0</td>\n",
       "      <td>6935.0</td>\n",
       "      <td>1177.0</td>\n",
       "      <td>609.0</td>\n",
       "      <td>18037.0</td>\n",
       "      <td>2443.0</td>\n",
       "      <td>1986.0</td>\n",
       "      <td>21131.0</td>\n",
       "    </tr>\n",
       "    <tr>\n",
       "      <th>2890</th>\n",
       "      <td>2020</td>\n",
       "      <td>106580996</td>\n",
       "      <td>58</td>\n",
       "      <td>YUBA</td>\n",
       "      <td>ADVENTIST HEALTH AND RIDEOUT</td>\n",
       "      <td>726 Fourth St</td>\n",
       "      <td>Marysville</td>\n",
       "      <td>95901</td>\n",
       "      <td>General Acute Care</td>\n",
       "      <td>0.0</td>\n",
       "      <td>...</td>\n",
       "      <td>27267.0</td>\n",
       "      <td>9844.0</td>\n",
       "      <td>2278.0</td>\n",
       "      <td>7931.0</td>\n",
       "      <td>5140.0</td>\n",
       "      <td>1251.0</td>\n",
       "      <td>48607.0</td>\n",
       "      <td>2555.0</td>\n",
       "      <td>8500.0</td>\n",
       "      <td>52468.0</td>\n",
       "    </tr>\n",
       "  </tbody>\n",
       "</table>\n",
       "<p>2891 rows × 53 columns</p>\n",
       "</div>"
      ],
      "text/plain": [
       "encounter_type  year   oshpd_id  county_number county_name  \\\n",
       "0               2012  106010735              1     ALAMEDA   \n",
       "1               2012  106010739              1     ALAMEDA   \n",
       "2               2012  106010776              1     ALAMEDA   \n",
       "3               2012  106010805              1     ALAMEDA   \n",
       "4               2012  106010846              1     ALAMEDA   \n",
       "...              ...        ...            ...         ...   \n",
       "2886            2020  106560525             56     VENTURA   \n",
       "2887            2020  106560529             56     VENTURA   \n",
       "2888            2020  106571086             57        YOLO   \n",
       "2889            2020  106574010             57        YOLO   \n",
       "2890            2020  106580996             58        YUBA   \n",
       "\n",
       "encounter_type                                      facility_name  \\\n",
       "0                                                ALAMEDA HOSPITAL   \n",
       "1               ALTA BATES SUMMIT MEDICAL CENTER-ALTA BATES CA...   \n",
       "2               CHILDRENS HOSPITAL AND RESEARCH CENTER AT OAKLAND   \n",
       "3                                             EDEN MEDICAL CENTER   \n",
       "4                                               HIGHLAND HOSPITAL   \n",
       "...                                                           ...   \n",
       "2886                                 ADVENTIST HEALTH SIMI VALLEY   \n",
       "2887                           ST. JOHN'S REGIONAL MEDICAL CENTER   \n",
       "2888                                   WOODLAND MEMORIAL HOSPITAL   \n",
       "2889                                        SUTTER DAVIS HOSPITAL   \n",
       "2890                                 ADVENTIST HEALTH AND RIDEOUT   \n",
       "\n",
       "encounter_type            dba_address1       dba_city dba_zip_code  \\\n",
       "0                         2070 CLINTON        ALAMEDA        94501   \n",
       "1                    2450 ASHBY STREET       BERKELEY        94705   \n",
       "2                      747 52ND STREET        OAKLAND        94609   \n",
       "3               20103 LAKE CHABOT ROAD  CASTRO VALLEY        94546   \n",
       "4                1411 EAST 31ST STREET        OAKLAND        94602   \n",
       "...                                ...            ...          ...   \n",
       "2886                  2975 Sycamore Dr    Simi Valley        93065   \n",
       "2887                   1600 N Rose Ave         Oxnard        93030   \n",
       "2888                1325 Cottonwood St       Woodland        95695   \n",
       "2889                    2000 Sutter Pl          Davis        95616   \n",
       "2890                     726 Fourth St     Marysville        95901   \n",
       "\n",
       "encounter_type license_category_desc  teaching_hospital_desc  ... medi_cal  \\\n",
       "0                 General Acute Care                     0.0  ...    549.0   \n",
       "1                 General Acute Care                     0.0  ...   8613.0   \n",
       "2                 General Acute Care                     0.0  ...  28489.0   \n",
       "3                 General Acute Care                     0.0  ...   8543.0   \n",
       "4                 General Acute Care                     1.0  ...  17877.0   \n",
       "...                              ...                     ...  ...      ...   \n",
       "2886              General Acute Care                     0.0  ...   8941.0   \n",
       "2887              General Acute Care                     0.0  ...  18418.0   \n",
       "2888              General Acute Care                     0.0  ...   8618.0   \n",
       "2889              General Acute Care                     0.0  ...   7814.0   \n",
       "2890              General Acute Care                     0.0  ...  27267.0   \n",
       "\n",
       "encounter_type medicare other_payer  private_coverage  selfpay  all_other  \\\n",
       "0                2740.0      3469.0            4339.0      0.0      522.0   \n",
       "1                5707.0      1877.0           12926.0      0.0      534.0   \n",
       "2                  19.0      1785.0            5949.0      0.0     1425.0   \n",
       "3                6426.0       814.0            9169.0      0.0      666.0   \n",
       "4                4437.0     35836.0            1640.0      0.0     4025.0   \n",
       "...                 ...         ...               ...      ...        ...   \n",
       "2886             5341.0       641.0            8516.0   1584.0      116.0   \n",
       "2887             6674.0      1863.0            5037.0   3299.0      143.0   \n",
       "2888             4075.0       447.0            4387.0   1397.0      399.0   \n",
       "2889             4540.0       665.0            6935.0   1177.0      609.0   \n",
       "2890             9844.0      2278.0            7931.0   5140.0     1251.0   \n",
       "\n",
       "encounter_type  english  spanish  ed_admit  ed_visit  \n",
       "0               12918.0    287.0    2595.0   13727.0  \n",
       "1               33867.0    941.0    6047.0   35342.0  \n",
       "2               27285.0  10508.0    6911.0   39218.0  \n",
       "3               29433.0   1632.0    6324.0   31731.0  \n",
       "4               57871.0  12306.0    8992.0   74202.0  \n",
       "...                 ...      ...       ...       ...  \n",
       "2886            23065.0   1866.0    5709.0   25051.0  \n",
       "2887            26822.0   8255.0    6578.0   35291.0  \n",
       "2888            15962.0   2537.0    2206.0   18924.0  \n",
       "2889            18037.0   2443.0    1986.0   21131.0  \n",
       "2890            48607.0   2555.0    8500.0   52468.0  \n",
       "\n",
       "[2891 rows x 53 columns]"
      ]
     },
     "metadata": {},
     "execution_count": 25
    }
   ],
   "metadata": {
    "ExecuteTime": {
     "end_time": "2021-09-09T02:10:28.152507Z",
     "start_time": "2021-09-09T02:10:28.059505Z"
    },
    "scrolled": true
   }
  },
  {
   "cell_type": "code",
   "execution_count": 26,
   "source": [
    "df_combined_pivoted.shape"
   ],
   "outputs": [
    {
     "output_type": "execute_result",
     "data": {
      "text/plain": [
       "(2891, 53)"
      ]
     },
     "metadata": {},
     "execution_count": 26
    }
   ],
   "metadata": {
    "ExecuteTime": {
     "end_time": "2021-09-09T02:10:28.168507Z",
     "start_time": "2021-09-09T02:10:28.153505Z"
    }
   }
  },
  {
   "cell_type": "code",
   "execution_count": 27,
   "source": [
    "# Check for duplicate values\r\n",
    "\r\n",
    "df_combined_pivoted[df_combined_pivoted.duplicated()]"
   ],
   "outputs": [
    {
     "output_type": "execute_result",
     "data": {
      "text/html": [
       "<div>\n",
       "<style scoped>\n",
       "    .dataframe tbody tr th:only-of-type {\n",
       "        vertical-align: middle;\n",
       "    }\n",
       "\n",
       "    .dataframe tbody tr th {\n",
       "        vertical-align: top;\n",
       "    }\n",
       "\n",
       "    .dataframe thead th {\n",
       "        text-align: right;\n",
       "    }\n",
       "</style>\n",
       "<table border=\"1\" class=\"dataframe\">\n",
       "  <thead>\n",
       "    <tr style=\"text-align: right;\">\n",
       "      <th>encounter_type</th>\n",
       "      <th>year</th>\n",
       "      <th>oshpd_id</th>\n",
       "      <th>county_number</th>\n",
       "      <th>county_name</th>\n",
       "      <th>facility_name</th>\n",
       "      <th>dba_address1</th>\n",
       "      <th>dba_city</th>\n",
       "      <th>dba_zip_code</th>\n",
       "      <th>license_category_desc</th>\n",
       "      <th>teaching_hospital_desc</th>\n",
       "      <th>...</th>\n",
       "      <th>medi_cal</th>\n",
       "      <th>medicare</th>\n",
       "      <th>other_payer</th>\n",
       "      <th>private_coverage</th>\n",
       "      <th>selfpay</th>\n",
       "      <th>all_other</th>\n",
       "      <th>english</th>\n",
       "      <th>spanish</th>\n",
       "      <th>ed_admit</th>\n",
       "      <th>ed_visit</th>\n",
       "    </tr>\n",
       "  </thead>\n",
       "  <tbody>\n",
       "  </tbody>\n",
       "</table>\n",
       "<p>0 rows × 53 columns</p>\n",
       "</div>"
      ],
      "text/plain": [
       "Empty DataFrame\n",
       "Columns: [year, oshpd_id, county_number, county_name, facility_name, dba_address1, dba_city, dba_zip_code, license_category_desc, teaching_hospital_desc, licensed_bed_size, mssa_designation, er_service_level, sex_male, sex_female, sex_unk, age_01_09, age_10_19, age_20_29, age_30_39, age_40_49, age_50_59, age_60_69, age_70_79, age_80_, age_under_1, age_unknown, asian_pacific_island, black, hispanic, native_american_eski, other_race, unknown_race, white, acute_care, against_medical_advice, died, hospice_care, home_health_service, residential_care, routine, psychiatric_care, sn_ic_care, medi_cal, medicare, other_payer, private_coverage, selfpay, all_other, english, spanish, ed_admit, ed_visit]\n",
       "Index: []\n",
       "\n",
       "[0 rows x 53 columns]"
      ]
     },
     "metadata": {},
     "execution_count": 27
    }
   ],
   "metadata": {
    "ExecuteTime": {
     "end_time": "2021-09-09T02:10:28.200507Z",
     "start_time": "2021-09-09T02:10:28.169505Z"
    },
    "scrolled": true
   }
  },
  {
   "cell_type": "code",
   "execution_count": 28,
   "source": [
    "df_combined_pivoted.dropna(axis = 0, how = 'any', subset = ['ed_admit'], inplace = True)\r\n",
    "df_combined_pivoted.drop(columns = ['mssa_designation'], inplace = True)"
   ],
   "outputs": [],
   "metadata": {
    "ExecuteTime": {
     "end_time": "2021-09-09T02:10:28.215494Z",
     "start_time": "2021-09-09T02:10:28.201505Z"
    }
   }
  },
  {
   "cell_type": "code",
   "execution_count": 29,
   "source": [
    "df_combined_pivoted.isna().sum()"
   ],
   "outputs": [
    {
     "output_type": "execute_result",
     "data": {
      "text/plain": [
       "encounter_type\n",
       "year                      0\n",
       "oshpd_id                  0\n",
       "county_number             0\n",
       "county_name               0\n",
       "facility_name             0\n",
       "dba_address1              0\n",
       "dba_city                  0\n",
       "dba_zip_code              0\n",
       "license_category_desc     0\n",
       "teaching_hospital_desc    0\n",
       "licensed_bed_size         0\n",
       "er_service_level          0\n",
       "sex_male                  0\n",
       "sex_female                0\n",
       "sex_unk                   0\n",
       "age_01_09                 0\n",
       "age_10_19                 0\n",
       "age_20_29                 0\n",
       "age_30_39                 0\n",
       "age_40_49                 0\n",
       "age_50_59                 0\n",
       "age_60_69                 0\n",
       "age_70_79                 0\n",
       "age_80_                   0\n",
       "age_under_1               0\n",
       "age_unknown               0\n",
       "asian_pacific_island      0\n",
       "black                     0\n",
       "hispanic                  0\n",
       "native_american_eski      0\n",
       "other_race                0\n",
       "unknown_race              0\n",
       "white                     0\n",
       "acute_care                0\n",
       "against_medical_advice    0\n",
       "died                      0\n",
       "hospice_care              0\n",
       "home_health_service       0\n",
       "residential_care          0\n",
       "routine                   0\n",
       "psychiatric_care          0\n",
       "sn_ic_care                0\n",
       "medi_cal                  0\n",
       "medicare                  0\n",
       "other_payer               0\n",
       "private_coverage          0\n",
       "selfpay                   0\n",
       "all_other                 0\n",
       "english                   0\n",
       "spanish                   0\n",
       "ed_admit                  0\n",
       "ed_visit                  0\n",
       "dtype: int64"
      ]
     },
     "metadata": {},
     "execution_count": 29
    }
   ],
   "metadata": {
    "ExecuteTime": {
     "end_time": "2021-09-09T02:10:28.230502Z",
     "start_time": "2021-09-09T02:10:28.216495Z"
    },
    "scrolled": true
   }
  },
  {
   "cell_type": "code",
   "execution_count": 30,
   "source": [
    "df_combined_pivoted['county_name'] = df_combined_pivoted['county_name'].str.title()"
   ],
   "outputs": [],
   "metadata": {
    "ExecuteTime": {
     "end_time": "2021-09-09T02:10:28.246502Z",
     "start_time": "2021-09-09T02:10:28.231502Z"
    }
   }
  },
  {
   "cell_type": "code",
   "execution_count": 31,
   "source": [
    "df_combined_pivoted['county_name'].unique()"
   ],
   "outputs": [
    {
     "output_type": "execute_result",
     "data": {
      "text/plain": [
       "array(['Alameda', 'Amador', 'Butte', 'Calaveras', 'Colusa',\n",
       "       'Contra Costa', 'Del Norte', 'El Dorado', 'Fresno', 'Glenn',\n",
       "       'Humboldt', 'Imperial', 'Inyo', 'Kern', 'Kings', 'Lake', 'Lassen',\n",
       "       'Los Angeles', 'Madera', 'Marin', 'Mariposa', 'Mendocino',\n",
       "       'Merced', 'Modoc', 'Mono', 'Monterey', 'Napa', 'Nevada', 'Orange',\n",
       "       'Placer', 'Plumas', 'Riverside', 'Sacramento', 'San Benito',\n",
       "       'San Bernardino', 'San Diego', 'San Francisco', 'San Joaquin',\n",
       "       'San Luis Obispo', 'San Mateo', 'Santa Barbara', 'Santa Clara',\n",
       "       'Santa Cruz', 'Shasta', 'Siskiyou', 'Solano', 'Sonoma',\n",
       "       'Stanislaus', 'Tehama', 'Trinity', 'Tulare', 'Tuolumne', 'Ventura',\n",
       "       'Yolo', 'Yuba'], dtype=object)"
      ]
     },
     "metadata": {},
     "execution_count": 31
    }
   ],
   "metadata": {
    "ExecuteTime": {
     "end_time": "2021-09-09T02:10:28.262502Z",
     "start_time": "2021-09-09T02:10:28.247502Z"
    }
   }
  },
  {
   "cell_type": "code",
   "execution_count": 32,
   "source": [
    "df_combined_pivoted['dba_zip_code'] = df_combined_pivoted['dba_zip_code'].astype('str')"
   ],
   "outputs": [],
   "metadata": {
    "ExecuteTime": {
     "end_time": "2021-09-09T02:10:28.277334Z",
     "start_time": "2021-09-09T02:10:28.263502Z"
    }
   }
  },
  {
   "cell_type": "code",
   "execution_count": 33,
   "source": [
    "df_combined_pivoted.info()"
   ],
   "outputs": [
    {
     "output_type": "stream",
     "name": "stdout",
     "text": [
      "<class 'pandas.core.frame.DataFrame'>\n",
      "Int64Index: 2883 entries, 0 to 2890\n",
      "Data columns (total 52 columns):\n",
      " #   Column                  Non-Null Count  Dtype  \n",
      "---  ------                  --------------  -----  \n",
      " 0   year                    2883 non-null   int64  \n",
      " 1   oshpd_id                2883 non-null   int64  \n",
      " 2   county_number           2883 non-null   int64  \n",
      " 3   county_name             2883 non-null   object \n",
      " 4   facility_name           2883 non-null   object \n",
      " 5   dba_address1            2883 non-null   object \n",
      " 6   dba_city                2883 non-null   object \n",
      " 7   dba_zip_code            2883 non-null   object \n",
      " 8   license_category_desc   2883 non-null   object \n",
      " 9   teaching_hospital_desc  2883 non-null   float64\n",
      " 10  licensed_bed_size       2883 non-null   object \n",
      " 11  er_service_level        2883 non-null   object \n",
      " 12  sex_male                2883 non-null   float64\n",
      " 13  sex_female              2883 non-null   float64\n",
      " 14  sex_unk                 2883 non-null   float64\n",
      " 15  age_01_09               2883 non-null   float64\n",
      " 16  age_10_19               2883 non-null   float64\n",
      " 17  age_20_29               2883 non-null   float64\n",
      " 18  age_30_39               2883 non-null   float64\n",
      " 19  age_40_49               2883 non-null   float64\n",
      " 20  age_50_59               2883 non-null   float64\n",
      " 21  age_60_69               2883 non-null   float64\n",
      " 22  age_70_79               2883 non-null   float64\n",
      " 23  age_80_                 2883 non-null   float64\n",
      " 24  age_under_1             2883 non-null   float64\n",
      " 25  age_unknown             2883 non-null   float64\n",
      " 26  asian_pacific_island    2883 non-null   float64\n",
      " 27  black                   2883 non-null   float64\n",
      " 28  hispanic                2883 non-null   float64\n",
      " 29  native_american_eski    2883 non-null   float64\n",
      " 30  other_race              2883 non-null   float64\n",
      " 31  unknown_race            2883 non-null   float64\n",
      " 32  white                   2883 non-null   float64\n",
      " 33  acute_care              2883 non-null   float64\n",
      " 34  against_medical_advice  2883 non-null   float64\n",
      " 35  died                    2883 non-null   float64\n",
      " 36  hospice_care            2883 non-null   float64\n",
      " 37  home_health_service     2883 non-null   float64\n",
      " 38  residential_care        2883 non-null   float64\n",
      " 39  routine                 2883 non-null   float64\n",
      " 40  psychiatric_care        2883 non-null   float64\n",
      " 41  sn_ic_care              2883 non-null   float64\n",
      " 42  medi_cal                2883 non-null   float64\n",
      " 43  medicare                2883 non-null   float64\n",
      " 44  other_payer             2883 non-null   float64\n",
      " 45  private_coverage        2883 non-null   float64\n",
      " 46  selfpay                 2883 non-null   float64\n",
      " 47  all_other               2883 non-null   float64\n",
      " 48  english                 2883 non-null   float64\n",
      " 49  spanish                 2883 non-null   float64\n",
      " 50  ed_admit                2883 non-null   float64\n",
      " 51  ed_visit                2883 non-null   float64\n",
      "dtypes: float64(41), int64(3), object(8)\n",
      "memory usage: 1.2+ MB\n"
     ]
    }
   ],
   "metadata": {
    "ExecuteTime": {
     "end_time": "2021-09-09T02:10:32.255397Z",
     "start_time": "2021-09-09T02:10:32.242400Z"
    }
   }
  },
  {
   "cell_type": "code",
   "execution_count": 34,
   "source": [
    "# df_combined_pivoted.to_csv(os.path.join(path,'Prepared','3.data_join_facilities.csv'), index = 0)"
   ],
   "outputs": [],
   "metadata": {
    "ExecuteTime": {
     "end_time": "2021-09-09T02:10:42.705615Z",
     "start_time": "2021-09-09T02:10:42.602616Z"
    }
   }
  }
 ],
 "metadata": {
  "kernelspec": {
   "display_name": "Python 3",
   "language": "python",
   "name": "python3"
  },
  "language_info": {
   "codemirror_mode": {
    "name": "ipython",
    "version": 3
   },
   "file_extension": ".py",
   "mimetype": "text/x-python",
   "name": "python",
   "nbconvert_exporter": "python",
   "pygments_lexer": "ipython3",
   "version": "3.8.5"
  },
  "varInspector": {
   "cols": {
    "lenName": 16,
    "lenType": 16,
    "lenVar": 40
   },
   "kernels_config": {
    "python": {
     "delete_cmd_postfix": "",
     "delete_cmd_prefix": "del ",
     "library": "var_list.py",
     "varRefreshCmd": "print(var_dic_list())"
    },
    "r": {
     "delete_cmd_postfix": ") ",
     "delete_cmd_prefix": "rm(",
     "library": "var_list.r",
     "varRefreshCmd": "cat(var_dic_list()) "
    }
   },
   "types_to_exclude": [
    "module",
    "function",
    "builtin_function_or_method",
    "instance",
    "_Feature"
   ],
   "window_display": false
  }
 },
 "nbformat": 4,
 "nbformat_minor": 5
}