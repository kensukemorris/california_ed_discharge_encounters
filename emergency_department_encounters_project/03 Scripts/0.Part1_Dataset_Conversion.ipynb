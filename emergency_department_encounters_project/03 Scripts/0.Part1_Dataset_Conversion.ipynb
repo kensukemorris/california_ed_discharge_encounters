{
 "cells": [
  {
   "cell_type": "markdown",
   "source": [
    "### This script contains the following sections:\n",
    "\n",
    "#### 1. Importing libraries\n",
    "#### 2. File Conversion\n",
    "#### 3. Column Section for Future Analysis"
   ],
   "metadata": {}
  },
  {
   "cell_type": "markdown",
   "source": [
    "# 1. Imports"
   ],
   "metadata": {}
  },
  {
   "cell_type": "code",
   "execution_count": 49,
   "source": [
    "import pandas as pd\r\n",
    "import numpy as np\r\n",
    "import os\r\n",
    "import glob"
   ],
   "outputs": [],
   "metadata": {
    "ExecuteTime": {
     "end_time": "2021-08-20T06:44:58.506288Z",
     "start_time": "2021-08-20T06:44:58.273341Z"
    }
   }
  },
  {
   "cell_type": "code",
   "execution_count": 50,
   "source": [
    "path = r'C:\\Users\\Achievement 6\\data_emergency_ex6.1\\Data'"
   ],
   "outputs": [],
   "metadata": {
    "ExecuteTime": {
     "end_time": "2021-08-20T06:44:58.521525Z",
     "start_time": "2021-08-20T06:44:58.507299Z"
    }
   }
  },
  {
   "cell_type": "markdown",
   "source": [
    "# 2. File Conversion"
   ],
   "metadata": {}
  },
  {
   "cell_type": "code",
   "execution_count": 51,
   "source": [
    "#import multiple excel files, extract data sheet, save as csv files.\r\n",
    "\r\n",
    "files = glob.glob(path + '\\Original\\1.Raw\\*.xlsx')\r\n",
    "df_list = []\r\n",
    "df_full_list = []\r\n",
    "for excel_file in files:\r\n",
    "    \r\n",
    "    tmp = excel_file.split('.')[1] # remove the '.xlsx' file type at the end of file name\r\n",
    "    file = tmp.split('\\\\')[4]+'.csv' # split file path and add .csv\r\n",
    "    \r\n",
    "    df = pd.read_excel(os.path.join(path,'Original','1.Raw',excel_file), sheet_name='Data')\r\n",
    "    df.to_csv(os.path.join(path,'Original','Converted',file), index = 0)\r\n",
    "    \r\n",
    "    df_full_list.append(file)\r\n",
    "    df_list.append(file[:4])\r\n",
    "    \r\n",
    "    print(file)"
   ],
   "outputs": [
    {
     "output_type": "stream",
     "name": "stdout",
     "text": [
      "2005-hospital-emergency-department-characteristics-by-facility-pivot-profile.csv\n",
      "2006-hospital-emergency-department-characteristics-by-facility-pivot-profile.csv\n",
      "2007-hospital-emergency-department-characteristics-by-facility-pivot-profile.csv\n",
      "2008-hospital-emergency-department-characteristics-by-facility-pivot-profile.csv\n",
      "2009-hospital-emergency-department-characteristics-by-facility-pivot-profile.csv\n",
      "2010-hospital-emergency-department-characteristics-by-facility-pivot-profile.csv\n",
      "2011-hospital-emergency-department-characteristics-by-facility-pivot-profile.csv\n",
      "2012-hospital-emergency-department-characteristics-by-facility-pivot-profile.csv\n",
      "2013-hospital-emergency-department-characteristics-by-facility-pivot-profile.csv\n",
      "2014-hospital-emergency-department-characteristics-by-facility-pivot-profile.csv\n",
      "2015-hospital-emergency-department-characteristics-by-facility-pivot-profile.csv\n",
      "2016-hospital-emergency-department-characteristics-by-facility-pivot-profile.csv\n",
      "2017-hospital-emergency-department-characteristics-by-facility-pivot-profile.csv\n",
      "2018-hospital-emergency-department-characteristics-by-facility-pivot-profile.csv\n",
      "2019-hospital-emergency-department-characteristics-by-facility-pivot-profile.csv\n",
      "2020-hospital-emergency-department-characteristics-by-facility-pivot-profile.csv\n"
     ]
    }
   ],
   "metadata": {
    "ExecuteTime": {
     "end_time": "2021-08-20T08:34:21.018781Z",
     "start_time": "2021-08-20T08:34:05.566024Z"
    }
   }
  },
  {
   "cell_type": "code",
   "execution_count": 52,
   "source": [
    "print(df_full_list)\r\n",
    "# print(df_list)"
   ],
   "outputs": [
    {
     "output_type": "stream",
     "name": "stdout",
     "text": [
      "['2005-hospital-emergency-department-characteristics-by-facility-pivot-profile.csv', '2006-hospital-emergency-department-characteristics-by-facility-pivot-profile.csv', '2007-hospital-emergency-department-characteristics-by-facility-pivot-profile.csv', '2008-hospital-emergency-department-characteristics-by-facility-pivot-profile.csv', '2009-hospital-emergency-department-characteristics-by-facility-pivot-profile.csv', '2010-hospital-emergency-department-characteristics-by-facility-pivot-profile.csv', '2011-hospital-emergency-department-characteristics-by-facility-pivot-profile.csv', '2012-hospital-emergency-department-characteristics-by-facility-pivot-profile.csv', '2013-hospital-emergency-department-characteristics-by-facility-pivot-profile.csv', '2014-hospital-emergency-department-characteristics-by-facility-pivot-profile.csv', '2015-hospital-emergency-department-characteristics-by-facility-pivot-profile.csv', '2016-hospital-emergency-department-characteristics-by-facility-pivot-profile.csv', '2017-hospital-emergency-department-characteristics-by-facility-pivot-profile.csv', '2018-hospital-emergency-department-characteristics-by-facility-pivot-profile.csv', '2019-hospital-emergency-department-characteristics-by-facility-pivot-profile.csv', '2020-hospital-emergency-department-characteristics-by-facility-pivot-profile.csv']\n"
     ]
    }
   ],
   "metadata": {
    "ExecuteTime": {
     "end_time": "2021-08-20T08:35:05.196280Z",
     "start_time": "2021-08-20T08:35:05.193277Z"
    }
   }
  },
  {
   "cell_type": "markdown",
   "source": [
    "# 3. Column Selection"
   ],
   "metadata": {}
  },
  {
   "cell_type": "code",
   "execution_count": 53,
   "source": [
    "#import converted data files\n",
    "\n",
    "imported_df_list = []\n",
    "\n",
    "for i in range(len(df_full_list)):\n",
    "        temp_df = pd.read_csv(os.path.join(path,'Original','2.Converted', df_full_list[i]))\n",
    "                              \n",
    "        imported_df_list.append(temp_df)\n",
    "                                   \n",
    "print(len(imported_df_list))   "
   ],
   "outputs": [
    {
     "output_type": "stream",
     "name": "stdout",
     "text": [
      "16\n"
     ]
    }
   ],
   "metadata": {
    "ExecuteTime": {
     "end_time": "2021-08-20T08:46:18.793826Z",
     "start_time": "2021-08-20T08:46:18.588552Z"
    },
    "scrolled": false
   }
  },
  {
   "cell_type": "code",
   "execution_count": 54,
   "source": [
    "# Compare list of columns in the datasets\n",
    "\n",
    "df_cols = list()\n",
    "for df in imported_df_list:\n",
    "    df_cols.append(df.columns)\n",
    "\n",
    "print(df_cols[0])"
   ],
   "outputs": [
    {
     "output_type": "stream",
     "name": "stdout",
     "text": [
      "Index(['oshpd_id', 'oshpd_id9', 'fac_id', 'FAC_NAME', 'FAC_ADDRESS_ONE',\n",
      "       'FAC_CITY', 'FAC_ZIPCODE', 'TRAUMA_CTR', 'TEACH_HOSP',\n",
      "       'MED_SVC_STUDY_AREA',\n",
      "       ...\n",
      "       'a_EC_Other_Accidents', 'a_EC_Other_Vehicle_Transport',\n",
      "       'a_EC_Rail_Motor_Vehicle', 'a_EC_Self_Inflicted',\n",
      "       'a_EC_Submersion_Suffocation_Fore', 'a_EC_Undetermined',\n",
      "       'a_EC_Fire_Accidents', 'a_EC_War', 'Inpatient_from_ED', 'datayear'],\n",
      "      dtype='object', length=174)\n"
     ]
    }
   ],
   "metadata": {
    "ExecuteTime": {
     "end_time": "2021-08-20T09:02:03.880267Z",
     "start_time": "2021-08-20T09:02:03.872259Z"
    },
    "scrolled": true
   }
  },
  {
   "cell_type": "code",
   "execution_count": 55,
   "source": [
    "# add mising columns to earlier datasets\n",
    "\n",
    "mis_col = ['MSSA_DESIGNATION','RURAL_HOSPITAL_FLAG', 'SelfPay']\n",
    "mis_col2 = ['TRAUMA_CENTER_DESC']\n",
    "\n",
    "for count,df in enumerate(imported_df_list[0:-8]):\n",
    "    df[mis_col[0]] = np.nan\n",
    "    df[mis_col[1]] = np.nan\n",
    "    df[mis_col[2]] = np.nan\n",
    "    df.to_csv(os.path.join(path,'Original','2.Converted', str(df_full_list[count])))\n",
    "#     print(df_full_list[count])\n",
    "    \n",
    "\n",
    "# imported_df_list[6].columns"
   ],
   "outputs": [],
   "metadata": {
    "scrolled": true
   }
  },
  {
   "cell_type": "code",
   "execution_count": 56,
   "source": [
    "# Add self pay to 2012 and 2013 datasets\n",
    "\n",
    "for count,df in enumerate(imported_df_list[7:9]):\n",
    "    count += 7\n",
    "    df[['SelfPay']] = np.nan\n",
    "    df.to_csv(os.path.join(path,'Original','2.Converted', str(df_full_list[count])))"
   ],
   "outputs": [],
   "metadata": {}
  },
  {
   "cell_type": "code",
   "execution_count": 57,
   "source": [
    "# imported_df_list[7:9]"
   ],
   "outputs": [],
   "metadata": {}
  },
  {
   "cell_type": "code",
   "execution_count": 58,
   "source": [
    "# Add missing language columns for 2005 to 2009\n",
    "lang_cols = ['Spanish', 'All_Other', 'English']\n",
    "\n",
    "for count,df in enumerate(imported_df_list[0:4]):\n",
    "    df[lang_cols[0]] = np.nan\n",
    "    df[lang_cols[1]] = np.nan\n",
    "    df[lang_cols[2]] = np.nan\n",
    "    df.to_csv(os.path.join(path,'Original','2.Converted', str(df_full_list[count])))\n",
    "    print(count)"
   ],
   "outputs": [
    {
     "output_type": "stream",
     "name": "stdout",
     "text": [
      "0\n",
      "1\n",
      "2\n",
      "3\n"
     ]
    }
   ],
   "metadata": {}
  },
  {
   "cell_type": "code",
   "execution_count": 59,
   "source": [
    "# add missing column related about trauma_ctr to the 2016:2018 dataset\n",
    "\n",
    "for count, df in enumerate(imported_df_list[11:14]):\n",
    "    count += 11\n",
    "    df[mis_col2[0]] = np.nan\n",
    "    df.to_csv(os.path.join(path,'Original','2.Converted', str(df_full_list[count])))\n",
    "    print(\"Saved {}\".format(str(df_full_list[count])))"
   ],
   "outputs": [
    {
     "output_type": "stream",
     "name": "stdout",
     "text": [
      "Saved 2016-hospital-emergency-department-characteristics-by-facility-pivot-profile.csv\n",
      "Saved 2017-hospital-emergency-department-characteristics-by-facility-pivot-profile.csv\n",
      "Saved 2018-hospital-emergency-department-characteristics-by-facility-pivot-profile.csv\n"
     ]
    }
   ],
   "metadata": {}
  }
 ],
 "metadata": {
  "kernelspec": {
   "display_name": "Python 3",
   "language": "python",
   "name": "python3"
  },
  "language_info": {
   "codemirror_mode": {
    "name": "ipython",
    "version": 3
   },
   "file_extension": ".py",
   "mimetype": "text/x-python",
   "name": "python",
   "nbconvert_exporter": "python",
   "pygments_lexer": "ipython3",
   "version": "3.8.5"
  },
  "varInspector": {
   "cols": {
    "lenName": 16,
    "lenType": 16,
    "lenVar": 40
   },
   "kernels_config": {
    "python": {
     "delete_cmd_postfix": "",
     "delete_cmd_prefix": "del ",
     "library": "var_list.py",
     "varRefreshCmd": "print(var_dic_list())"
    },
    "r": {
     "delete_cmd_postfix": ") ",
     "delete_cmd_prefix": "rm(",
     "library": "var_list.r",
     "varRefreshCmd": "cat(var_dic_list()) "
    }
   },
   "types_to_exclude": [
    "module",
    "function",
    "builtin_function_or_method",
    "instance",
    "_Feature"
   ],
   "window_display": false
  }
 },
 "nbformat": 4,
 "nbformat_minor": 4
}