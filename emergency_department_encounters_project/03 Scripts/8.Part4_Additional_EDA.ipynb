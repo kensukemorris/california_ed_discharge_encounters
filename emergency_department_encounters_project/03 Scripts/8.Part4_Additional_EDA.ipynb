{
 "cells": [
  {
   "cell_type": "markdown",
   "source": [
    "### This script contains the following sections:\n",
    "\n",
    "#### 1. Importing libraries and data \n",
    "#### 2. Wrangling and Visualizations\n"
   ],
   "metadata": {}
  },
  {
   "cell_type": "markdown",
   "source": [
    "# 1. Imports"
   ],
   "metadata": {}
  },
  {
   "cell_type": "code",
   "execution_count": 1,
   "source": [
    "import pandas as pd \r\n",
    "import numpy as np\r\n",
    "import os\r\n",
    "\r\n",
    "import seaborn as sns\r\n",
    "import matplotlib\r\n",
    "import matplotlib.pyplot as plt\r\n",
    "import statsmodels.api as sm \r\n",
    "\r\n",
    "import warnings # This is a library that handles warnings.\r\n",
    "\r\n",
    "warnings.filterwarnings(\"ignore\") \r\n",
    "\r\n",
    "plt.style.use('fivethirtyeight') \r\n",
    "%matplotlib inline"
   ],
   "outputs": [],
   "metadata": {
    "ExecuteTime": {
     "end_time": "2021-09-09T05:34:19.656165Z",
     "start_time": "2021-09-09T05:34:18.465879Z"
    }
   }
  },
  {
   "cell_type": "code",
   "execution_count": 2,
   "source": [
    "path = r'C:\\Users\\\\data_emergency_ex6.1'\r\n",
    "data_path = r'C:\\Users\\\\data_emergency_ex6.1\\Data'"
   ],
   "outputs": [],
   "metadata": {
    "ExecuteTime": {
     "end_time": "2021-09-09T05:34:19.671170Z",
     "start_time": "2021-09-09T05:34:19.657167Z"
    }
   }
  },
  {
   "cell_type": "code",
   "execution_count": 21,
   "source": [
    "df = pd.read_csv(os.path.join(data_path,'Prepared','5.facilities_clusters.csv'))\r\n",
    "df.head()"
   ],
   "outputs": [
    {
     "output_type": "execute_result",
     "data": {
      "text/html": [
       "<div>\n",
       "<style scoped>\n",
       "    .dataframe tbody tr th:only-of-type {\n",
       "        vertical-align: middle;\n",
       "    }\n",
       "\n",
       "    .dataframe tbody tr th {\n",
       "        vertical-align: top;\n",
       "    }\n",
       "\n",
       "    .dataframe thead th {\n",
       "        text-align: right;\n",
       "    }\n",
       "</style>\n",
       "<table border=\"1\" class=\"dataframe\">\n",
       "  <thead>\n",
       "    <tr style=\"text-align: right;\">\n",
       "      <th></th>\n",
       "      <th>year</th>\n",
       "      <th>oshpd_id</th>\n",
       "      <th>county_number</th>\n",
       "      <th>county_name</th>\n",
       "      <th>facility_name</th>\n",
       "      <th>dba_address1</th>\n",
       "      <th>dba_city</th>\n",
       "      <th>dba_zip_code</th>\n",
       "      <th>license_category_desc</th>\n",
       "      <th>teaching_hospital_desc</th>\n",
       "      <th>...</th>\n",
       "      <th>medicare</th>\n",
       "      <th>other_payer</th>\n",
       "      <th>private_coverage</th>\n",
       "      <th>selfpay</th>\n",
       "      <th>all_other</th>\n",
       "      <th>english</th>\n",
       "      <th>spanish</th>\n",
       "      <th>ed_admit</th>\n",
       "      <th>ed_visit</th>\n",
       "      <th>cluster</th>\n",
       "    </tr>\n",
       "  </thead>\n",
       "  <tbody>\n",
       "    <tr>\n",
       "      <th>0</th>\n",
       "      <td>2012</td>\n",
       "      <td>106010735</td>\n",
       "      <td>1</td>\n",
       "      <td>Alameda</td>\n",
       "      <td>ALAMEDA HOSPITAL</td>\n",
       "      <td>2070 CLINTON</td>\n",
       "      <td>ALAMEDA</td>\n",
       "      <td>94501</td>\n",
       "      <td>General Acute Care</td>\n",
       "      <td>0.0</td>\n",
       "      <td>...</td>\n",
       "      <td>2740.0</td>\n",
       "      <td>3469.0</td>\n",
       "      <td>4339.0</td>\n",
       "      <td>0.0</td>\n",
       "      <td>522.0</td>\n",
       "      <td>12918.0</td>\n",
       "      <td>287.0</td>\n",
       "      <td>2595.0</td>\n",
       "      <td>13727.0</td>\n",
       "      <td>3</td>\n",
       "    </tr>\n",
       "    <tr>\n",
       "      <th>1</th>\n",
       "      <td>2012</td>\n",
       "      <td>106010739</td>\n",
       "      <td>1</td>\n",
       "      <td>Alameda</td>\n",
       "      <td>ALTA BATES SUMMIT MEDICAL CENTER-ALTA BATES CA...</td>\n",
       "      <td>2450 ASHBY STREET</td>\n",
       "      <td>BERKELEY</td>\n",
       "      <td>94705</td>\n",
       "      <td>General Acute Care</td>\n",
       "      <td>0.0</td>\n",
       "      <td>...</td>\n",
       "      <td>5707.0</td>\n",
       "      <td>1877.0</td>\n",
       "      <td>12926.0</td>\n",
       "      <td>0.0</td>\n",
       "      <td>534.0</td>\n",
       "      <td>33867.0</td>\n",
       "      <td>941.0</td>\n",
       "      <td>6047.0</td>\n",
       "      <td>35342.0</td>\n",
       "      <td>0</td>\n",
       "    </tr>\n",
       "    <tr>\n",
       "      <th>2</th>\n",
       "      <td>2012</td>\n",
       "      <td>106010776</td>\n",
       "      <td>1</td>\n",
       "      <td>Alameda</td>\n",
       "      <td>CHILDRENS HOSPITAL AND RESEARCH CENTER AT OAKLAND</td>\n",
       "      <td>747 52ND STREET</td>\n",
       "      <td>OAKLAND</td>\n",
       "      <td>94609</td>\n",
       "      <td>General Acute Care</td>\n",
       "      <td>0.0</td>\n",
       "      <td>...</td>\n",
       "      <td>19.0</td>\n",
       "      <td>1785.0</td>\n",
       "      <td>5949.0</td>\n",
       "      <td>0.0</td>\n",
       "      <td>1425.0</td>\n",
       "      <td>27285.0</td>\n",
       "      <td>10508.0</td>\n",
       "      <td>6911.0</td>\n",
       "      <td>39218.0</td>\n",
       "      <td>3</td>\n",
       "    </tr>\n",
       "    <tr>\n",
       "      <th>3</th>\n",
       "      <td>2012</td>\n",
       "      <td>106010805</td>\n",
       "      <td>1</td>\n",
       "      <td>Alameda</td>\n",
       "      <td>EDEN MEDICAL CENTER</td>\n",
       "      <td>20103 LAKE CHABOT ROAD</td>\n",
       "      <td>CASTRO VALLEY</td>\n",
       "      <td>94546</td>\n",
       "      <td>General Acute Care</td>\n",
       "      <td>0.0</td>\n",
       "      <td>...</td>\n",
       "      <td>6426.0</td>\n",
       "      <td>814.0</td>\n",
       "      <td>9169.0</td>\n",
       "      <td>0.0</td>\n",
       "      <td>666.0</td>\n",
       "      <td>29433.0</td>\n",
       "      <td>1632.0</td>\n",
       "      <td>6324.0</td>\n",
       "      <td>31731.0</td>\n",
       "      <td>0</td>\n",
       "    </tr>\n",
       "    <tr>\n",
       "      <th>4</th>\n",
       "      <td>2012</td>\n",
       "      <td>106010846</td>\n",
       "      <td>1</td>\n",
       "      <td>Alameda</td>\n",
       "      <td>HIGHLAND HOSPITAL</td>\n",
       "      <td>1411 EAST 31ST STREET</td>\n",
       "      <td>OAKLAND</td>\n",
       "      <td>94602</td>\n",
       "      <td>General Acute Care</td>\n",
       "      <td>1.0</td>\n",
       "      <td>...</td>\n",
       "      <td>4437.0</td>\n",
       "      <td>35836.0</td>\n",
       "      <td>1640.0</td>\n",
       "      <td>0.0</td>\n",
       "      <td>4025.0</td>\n",
       "      <td>57871.0</td>\n",
       "      <td>12306.0</td>\n",
       "      <td>8992.0</td>\n",
       "      <td>74202.0</td>\n",
       "      <td>1</td>\n",
       "    </tr>\n",
       "  </tbody>\n",
       "</table>\n",
       "<p>5 rows × 53 columns</p>\n",
       "</div>"
      ],
      "text/plain": [
       "   year   oshpd_id  county_number county_name  \\\n",
       "0  2012  106010735              1     Alameda   \n",
       "1  2012  106010739              1     Alameda   \n",
       "2  2012  106010776              1     Alameda   \n",
       "3  2012  106010805              1     Alameda   \n",
       "4  2012  106010846              1     Alameda   \n",
       "\n",
       "                                       facility_name            dba_address1  \\\n",
       "0                                   ALAMEDA HOSPITAL            2070 CLINTON   \n",
       "1  ALTA BATES SUMMIT MEDICAL CENTER-ALTA BATES CA...       2450 ASHBY STREET   \n",
       "2  CHILDRENS HOSPITAL AND RESEARCH CENTER AT OAKLAND         747 52ND STREET   \n",
       "3                                EDEN MEDICAL CENTER  20103 LAKE CHABOT ROAD   \n",
       "4                                  HIGHLAND HOSPITAL   1411 EAST 31ST STREET   \n",
       "\n",
       "        dba_city  dba_zip_code license_category_desc  teaching_hospital_desc  \\\n",
       "0        ALAMEDA         94501    General Acute Care                     0.0   \n",
       "1       BERKELEY         94705    General Acute Care                     0.0   \n",
       "2        OAKLAND         94609    General Acute Care                     0.0   \n",
       "3  CASTRO VALLEY         94546    General Acute Care                     0.0   \n",
       "4        OAKLAND         94602    General Acute Care                     1.0   \n",
       "\n",
       "   ... medicare other_payer  private_coverage  selfpay  all_other  english  \\\n",
       "0  ...   2740.0      3469.0            4339.0      0.0      522.0  12918.0   \n",
       "1  ...   5707.0      1877.0           12926.0      0.0      534.0  33867.0   \n",
       "2  ...     19.0      1785.0            5949.0      0.0     1425.0  27285.0   \n",
       "3  ...   6426.0       814.0            9169.0      0.0      666.0  29433.0   \n",
       "4  ...   4437.0     35836.0            1640.0      0.0     4025.0  57871.0   \n",
       "\n",
       "   spanish  ed_admit  ed_visit  cluster  \n",
       "0    287.0    2595.0   13727.0        3  \n",
       "1    941.0    6047.0   35342.0        0  \n",
       "2  10508.0    6911.0   39218.0        3  \n",
       "3   1632.0    6324.0   31731.0        0  \n",
       "4  12306.0    8992.0   74202.0        1  \n",
       "\n",
       "[5 rows x 53 columns]"
      ]
     },
     "metadata": {},
     "execution_count": 21
    }
   ],
   "metadata": {
    "ExecuteTime": {
     "end_time": "2021-09-09T05:35:22.517572Z",
     "start_time": "2021-09-09T05:35:22.484543Z"
    },
    "scrolled": true
   }
  },
  {
   "cell_type": "code",
   "execution_count": 4,
   "source": [
    "df.shape"
   ],
   "outputs": [
    {
     "output_type": "execute_result",
     "data": {
      "text/plain": [
       "(2883, 52)"
      ]
     },
     "metadata": {},
     "execution_count": 4
    }
   ],
   "metadata": {
    "ExecuteTime": {
     "end_time": "2021-09-09T05:34:19.734166Z",
     "start_time": "2021-09-09T05:34:19.720167Z"
    }
   }
  },
  {
   "cell_type": "code",
   "execution_count": 5,
   "source": [
    "df.columns"
   ],
   "outputs": [
    {
     "output_type": "execute_result",
     "data": {
      "text/plain": [
       "Index(['year', 'oshpd_id', 'county_number', 'county_name', 'facility_name',\n",
       "       'dba_address1', 'dba_city', 'dba_zip_code', 'license_category_desc',\n",
       "       'teaching_hospital_desc', 'licensed_bed_size', 'er_service_level',\n",
       "       'sex_male', 'sex_female', 'sex_unk', 'age_01_09', 'age_10_19',\n",
       "       'age_20_29', 'age_30_39', 'age_40_49', 'age_50_59', 'age_60_69',\n",
       "       'age_70_79', 'age_80_', 'age_under_1', 'age_unknown',\n",
       "       'asian_pacific_island', 'black', 'hispanic', 'native_american_eski',\n",
       "       'other_race', 'unknown_race', 'white', 'acute_care',\n",
       "       'against_medical_advice', 'died', 'hospice_care', 'home_health_service',\n",
       "       'residential_care', 'routine', 'psychiatric_care', 'sn_ic_care',\n",
       "       'medi_cal', 'medicare', 'other_payer', 'private_coverage', 'selfpay',\n",
       "       'all_other', 'english', 'spanish', 'ed_admit', 'ed_visit'],\n",
       "      dtype='object')"
      ]
     },
     "metadata": {},
     "execution_count": 5
    }
   ],
   "metadata": {
    "ExecuteTime": {
     "end_time": "2021-09-09T05:34:19.749767Z",
     "start_time": "2021-09-09T05:34:19.735166Z"
    }
   }
  },
  {
   "cell_type": "code",
   "execution_count": 6,
   "source": [
    "# print(df.columns.get_loc('acute_care'),df.columns.get_loc('sn_ic_care'))"
   ],
   "outputs": [],
   "metadata": {
    "ExecuteTime": {
     "end_time": "2021-09-09T05:34:19.765767Z",
     "start_time": "2021-09-09T05:34:19.751767Z"
    }
   }
  },
  {
   "cell_type": "markdown",
   "source": [
    "# 2. Data Wrangling"
   ],
   "metadata": {}
  },
  {
   "cell_type": "code",
   "execution_count": 7,
   "source": [
    "#double checking na values, in this case the values with NA are not required \n",
    "df.isna().sum()"
   ],
   "outputs": [
    {
     "output_type": "execute_result",
     "data": {
      "text/plain": [
       "year                      0\n",
       "oshpd_id                  0\n",
       "county_number             0\n",
       "county_name               0\n",
       "facility_name             0\n",
       "dba_address1              0\n",
       "dba_city                  0\n",
       "dba_zip_code              0\n",
       "license_category_desc     0\n",
       "teaching_hospital_desc    0\n",
       "licensed_bed_size         0\n",
       "er_service_level          0\n",
       "sex_male                  0\n",
       "sex_female                0\n",
       "sex_unk                   0\n",
       "age_01_09                 0\n",
       "age_10_19                 0\n",
       "age_20_29                 0\n",
       "age_30_39                 0\n",
       "age_40_49                 0\n",
       "age_50_59                 0\n",
       "age_60_69                 0\n",
       "age_70_79                 0\n",
       "age_80_                   0\n",
       "age_under_1               0\n",
       "age_unknown               0\n",
       "asian_pacific_island      0\n",
       "black                     0\n",
       "hispanic                  0\n",
       "native_american_eski      0\n",
       "other_race                0\n",
       "unknown_race              0\n",
       "white                     0\n",
       "acute_care                0\n",
       "against_medical_advice    0\n",
       "died                      0\n",
       "hospice_care              0\n",
       "home_health_service       0\n",
       "residential_care          0\n",
       "routine                   0\n",
       "psychiatric_care          0\n",
       "sn_ic_care                0\n",
       "medi_cal                  0\n",
       "medicare                  0\n",
       "other_payer               0\n",
       "private_coverage          0\n",
       "selfpay                   0\n",
       "all_other                 0\n",
       "english                   0\n",
       "spanish                   0\n",
       "ed_admit                  0\n",
       "ed_visit                  0\n",
       "dtype: int64"
      ]
     },
     "metadata": {},
     "execution_count": 7
    }
   ],
   "metadata": {
    "ExecuteTime": {
     "end_time": "2021-09-09T05:34:19.780767Z",
     "start_time": "2021-09-09T05:34:19.766769Z"
    },
    "scrolled": true
   }
  },
  {
   "cell_type": "markdown",
   "source": [
    "### Discharges/dispositions"
   ],
   "metadata": {}
  },
  {
   "cell_type": "code",
   "execution_count": 8,
   "source": [
    "# subset dataset with patient disposition encounters and year for further data wrangling\n",
    "\n",
    "df_disp = df[['year','oshpd_id','acute_care','against_medical_advice', 'died', 'hospice_care', 'home_health_service',\n",
    "       'residential_care', 'routine', 'psychiatric_care', 'sn_ic_care']]\n",
    "\n",
    "df_disp.head(2)"
   ],
   "outputs": [
    {
     "output_type": "execute_result",
     "data": {
      "text/html": [
       "<div>\n",
       "<style scoped>\n",
       "    .dataframe tbody tr th:only-of-type {\n",
       "        vertical-align: middle;\n",
       "    }\n",
       "\n",
       "    .dataframe tbody tr th {\n",
       "        vertical-align: top;\n",
       "    }\n",
       "\n",
       "    .dataframe thead th {\n",
       "        text-align: right;\n",
       "    }\n",
       "</style>\n",
       "<table border=\"1\" class=\"dataframe\">\n",
       "  <thead>\n",
       "    <tr style=\"text-align: right;\">\n",
       "      <th></th>\n",
       "      <th>year</th>\n",
       "      <th>oshpd_id</th>\n",
       "      <th>acute_care</th>\n",
       "      <th>against_medical_advice</th>\n",
       "      <th>died</th>\n",
       "      <th>hospice_care</th>\n",
       "      <th>home_health_service</th>\n",
       "      <th>residential_care</th>\n",
       "      <th>routine</th>\n",
       "      <th>psychiatric_care</th>\n",
       "      <th>sn_ic_care</th>\n",
       "    </tr>\n",
       "  </thead>\n",
       "  <tbody>\n",
       "    <tr>\n",
       "      <th>0</th>\n",
       "      <td>2012</td>\n",
       "      <td>106010735</td>\n",
       "      <td>237.0</td>\n",
       "      <td>385.0</td>\n",
       "      <td>39.0</td>\n",
       "      <td>12.0</td>\n",
       "      <td>23.0</td>\n",
       "      <td>10.0</td>\n",
       "      <td>12462.0</td>\n",
       "      <td>210.0</td>\n",
       "      <td>201.0</td>\n",
       "    </tr>\n",
       "    <tr>\n",
       "      <th>1</th>\n",
       "      <td>2012</td>\n",
       "      <td>106010739</td>\n",
       "      <td>198.0</td>\n",
       "      <td>242.0</td>\n",
       "      <td>25.0</td>\n",
       "      <td>0.0</td>\n",
       "      <td>3.0</td>\n",
       "      <td>44.0</td>\n",
       "      <td>33653.0</td>\n",
       "      <td>934.0</td>\n",
       "      <td>156.0</td>\n",
       "    </tr>\n",
       "  </tbody>\n",
       "</table>\n",
       "</div>"
      ],
      "text/plain": [
       "   year   oshpd_id  acute_care  against_medical_advice  died  hospice_care  \\\n",
       "0  2012  106010735       237.0                   385.0  39.0          12.0   \n",
       "1  2012  106010739       198.0                   242.0  25.0           0.0   \n",
       "\n",
       "   home_health_service  residential_care  routine  psychiatric_care  \\\n",
       "0                 23.0              10.0  12462.0             210.0   \n",
       "1                  3.0              44.0  33653.0             934.0   \n",
       "\n",
       "   sn_ic_care  \n",
       "0       201.0  \n",
       "1       156.0  "
      ]
     },
     "metadata": {},
     "execution_count": 8
    }
   ],
   "metadata": {
    "ExecuteTime": {
     "end_time": "2021-09-09T05:34:19.795820Z",
     "start_time": "2021-09-09T05:34:19.782768Z"
    }
   }
  },
  {
   "cell_type": "code",
   "execution_count": 9,
   "source": [
    "# create encounter profiles/flags based on patient disposition.\n",
    "# Medical Advice Discharges\n",
    "# Discharge Against Medical Advice\n",
    "# Died - outside the preferences of both patients and medical professionals (assumed)\n",
    "\n",
    "#Medical Advice Discharges\n",
    "df_disp['med_adv_flag'] = df[['acute_care','hospice_care', 'home_health_service',\n",
    "       'residential_care', 'routine', 'psychiatric_care', 'sn_ic_care']].sum(axis = 1)\n",
    "\n",
    "df_disp"
   ],
   "outputs": [
    {
     "output_type": "execute_result",
     "data": {
      "text/html": [
       "<div>\n",
       "<style scoped>\n",
       "    .dataframe tbody tr th:only-of-type {\n",
       "        vertical-align: middle;\n",
       "    }\n",
       "\n",
       "    .dataframe tbody tr th {\n",
       "        vertical-align: top;\n",
       "    }\n",
       "\n",
       "    .dataframe thead th {\n",
       "        text-align: right;\n",
       "    }\n",
       "</style>\n",
       "<table border=\"1\" class=\"dataframe\">\n",
       "  <thead>\n",
       "    <tr style=\"text-align: right;\">\n",
       "      <th></th>\n",
       "      <th>year</th>\n",
       "      <th>oshpd_id</th>\n",
       "      <th>acute_care</th>\n",
       "      <th>against_medical_advice</th>\n",
       "      <th>died</th>\n",
       "      <th>hospice_care</th>\n",
       "      <th>home_health_service</th>\n",
       "      <th>residential_care</th>\n",
       "      <th>routine</th>\n",
       "      <th>psychiatric_care</th>\n",
       "      <th>sn_ic_care</th>\n",
       "      <th>med_adv_flag</th>\n",
       "    </tr>\n",
       "  </thead>\n",
       "  <tbody>\n",
       "    <tr>\n",
       "      <th>0</th>\n",
       "      <td>2012</td>\n",
       "      <td>106010735</td>\n",
       "      <td>237.0</td>\n",
       "      <td>385.0</td>\n",
       "      <td>39.0</td>\n",
       "      <td>12.0</td>\n",
       "      <td>23.0</td>\n",
       "      <td>10.0</td>\n",
       "      <td>12462.0</td>\n",
       "      <td>210.0</td>\n",
       "      <td>201.0</td>\n",
       "      <td>13155.0</td>\n",
       "    </tr>\n",
       "    <tr>\n",
       "      <th>1</th>\n",
       "      <td>2012</td>\n",
       "      <td>106010739</td>\n",
       "      <td>198.0</td>\n",
       "      <td>242.0</td>\n",
       "      <td>25.0</td>\n",
       "      <td>0.0</td>\n",
       "      <td>3.0</td>\n",
       "      <td>44.0</td>\n",
       "      <td>33653.0</td>\n",
       "      <td>934.0</td>\n",
       "      <td>156.0</td>\n",
       "      <td>34988.0</td>\n",
       "    </tr>\n",
       "    <tr>\n",
       "      <th>2</th>\n",
       "      <td>2012</td>\n",
       "      <td>106010776</td>\n",
       "      <td>308.0</td>\n",
       "      <td>758.0</td>\n",
       "      <td>9.0</td>\n",
       "      <td>0.0</td>\n",
       "      <td>0.0</td>\n",
       "      <td>0.0</td>\n",
       "      <td>38135.0</td>\n",
       "      <td>0.0</td>\n",
       "      <td>0.0</td>\n",
       "      <td>38443.0</td>\n",
       "    </tr>\n",
       "    <tr>\n",
       "      <th>3</th>\n",
       "      <td>2012</td>\n",
       "      <td>106010805</td>\n",
       "      <td>1064.0</td>\n",
       "      <td>332.0</td>\n",
       "      <td>100.0</td>\n",
       "      <td>26.0</td>\n",
       "      <td>62.0</td>\n",
       "      <td>2.0</td>\n",
       "      <td>29049.0</td>\n",
       "      <td>695.0</td>\n",
       "      <td>50.0</td>\n",
       "      <td>30948.0</td>\n",
       "    </tr>\n",
       "    <tr>\n",
       "      <th>4</th>\n",
       "      <td>2012</td>\n",
       "      <td>106010846</td>\n",
       "      <td>1936.0</td>\n",
       "      <td>567.0</td>\n",
       "      <td>161.0</td>\n",
       "      <td>0.0</td>\n",
       "      <td>2.0</td>\n",
       "      <td>1.0</td>\n",
       "      <td>70104.0</td>\n",
       "      <td>0.0</td>\n",
       "      <td>143.0</td>\n",
       "      <td>72186.0</td>\n",
       "    </tr>\n",
       "    <tr>\n",
       "      <th>...</th>\n",
       "      <td>...</td>\n",
       "      <td>...</td>\n",
       "      <td>...</td>\n",
       "      <td>...</td>\n",
       "      <td>...</td>\n",
       "      <td>...</td>\n",
       "      <td>...</td>\n",
       "      <td>...</td>\n",
       "      <td>...</td>\n",
       "      <td>...</td>\n",
       "      <td>...</td>\n",
       "      <td>...</td>\n",
       "    </tr>\n",
       "    <tr>\n",
       "      <th>2878</th>\n",
       "      <td>2020</td>\n",
       "      <td>106560525</td>\n",
       "      <td>1004.0</td>\n",
       "      <td>639.0</td>\n",
       "      <td>21.0</td>\n",
       "      <td>10.0</td>\n",
       "      <td>37.0</td>\n",
       "      <td>1.0</td>\n",
       "      <td>22844.0</td>\n",
       "      <td>222.0</td>\n",
       "      <td>61.0</td>\n",
       "      <td>24179.0</td>\n",
       "    </tr>\n",
       "    <tr>\n",
       "      <th>2879</th>\n",
       "      <td>2020</td>\n",
       "      <td>106560529</td>\n",
       "      <td>347.0</td>\n",
       "      <td>1223.0</td>\n",
       "      <td>44.0</td>\n",
       "      <td>5.0</td>\n",
       "      <td>46.0</td>\n",
       "      <td>4.0</td>\n",
       "      <td>32367.0</td>\n",
       "      <td>806.0</td>\n",
       "      <td>60.0</td>\n",
       "      <td>33635.0</td>\n",
       "    </tr>\n",
       "    <tr>\n",
       "      <th>2880</th>\n",
       "      <td>2020</td>\n",
       "      <td>106571086</td>\n",
       "      <td>443.0</td>\n",
       "      <td>110.0</td>\n",
       "      <td>25.0</td>\n",
       "      <td>8.0</td>\n",
       "      <td>29.0</td>\n",
       "      <td>4.0</td>\n",
       "      <td>17866.0</td>\n",
       "      <td>53.0</td>\n",
       "      <td>57.0</td>\n",
       "      <td>18460.0</td>\n",
       "    </tr>\n",
       "    <tr>\n",
       "      <th>2881</th>\n",
       "      <td>2020</td>\n",
       "      <td>106574010</td>\n",
       "      <td>684.0</td>\n",
       "      <td>138.0</td>\n",
       "      <td>12.0</td>\n",
       "      <td>5.0</td>\n",
       "      <td>15.0</td>\n",
       "      <td>45.0</td>\n",
       "      <td>19550.0</td>\n",
       "      <td>454.0</td>\n",
       "      <td>142.0</td>\n",
       "      <td>20895.0</td>\n",
       "    </tr>\n",
       "    <tr>\n",
       "      <th>2882</th>\n",
       "      <td>2020</td>\n",
       "      <td>106580996</td>\n",
       "      <td>971.0</td>\n",
       "      <td>2900.0</td>\n",
       "      <td>95.0</td>\n",
       "      <td>2.0</td>\n",
       "      <td>28.0</td>\n",
       "      <td>4.0</td>\n",
       "      <td>46782.0</td>\n",
       "      <td>938.0</td>\n",
       "      <td>107.0</td>\n",
       "      <td>48832.0</td>\n",
       "    </tr>\n",
       "  </tbody>\n",
       "</table>\n",
       "<p>2883 rows × 12 columns</p>\n",
       "</div>"
      ],
      "text/plain": [
       "      year   oshpd_id  acute_care  against_medical_advice   died  \\\n",
       "0     2012  106010735       237.0                   385.0   39.0   \n",
       "1     2012  106010739       198.0                   242.0   25.0   \n",
       "2     2012  106010776       308.0                   758.0    9.0   \n",
       "3     2012  106010805      1064.0                   332.0  100.0   \n",
       "4     2012  106010846      1936.0                   567.0  161.0   \n",
       "...    ...        ...         ...                     ...    ...   \n",
       "2878  2020  106560525      1004.0                   639.0   21.0   \n",
       "2879  2020  106560529       347.0                  1223.0   44.0   \n",
       "2880  2020  106571086       443.0                   110.0   25.0   \n",
       "2881  2020  106574010       684.0                   138.0   12.0   \n",
       "2882  2020  106580996       971.0                  2900.0   95.0   \n",
       "\n",
       "      hospice_care  home_health_service  residential_care  routine  \\\n",
       "0             12.0                 23.0              10.0  12462.0   \n",
       "1              0.0                  3.0              44.0  33653.0   \n",
       "2              0.0                  0.0               0.0  38135.0   \n",
       "3             26.0                 62.0               2.0  29049.0   \n",
       "4              0.0                  2.0               1.0  70104.0   \n",
       "...            ...                  ...               ...      ...   \n",
       "2878          10.0                 37.0               1.0  22844.0   \n",
       "2879           5.0                 46.0               4.0  32367.0   \n",
       "2880           8.0                 29.0               4.0  17866.0   \n",
       "2881           5.0                 15.0              45.0  19550.0   \n",
       "2882           2.0                 28.0               4.0  46782.0   \n",
       "\n",
       "      psychiatric_care  sn_ic_care  med_adv_flag  \n",
       "0                210.0       201.0       13155.0  \n",
       "1                934.0       156.0       34988.0  \n",
       "2                  0.0         0.0       38443.0  \n",
       "3                695.0        50.0       30948.0  \n",
       "4                  0.0       143.0       72186.0  \n",
       "...                ...         ...           ...  \n",
       "2878             222.0        61.0       24179.0  \n",
       "2879             806.0        60.0       33635.0  \n",
       "2880              53.0        57.0       18460.0  \n",
       "2881             454.0       142.0       20895.0  \n",
       "2882             938.0       107.0       48832.0  \n",
       "\n",
       "[2883 rows x 12 columns]"
      ]
     },
     "metadata": {},
     "execution_count": 9
    }
   ],
   "metadata": {
    "ExecuteTime": {
     "end_time": "2021-09-09T05:34:19.827786Z",
     "start_time": "2021-09-09T05:34:19.797768Z"
    }
   }
  },
  {
   "cell_type": "code",
   "execution_count": 10,
   "source": [
    "#drop unneeded disposition columns in the medcal advice flag\n",
    "df_disp.drop(columns = ['acute_care','hospice_care', 'home_health_service',\n",
    "       'residential_care', 'routine', 'psychiatric_care', 'sn_ic_care'], axis = 1, inplace=True)"
   ],
   "outputs": [],
   "metadata": {
    "ExecuteTime": {
     "end_time": "2021-09-09T05:34:19.843786Z",
     "start_time": "2021-09-09T05:34:19.828789Z"
    },
    "scrolled": false
   }
  },
  {
   "cell_type": "code",
   "execution_count": 11,
   "source": [
    "df_disp.head(3)"
   ],
   "outputs": [
    {
     "output_type": "execute_result",
     "data": {
      "text/html": [
       "<div>\n",
       "<style scoped>\n",
       "    .dataframe tbody tr th:only-of-type {\n",
       "        vertical-align: middle;\n",
       "    }\n",
       "\n",
       "    .dataframe tbody tr th {\n",
       "        vertical-align: top;\n",
       "    }\n",
       "\n",
       "    .dataframe thead th {\n",
       "        text-align: right;\n",
       "    }\n",
       "</style>\n",
       "<table border=\"1\" class=\"dataframe\">\n",
       "  <thead>\n",
       "    <tr style=\"text-align: right;\">\n",
       "      <th></th>\n",
       "      <th>year</th>\n",
       "      <th>oshpd_id</th>\n",
       "      <th>against_medical_advice</th>\n",
       "      <th>died</th>\n",
       "      <th>med_adv_flag</th>\n",
       "    </tr>\n",
       "  </thead>\n",
       "  <tbody>\n",
       "    <tr>\n",
       "      <th>0</th>\n",
       "      <td>2012</td>\n",
       "      <td>106010735</td>\n",
       "      <td>385.0</td>\n",
       "      <td>39.0</td>\n",
       "      <td>13155.0</td>\n",
       "    </tr>\n",
       "    <tr>\n",
       "      <th>1</th>\n",
       "      <td>2012</td>\n",
       "      <td>106010739</td>\n",
       "      <td>242.0</td>\n",
       "      <td>25.0</td>\n",
       "      <td>34988.0</td>\n",
       "    </tr>\n",
       "    <tr>\n",
       "      <th>2</th>\n",
       "      <td>2012</td>\n",
       "      <td>106010776</td>\n",
       "      <td>758.0</td>\n",
       "      <td>9.0</td>\n",
       "      <td>38443.0</td>\n",
       "    </tr>\n",
       "  </tbody>\n",
       "</table>\n",
       "</div>"
      ],
      "text/plain": [
       "   year   oshpd_id  against_medical_advice  died  med_adv_flag\n",
       "0  2012  106010735                   385.0  39.0       13155.0\n",
       "1  2012  106010739                   242.0  25.0       34988.0\n",
       "2  2012  106010776                   758.0   9.0       38443.0"
      ]
     },
     "metadata": {},
     "execution_count": 11
    }
   ],
   "metadata": {
    "ExecuteTime": {
     "end_time": "2021-09-09T05:34:19.859788Z",
     "start_time": "2021-09-09T05:34:19.844788Z"
    },
    "scrolled": true
   }
  },
  {
   "cell_type": "code",
   "execution_count": 12,
   "source": [
    "df_disp['total_disp'] = df_disp[['against_medical_advice', 'died' , 'med_adv_flag']].sum(axis = 1)\n",
    "df_disp"
   ],
   "outputs": [
    {
     "output_type": "execute_result",
     "data": {
      "text/html": [
       "<div>\n",
       "<style scoped>\n",
       "    .dataframe tbody tr th:only-of-type {\n",
       "        vertical-align: middle;\n",
       "    }\n",
       "\n",
       "    .dataframe tbody tr th {\n",
       "        vertical-align: top;\n",
       "    }\n",
       "\n",
       "    .dataframe thead th {\n",
       "        text-align: right;\n",
       "    }\n",
       "</style>\n",
       "<table border=\"1\" class=\"dataframe\">\n",
       "  <thead>\n",
       "    <tr style=\"text-align: right;\">\n",
       "      <th></th>\n",
       "      <th>year</th>\n",
       "      <th>oshpd_id</th>\n",
       "      <th>against_medical_advice</th>\n",
       "      <th>died</th>\n",
       "      <th>med_adv_flag</th>\n",
       "      <th>total_disp</th>\n",
       "    </tr>\n",
       "  </thead>\n",
       "  <tbody>\n",
       "    <tr>\n",
       "      <th>0</th>\n",
       "      <td>2012</td>\n",
       "      <td>106010735</td>\n",
       "      <td>385.0</td>\n",
       "      <td>39.0</td>\n",
       "      <td>13155.0</td>\n",
       "      <td>13579.0</td>\n",
       "    </tr>\n",
       "    <tr>\n",
       "      <th>1</th>\n",
       "      <td>2012</td>\n",
       "      <td>106010739</td>\n",
       "      <td>242.0</td>\n",
       "      <td>25.0</td>\n",
       "      <td>34988.0</td>\n",
       "      <td>35255.0</td>\n",
       "    </tr>\n",
       "    <tr>\n",
       "      <th>2</th>\n",
       "      <td>2012</td>\n",
       "      <td>106010776</td>\n",
       "      <td>758.0</td>\n",
       "      <td>9.0</td>\n",
       "      <td>38443.0</td>\n",
       "      <td>39210.0</td>\n",
       "    </tr>\n",
       "    <tr>\n",
       "      <th>3</th>\n",
       "      <td>2012</td>\n",
       "      <td>106010805</td>\n",
       "      <td>332.0</td>\n",
       "      <td>100.0</td>\n",
       "      <td>30948.0</td>\n",
       "      <td>31380.0</td>\n",
       "    </tr>\n",
       "    <tr>\n",
       "      <th>4</th>\n",
       "      <td>2012</td>\n",
       "      <td>106010846</td>\n",
       "      <td>567.0</td>\n",
       "      <td>161.0</td>\n",
       "      <td>72186.0</td>\n",
       "      <td>72914.0</td>\n",
       "    </tr>\n",
       "    <tr>\n",
       "      <th>...</th>\n",
       "      <td>...</td>\n",
       "      <td>...</td>\n",
       "      <td>...</td>\n",
       "      <td>...</td>\n",
       "      <td>...</td>\n",
       "      <td>...</td>\n",
       "    </tr>\n",
       "    <tr>\n",
       "      <th>2878</th>\n",
       "      <td>2020</td>\n",
       "      <td>106560525</td>\n",
       "      <td>639.0</td>\n",
       "      <td>21.0</td>\n",
       "      <td>24179.0</td>\n",
       "      <td>24839.0</td>\n",
       "    </tr>\n",
       "    <tr>\n",
       "      <th>2879</th>\n",
       "      <td>2020</td>\n",
       "      <td>106560529</td>\n",
       "      <td>1223.0</td>\n",
       "      <td>44.0</td>\n",
       "      <td>33635.0</td>\n",
       "      <td>34902.0</td>\n",
       "    </tr>\n",
       "    <tr>\n",
       "      <th>2880</th>\n",
       "      <td>2020</td>\n",
       "      <td>106571086</td>\n",
       "      <td>110.0</td>\n",
       "      <td>25.0</td>\n",
       "      <td>18460.0</td>\n",
       "      <td>18595.0</td>\n",
       "    </tr>\n",
       "    <tr>\n",
       "      <th>2881</th>\n",
       "      <td>2020</td>\n",
       "      <td>106574010</td>\n",
       "      <td>138.0</td>\n",
       "      <td>12.0</td>\n",
       "      <td>20895.0</td>\n",
       "      <td>21045.0</td>\n",
       "    </tr>\n",
       "    <tr>\n",
       "      <th>2882</th>\n",
       "      <td>2020</td>\n",
       "      <td>106580996</td>\n",
       "      <td>2900.0</td>\n",
       "      <td>95.0</td>\n",
       "      <td>48832.0</td>\n",
       "      <td>51827.0</td>\n",
       "    </tr>\n",
       "  </tbody>\n",
       "</table>\n",
       "<p>2883 rows × 6 columns</p>\n",
       "</div>"
      ],
      "text/plain": [
       "      year   oshpd_id  against_medical_advice   died  med_adv_flag  total_disp\n",
       "0     2012  106010735                   385.0   39.0       13155.0     13579.0\n",
       "1     2012  106010739                   242.0   25.0       34988.0     35255.0\n",
       "2     2012  106010776                   758.0    9.0       38443.0     39210.0\n",
       "3     2012  106010805                   332.0  100.0       30948.0     31380.0\n",
       "4     2012  106010846                   567.0  161.0       72186.0     72914.0\n",
       "...    ...        ...                     ...    ...           ...         ...\n",
       "2878  2020  106560525                   639.0   21.0       24179.0     24839.0\n",
       "2879  2020  106560529                  1223.0   44.0       33635.0     34902.0\n",
       "2880  2020  106571086                   110.0   25.0       18460.0     18595.0\n",
       "2881  2020  106574010                   138.0   12.0       20895.0     21045.0\n",
       "2882  2020  106580996                  2900.0   95.0       48832.0     51827.0\n",
       "\n",
       "[2883 rows x 6 columns]"
      ]
     },
     "metadata": {},
     "execution_count": 12
    }
   ],
   "metadata": {
    "ExecuteTime": {
     "end_time": "2021-09-09T05:34:19.874788Z",
     "start_time": "2021-09-09T05:34:19.860787Z"
    },
    "scrolled": true
   }
  },
  {
   "cell_type": "code",
   "execution_count": 13,
   "source": [
    "#summarize the data before calulating proportions for each disp profile\n",
    "\n",
    "df_grouped = df_disp.groupby(['year'])[['against_medical_advice', 'died' , 'med_adv_flag','total_disp']].sum().reset_index()\n",
    "\n",
    "prop_cols = ['against_medical_advice', 'died' , 'med_adv_flag']\n",
    "\n",
    "for col in df_grouped.columns.tolist():\n",
    "    if col in prop_cols:\n",
    "            colname = col + '_prop'\n",
    "            df_grouped[colname] = df_grouped[col] / df_grouped['total_disp']\n",
    "            print(colname)\n",
    "            \n",
    "df_grouped.head()"
   ],
   "outputs": [
    {
     "output_type": "stream",
     "name": "stdout",
     "text": [
      "against_medical_advice_prop\n",
      "died_prop\n",
      "med_adv_flag_prop\n"
     ]
    },
    {
     "output_type": "execute_result",
     "data": {
      "text/html": [
       "<div>\n",
       "<style scoped>\n",
       "    .dataframe tbody tr th:only-of-type {\n",
       "        vertical-align: middle;\n",
       "    }\n",
       "\n",
       "    .dataframe tbody tr th {\n",
       "        vertical-align: top;\n",
       "    }\n",
       "\n",
       "    .dataframe thead th {\n",
       "        text-align: right;\n",
       "    }\n",
       "</style>\n",
       "<table border=\"1\" class=\"dataframe\">\n",
       "  <thead>\n",
       "    <tr style=\"text-align: right;\">\n",
       "      <th></th>\n",
       "      <th>year</th>\n",
       "      <th>against_medical_advice</th>\n",
       "      <th>died</th>\n",
       "      <th>med_adv_flag</th>\n",
       "      <th>total_disp</th>\n",
       "      <th>against_medical_advice_prop</th>\n",
       "      <th>died_prop</th>\n",
       "      <th>med_adv_flag_prop</th>\n",
       "    </tr>\n",
       "  </thead>\n",
       "  <tbody>\n",
       "    <tr>\n",
       "      <th>0</th>\n",
       "      <td>2012</td>\n",
       "      <td>224657.0</td>\n",
       "      <td>16336.0</td>\n",
       "      <td>10235806.0</td>\n",
       "      <td>10476799.0</td>\n",
       "      <td>0.021443</td>\n",
       "      <td>0.001559</td>\n",
       "      <td>0.976997</td>\n",
       "    </tr>\n",
       "    <tr>\n",
       "      <th>1</th>\n",
       "      <td>2013</td>\n",
       "      <td>247230.0</td>\n",
       "      <td>16426.0</td>\n",
       "      <td>10532536.0</td>\n",
       "      <td>10796192.0</td>\n",
       "      <td>0.022900</td>\n",
       "      <td>0.001521</td>\n",
       "      <td>0.975579</td>\n",
       "    </tr>\n",
       "    <tr>\n",
       "      <th>2</th>\n",
       "      <td>2014</td>\n",
       "      <td>285659.0</td>\n",
       "      <td>15935.0</td>\n",
       "      <td>11144916.0</td>\n",
       "      <td>11446510.0</td>\n",
       "      <td>0.024956</td>\n",
       "      <td>0.001392</td>\n",
       "      <td>0.973652</td>\n",
       "    </tr>\n",
       "    <tr>\n",
       "      <th>3</th>\n",
       "      <td>2015</td>\n",
       "      <td>315322.0</td>\n",
       "      <td>16544.0</td>\n",
       "      <td>11893523.0</td>\n",
       "      <td>12225389.0</td>\n",
       "      <td>0.025792</td>\n",
       "      <td>0.001353</td>\n",
       "      <td>0.972854</td>\n",
       "    </tr>\n",
       "    <tr>\n",
       "      <th>4</th>\n",
       "      <td>2016</td>\n",
       "      <td>336901.0</td>\n",
       "      <td>16977.0</td>\n",
       "      <td>12154049.0</td>\n",
       "      <td>12507927.0</td>\n",
       "      <td>0.026935</td>\n",
       "      <td>0.001357</td>\n",
       "      <td>0.971708</td>\n",
       "    </tr>\n",
       "  </tbody>\n",
       "</table>\n",
       "</div>"
      ],
      "text/plain": [
       "   year  against_medical_advice     died  med_adv_flag  total_disp  \\\n",
       "0  2012                224657.0  16336.0    10235806.0  10476799.0   \n",
       "1  2013                247230.0  16426.0    10532536.0  10796192.0   \n",
       "2  2014                285659.0  15935.0    11144916.0  11446510.0   \n",
       "3  2015                315322.0  16544.0    11893523.0  12225389.0   \n",
       "4  2016                336901.0  16977.0    12154049.0  12507927.0   \n",
       "\n",
       "   against_medical_advice_prop  died_prop  med_adv_flag_prop  \n",
       "0                     0.021443   0.001559           0.976997  \n",
       "1                     0.022900   0.001521           0.975579  \n",
       "2                     0.024956   0.001392           0.973652  \n",
       "3                     0.025792   0.001353           0.972854  \n",
       "4                     0.026935   0.001357           0.971708  "
      ]
     },
     "metadata": {},
     "execution_count": 13
    }
   ],
   "metadata": {
    "ExecuteTime": {
     "end_time": "2021-09-09T05:34:19.905787Z",
     "start_time": "2021-09-09T05:34:19.875788Z"
    }
   }
  },
  {
   "cell_type": "markdown",
   "source": [
    "**Comment**\n",
    "\n",
    "Since the data is from 2012, after a major economic crisis, the starting range seems appropriate. However, an unusual number of emergency visits was recorded in 2020, the time range will be changed to 2019 for time series analysis."
   ],
   "metadata": {
    "ExecuteTime": {
     "end_time": "2021-09-04T05:22:15.690281Z",
     "start_time": "2021-09-04T05:22:15.673291Z"
    }
   }
  },
  {
   "cell_type": "code",
   "execution_count": 14,
   "source": [
    "df_pivoted = df_grouped.melt(id_vars = ['year'] , value_vars = ['against_medical_advice_prop',\n",
    "                                                                           'died_prop' , 'med_adv_flag_prop'], \n",
    "                          var_name='disp_profile', value_name='disp_count'\n",
    "                         ).sort_values(by=['year']).reset_index(drop=True)\n",
    "\n",
    "df_pivoted.head()"
   ],
   "outputs": [
    {
     "output_type": "execute_result",
     "data": {
      "text/html": [
       "<div>\n",
       "<style scoped>\n",
       "    .dataframe tbody tr th:only-of-type {\n",
       "        vertical-align: middle;\n",
       "    }\n",
       "\n",
       "    .dataframe tbody tr th {\n",
       "        vertical-align: top;\n",
       "    }\n",
       "\n",
       "    .dataframe thead th {\n",
       "        text-align: right;\n",
       "    }\n",
       "</style>\n",
       "<table border=\"1\" class=\"dataframe\">\n",
       "  <thead>\n",
       "    <tr style=\"text-align: right;\">\n",
       "      <th></th>\n",
       "      <th>year</th>\n",
       "      <th>disp_profile</th>\n",
       "      <th>disp_count</th>\n",
       "    </tr>\n",
       "  </thead>\n",
       "  <tbody>\n",
       "    <tr>\n",
       "      <th>0</th>\n",
       "      <td>2012</td>\n",
       "      <td>against_medical_advice_prop</td>\n",
       "      <td>0.021443</td>\n",
       "    </tr>\n",
       "    <tr>\n",
       "      <th>1</th>\n",
       "      <td>2012</td>\n",
       "      <td>med_adv_flag_prop</td>\n",
       "      <td>0.976997</td>\n",
       "    </tr>\n",
       "    <tr>\n",
       "      <th>2</th>\n",
       "      <td>2012</td>\n",
       "      <td>died_prop</td>\n",
       "      <td>0.001559</td>\n",
       "    </tr>\n",
       "    <tr>\n",
       "      <th>3</th>\n",
       "      <td>2013</td>\n",
       "      <td>against_medical_advice_prop</td>\n",
       "      <td>0.022900</td>\n",
       "    </tr>\n",
       "    <tr>\n",
       "      <th>4</th>\n",
       "      <td>2013</td>\n",
       "      <td>med_adv_flag_prop</td>\n",
       "      <td>0.975579</td>\n",
       "    </tr>\n",
       "  </tbody>\n",
       "</table>\n",
       "</div>"
      ],
      "text/plain": [
       "   year                 disp_profile  disp_count\n",
       "0  2012  against_medical_advice_prop    0.021443\n",
       "1  2012            med_adv_flag_prop    0.976997\n",
       "2  2012                    died_prop    0.001559\n",
       "3  2013  against_medical_advice_prop    0.022900\n",
       "4  2013            med_adv_flag_prop    0.975579"
      ]
     },
     "metadata": {},
     "execution_count": 14
    }
   ],
   "metadata": {
    "ExecuteTime": {
     "end_time": "2021-09-09T05:34:19.921788Z",
     "start_time": "2021-09-09T05:34:19.906788Z"
    },
    "scrolled": true
   }
  },
  {
   "cell_type": "code",
   "execution_count": 15,
   "source": [
    "df_pivoted2 = df_grouped.melt(id_vars = ['year'] , value_vars = ['against_medical_advice',\n",
    "                                                                           'died' , 'med_adv_flag'], \n",
    "                          var_name='disp_profile', value_name='disp_count'\n",
    "                         ).sort_values(by=['year']).reset_index(drop=True)\n",
    "\n",
    "df_pivoted2.head()"
   ],
   "outputs": [
    {
     "output_type": "execute_result",
     "data": {
      "text/html": [
       "<div>\n",
       "<style scoped>\n",
       "    .dataframe tbody tr th:only-of-type {\n",
       "        vertical-align: middle;\n",
       "    }\n",
       "\n",
       "    .dataframe tbody tr th {\n",
       "        vertical-align: top;\n",
       "    }\n",
       "\n",
       "    .dataframe thead th {\n",
       "        text-align: right;\n",
       "    }\n",
       "</style>\n",
       "<table border=\"1\" class=\"dataframe\">\n",
       "  <thead>\n",
       "    <tr style=\"text-align: right;\">\n",
       "      <th></th>\n",
       "      <th>year</th>\n",
       "      <th>disp_profile</th>\n",
       "      <th>disp_count</th>\n",
       "    </tr>\n",
       "  </thead>\n",
       "  <tbody>\n",
       "    <tr>\n",
       "      <th>0</th>\n",
       "      <td>2012</td>\n",
       "      <td>against_medical_advice</td>\n",
       "      <td>224657.0</td>\n",
       "    </tr>\n",
       "    <tr>\n",
       "      <th>1</th>\n",
       "      <td>2012</td>\n",
       "      <td>med_adv_flag</td>\n",
       "      <td>10235806.0</td>\n",
       "    </tr>\n",
       "    <tr>\n",
       "      <th>2</th>\n",
       "      <td>2012</td>\n",
       "      <td>died</td>\n",
       "      <td>16336.0</td>\n",
       "    </tr>\n",
       "    <tr>\n",
       "      <th>3</th>\n",
       "      <td>2013</td>\n",
       "      <td>against_medical_advice</td>\n",
       "      <td>247230.0</td>\n",
       "    </tr>\n",
       "    <tr>\n",
       "      <th>4</th>\n",
       "      <td>2013</td>\n",
       "      <td>med_adv_flag</td>\n",
       "      <td>10532536.0</td>\n",
       "    </tr>\n",
       "  </tbody>\n",
       "</table>\n",
       "</div>"
      ],
      "text/plain": [
       "   year            disp_profile  disp_count\n",
       "0  2012  against_medical_advice    224657.0\n",
       "1  2012            med_adv_flag  10235806.0\n",
       "2  2012                    died     16336.0\n",
       "3  2013  against_medical_advice    247230.0\n",
       "4  2013            med_adv_flag  10532536.0"
      ]
     },
     "metadata": {},
     "execution_count": 15
    }
   ],
   "metadata": {
    "ExecuteTime": {
     "end_time": "2021-09-09T05:34:19.937787Z",
     "start_time": "2021-09-09T05:34:19.922787Z"
    },
    "scrolled": true
   }
  },
  {
   "cell_type": "code",
   "execution_count": 16,
   "source": [
    "# plt.figure(figsize = (10,8), dpi = 100)\n",
    "\n",
    "# g = sns.FacetGrid(df_pivoted2, col = 'disp_profile', margin_titles=True);\n",
    "# g.map(sns.lineplot,'year','disp_count');"
   ],
   "outputs": [],
   "metadata": {
    "ExecuteTime": {
     "end_time": "2021-09-09T05:34:19.953785Z",
     "start_time": "2021-09-09T05:34:19.938788Z"
    },
    "scrolled": false
   }
  },
  {
   "cell_type": "code",
   "execution_count": 17,
   "source": [
    "# plt.figure(figsize = (10,8), dpi = 100)\n",
    "sns.lineplot(x = 'year', y = 'disp_count', hue = 'disp_profile',\n",
    "             data = df_pivoted[df_pivoted['disp_profile'].isin(['against_medical_advice_prop'])]);"
   ],
   "outputs": [
    {
     "output_type": "display_data",
     "data": {
      "image/png": "[encoded data removed]",
      "text/plain": [
       "<Figure size 432x288 with 1 Axes>"
      ]
     },
     "metadata": {
      "needs_background": "light"
     }
    }
   ],
   "metadata": {
    "ExecuteTime": {
     "end_time": "2021-09-09T05:34:20.111787Z",
     "start_time": "2021-09-09T05:34:19.954789Z"
    },
    "scrolled": false
   }
  },
  {
   "cell_type": "code",
   "execution_count": 18,
   "source": [
    "# plt.figure(figsize = (10,8), dpi = 100)\n",
    "sns.lineplot(x = 'year', y = 'disp_count', hue = 'disp_profile',\n",
    "             data = df_pivoted[df_pivoted['disp_profile'].isin(['med_adv_flag_prop'])]);"
   ],
   "outputs": [
    {
     "output_type": "display_data",
     "data": {
      "image/png": "[encoded data removed]",
      "text/plain": [
       "<Figure size 432x288 with 1 Axes>"
      ]
     },
     "metadata": {
      "needs_background": "light"
     }
    }
   ],
   "metadata": {
    "ExecuteTime": {
     "end_time": "2021-09-09T05:34:20.255788Z",
     "start_time": "2021-09-09T05:34:20.112786Z"
    },
    "scrolled": false
   }
  },
  {
   "cell_type": "code",
   "execution_count": 19,
   "source": [
    "# plt.figure(figsize = (10,8), dpi = 100)\n",
    "sns.lineplot(x = 'year', y = 'disp_count', hue = 'disp_profile',\n",
    "             data = df_pivoted[df_pivoted['disp_profile'].isin(['died_prop'])]);"
   ],
   "outputs": [
    {
     "output_type": "display_data",
     "data": {
      "image/png": "[encoded data removed]",
      "text/plain": [
       "<Figure size 432x288 with 1 Axes>"
      ]
     },
     "metadata": {
      "needs_background": "light"
     }
    }
   ],
   "metadata": {
    "ExecuteTime": {
     "end_time": "2021-09-09T05:34:20.414786Z",
     "start_time": "2021-09-09T05:34:20.256788Z"
    },
    "scrolled": false
   }
  },
  {
   "cell_type": "markdown",
   "source": [
    "### Race groups"
   ],
   "metadata": {}
  },
  {
   "cell_type": "code",
   "execution_count": 22,
   "source": [
    "df.columns"
   ],
   "outputs": [
    {
     "output_type": "execute_result",
     "data": {
      "text/plain": [
       "Index(['year', 'oshpd_id', 'county_number', 'county_name', 'facility_name',\n",
       "       'dba_address1', 'dba_city', 'dba_zip_code', 'license_category_desc',\n",
       "       'teaching_hospital_desc', 'licensed_bed_size', 'er_service_level',\n",
       "       'sex_male', 'sex_female', 'sex_unk', 'age_01_09', 'age_10_19',\n",
       "       'age_20_29', 'age_30_39', 'age_40_49', 'age_50_59', 'age_60_69',\n",
       "       'age_70_79', 'age_80_', 'age_under_1', 'age_unknown',\n",
       "       'asian_pacific_island', 'black', 'hispanic', 'native_american_eski',\n",
       "       'other_race', 'unknown_race', 'white', 'acute_care',\n",
       "       'against_medical_advice', 'died', 'hospice_care', 'home_health_service',\n",
       "       'residential_care', 'routine', 'psychiatric_care', 'sn_ic_care',\n",
       "       'medi_cal', 'medicare', 'other_payer', 'private_coverage', 'selfpay',\n",
       "       'all_other', 'english', 'spanish', 'ed_admit', 'ed_visit', 'cluster'],\n",
       "      dtype='object')"
      ]
     },
     "metadata": {},
     "execution_count": 22
    }
   ],
   "metadata": {
    "ExecuteTime": {
     "end_time": "2021-09-09T05:40:43.723279Z",
     "start_time": "2021-09-09T05:40:43.707279Z"
    }
   }
  },
  {
   "cell_type": "code",
   "execution_count": 39,
   "source": [
    "df_race = df[['year','county_name', 'oshpd_id', 'asian_pacific_island', 'black', 'hispanic', 'native_american_eski','other_race', 'unknown_race', 'white','cluster']]"
   ],
   "outputs": [],
   "metadata": {
    "ExecuteTime": {
     "end_time": "2021-09-09T06:46:30.630042Z",
     "start_time": "2021-09-09T06:46:30.620051Z"
    }
   }
  },
  {
   "cell_type": "code",
   "execution_count": 40,
   "source": [
    "df_race = df_race.melt(id_vars = ['year','oshpd_id','county_name','cluster'],\n",
    "                       value_vars = ['asian_pacific_island', 'black', 'hispanic', 'native_american_eski','other_race', 'unknown_race', 'white'],\n",
    "                      var_name = 'race_group', value_name = 'race_count'). sort_values(by = ['year']).reset_index(drop = True)\n",
    "\n",
    "df_race"
   ],
   "outputs": [
    {
     "output_type": "execute_result",
     "data": {
      "text/html": [
       "<div>\n",
       "<style scoped>\n",
       "    .dataframe tbody tr th:only-of-type {\n",
       "        vertical-align: middle;\n",
       "    }\n",
       "\n",
       "    .dataframe tbody tr th {\n",
       "        vertical-align: top;\n",
       "    }\n",
       "\n",
       "    .dataframe thead th {\n",
       "        text-align: right;\n",
       "    }\n",
       "</style>\n",
       "<table border=\"1\" class=\"dataframe\">\n",
       "  <thead>\n",
       "    <tr style=\"text-align: right;\">\n",
       "      <th></th>\n",
       "      <th>year</th>\n",
       "      <th>oshpd_id</th>\n",
       "      <th>county_name</th>\n",
       "      <th>cluster</th>\n",
       "      <th>race_group</th>\n",
       "      <th>race_count</th>\n",
       "    </tr>\n",
       "  </thead>\n",
       "  <tbody>\n",
       "    <tr>\n",
       "      <th>0</th>\n",
       "      <td>2012</td>\n",
       "      <td>106010735</td>\n",
       "      <td>Alameda</td>\n",
       "      <td>3</td>\n",
       "      <td>asian_pacific_island</td>\n",
       "      <td>1335.0</td>\n",
       "    </tr>\n",
       "    <tr>\n",
       "      <th>1</th>\n",
       "      <td>2012</td>\n",
       "      <td>106190754</td>\n",
       "      <td>Los Angeles</td>\n",
       "      <td>0</td>\n",
       "      <td>white</td>\n",
       "      <td>2583.0</td>\n",
       "    </tr>\n",
       "    <tr>\n",
       "      <th>2</th>\n",
       "      <td>2012</td>\n",
       "      <td>106190708</td>\n",
       "      <td>Los Angeles</td>\n",
       "      <td>3</td>\n",
       "      <td>white</td>\n",
       "      <td>9397.0</td>\n",
       "    </tr>\n",
       "    <tr>\n",
       "      <th>3</th>\n",
       "      <td>2012</td>\n",
       "      <td>106190696</td>\n",
       "      <td>Los Angeles</td>\n",
       "      <td>3</td>\n",
       "      <td>white</td>\n",
       "      <td>1295.0</td>\n",
       "    </tr>\n",
       "    <tr>\n",
       "      <th>4</th>\n",
       "      <td>2012</td>\n",
       "      <td>106190687</td>\n",
       "      <td>Los Angeles</td>\n",
       "      <td>3</td>\n",
       "      <td>white</td>\n",
       "      <td>17990.0</td>\n",
       "    </tr>\n",
       "    <tr>\n",
       "      <th>...</th>\n",
       "      <td>...</td>\n",
       "      <td>...</td>\n",
       "      <td>...</td>\n",
       "      <td>...</td>\n",
       "      <td>...</td>\n",
       "      <td>...</td>\n",
       "    </tr>\n",
       "    <tr>\n",
       "      <th>20176</th>\n",
       "      <td>2020</td>\n",
       "      <td>106341051</td>\n",
       "      <td>Sacramento</td>\n",
       "      <td>1</td>\n",
       "      <td>asian_pacific_island</td>\n",
       "      <td>4761.0</td>\n",
       "    </tr>\n",
       "    <tr>\n",
       "      <th>20177</th>\n",
       "      <td>2020</td>\n",
       "      <td>106341006</td>\n",
       "      <td>Sacramento</td>\n",
       "      <td>0</td>\n",
       "      <td>asian_pacific_island</td>\n",
       "      <td>2908.0</td>\n",
       "    </tr>\n",
       "    <tr>\n",
       "      <th>20178</th>\n",
       "      <td>2020</td>\n",
       "      <td>106340951</td>\n",
       "      <td>Sacramento</td>\n",
       "      <td>0</td>\n",
       "      <td>asian_pacific_island</td>\n",
       "      <td>5614.0</td>\n",
       "    </tr>\n",
       "    <tr>\n",
       "      <th>20179</th>\n",
       "      <td>2020</td>\n",
       "      <td>106340947</td>\n",
       "      <td>Sacramento</td>\n",
       "      <td>3</td>\n",
       "      <td>asian_pacific_island</td>\n",
       "      <td>2096.0</td>\n",
       "    </tr>\n",
       "    <tr>\n",
       "      <th>20180</th>\n",
       "      <td>2020</td>\n",
       "      <td>106580996</td>\n",
       "      <td>Yuba</td>\n",
       "      <td>0</td>\n",
       "      <td>white</td>\n",
       "      <td>13.0</td>\n",
       "    </tr>\n",
       "  </tbody>\n",
       "</table>\n",
       "<p>20181 rows × 6 columns</p>\n",
       "</div>"
      ],
      "text/plain": [
       "       year   oshpd_id  county_name  cluster            race_group  race_count\n",
       "0      2012  106010735      Alameda        3  asian_pacific_island      1335.0\n",
       "1      2012  106190754  Los Angeles        0                 white      2583.0\n",
       "2      2012  106190708  Los Angeles        3                 white      9397.0\n",
       "3      2012  106190696  Los Angeles        3                 white      1295.0\n",
       "4      2012  106190687  Los Angeles        3                 white     17990.0\n",
       "...     ...        ...          ...      ...                   ...         ...\n",
       "20176  2020  106341051   Sacramento        1  asian_pacific_island      4761.0\n",
       "20177  2020  106341006   Sacramento        0  asian_pacific_island      2908.0\n",
       "20178  2020  106340951   Sacramento        0  asian_pacific_island      5614.0\n",
       "20179  2020  106340947   Sacramento        3  asian_pacific_island      2096.0\n",
       "20180  2020  106580996         Yuba        0                 white        13.0\n",
       "\n",
       "[20181 rows x 6 columns]"
      ]
     },
     "metadata": {},
     "execution_count": 40
    }
   ],
   "metadata": {
    "ExecuteTime": {
     "end_time": "2021-09-09T06:46:33.217819Z",
     "start_time": "2021-09-09T06:46:33.188779Z"
    },
    "scrolled": false
   }
  },
  {
   "cell_type": "code",
   "execution_count": 43,
   "source": [
    "df_race.isna().sum()"
   ],
   "outputs": [
    {
     "output_type": "execute_result",
     "data": {
      "text/plain": [
       "year           0\n",
       "oshpd_id       0\n",
       "county_name    0\n",
       "cluster        0\n",
       "race_group     0\n",
       "race_count     0\n",
       "dtype: int64"
      ]
     },
     "metadata": {},
     "execution_count": 43
    }
   ],
   "metadata": {
    "ExecuteTime": {
     "end_time": "2021-09-09T06:49:31.865071Z",
     "start_time": "2021-09-09T06:49:31.844071Z"
    }
   }
  },
  {
   "cell_type": "code",
   "execution_count": 44,
   "source": [
    "df_race.to_csv(os.path.join(data_path,'Prepared', '6.race_by_year.csv'), index = 0)"
   ],
   "outputs": [],
   "metadata": {
    "ExecuteTime": {
     "end_time": "2021-09-09T06:49:43.301114Z",
     "start_time": "2021-09-09T06:49:43.236101Z"
    }
   }
  }
 ],
 "metadata": {
  "kernelspec": {
   "display_name": "Python 3",
   "language": "python",
   "name": "python3"
  },
  "language_info": {
   "codemirror_mode": {
    "name": "ipython",
    "version": 3
   },
   "file_extension": ".py",
   "mimetype": "text/x-python",
   "name": "python",
   "nbconvert_exporter": "python",
   "pygments_lexer": "ipython3",
   "version": "3.8.5"
  },
  "varInspector": {
   "cols": {
    "lenName": 16,
    "lenType": 16,
    "lenVar": 40
   },
   "kernels_config": {
    "python": {
     "delete_cmd_postfix": "",
     "delete_cmd_prefix": "del ",
     "library": "var_list.py",
     "varRefreshCmd": "print(var_dic_list())"
    },
    "r": {
     "delete_cmd_postfix": ") ",
     "delete_cmd_prefix": "rm(",
     "library": "var_list.r",
     "varRefreshCmd": "cat(var_dic_list()) "
    }
   },
   "types_to_exclude": [
    "module",
    "function",
    "builtin_function_or_method",
    "instance",
    "_Feature"
   ],
   "window_display": false
  }
 },
 "nbformat": 4,
 "nbformat_minor": 5
}